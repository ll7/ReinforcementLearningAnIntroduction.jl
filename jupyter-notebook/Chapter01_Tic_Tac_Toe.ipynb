{
 "cells": [
  {
   "cell_type": "code",
   "execution_count": 18,
   "metadata": {},
   "outputs": [],
   "source": [
    "using ReinforcementLearning"
   ]
  },
  {
   "cell_type": "code",
   "execution_count": 19,
   "metadata": {},
   "outputs": [
    {
     "data": {
      "text/markdown": [
       "# TicTacToeEnv\n",
       "\n",
       "## Traits\n",
       "\n",
       "| Trait Type        |                                                                     Value |\n",
       "|:----------------- | -------------------------------------------------------------------------:|\n",
       "| NumAgentStyle     |                                                           MultiAgent{2}() |\n",
       "| DynamicStyle      |                                                              Sequential() |\n",
       "| InformationStyle  |                                                      PerfectInformation() |\n",
       "| ChanceStyle       |                                                           Deterministic() |\n",
       "| RewardStyle       |                                                          TerminalReward() |\n",
       "| UtilityStyle      |                                                                 ZeroSum() |\n",
       "| ActionStyle       |                                                           FullActionSet() |\n",
       "| StateStyle        | (Observation{String}(), Observation{Int64}(), Observation{BitArray{3}}()) |\n",
       "| DefaultStateStyle |                                                     Observation{String}() |\n",
       "\n",
       "## Is Environment Terminated?\n",
       "\n",
       "No\n",
       "\n",
       "## State Space\n",
       "\n",
       "`WorldSpace{String}()`\n",
       "\n",
       "## Action Space\n",
       "\n",
       "`Base.OneTo(9)`\n",
       "\n",
       "## Players\n",
       "\n",
       "  * `ReinforcementLearningEnvironments.Cross()`\n",
       "  * `ReinforcementLearningEnvironments.Nought()`\n",
       "\n",
       "## Current Player\n",
       "\n",
       "`ReinforcementLearningEnvironments.Cross()`\n",
       "\n",
       "## Current State\n",
       "\n",
       "```\n",
       "...\n",
       "...\n",
       "...\n",
       "\n",
       "```\n"
      ],
      "text/plain": [
       "# TicTacToeEnv\n",
       "\n",
       "## Traits\n",
       "\n",
       "| Trait Type        |                                                                     Value |\n",
       "|:----------------- | -------------------------------------------------------------------------:|\n",
       "| NumAgentStyle     |                                                           MultiAgent{2}() |\n",
       "| DynamicStyle      |                                                              Sequential() |\n",
       "| InformationStyle  |                                                      PerfectInformation() |\n",
       "| ChanceStyle       |                                                           Deterministic() |\n",
       "| RewardStyle       |                                                          TerminalReward() |\n",
       "| UtilityStyle      |                                                                 ZeroSum() |\n",
       "| ActionStyle       |                                                           FullActionSet() |\n",
       "| StateStyle        | (Observation{String}(), Observation{Int64}(), Observation{BitArray{3}}()) |\n",
       "| DefaultStateStyle |                                                     Observation{String}() |\n",
       "\n",
       "## Is Environment Terminated?\n",
       "\n",
       "No\n",
       "\n",
       "## State Space\n",
       "\n",
       "`WorldSpace{String}()`\n",
       "\n",
       "## Action Space\n",
       "\n",
       "`Base.OneTo(9)`\n",
       "\n",
       "## Players\n",
       "\n",
       "  * `ReinforcementLearningEnvironments.Cross()`\n",
       "  * `ReinforcementLearningEnvironments.Nought()`\n",
       "\n",
       "## Current Player\n",
       "\n",
       "`ReinforcementLearningEnvironments.Cross()`\n",
       "\n",
       "## Current State\n",
       "\n",
       "```\n",
       "...\n",
       "...\n",
       "...\n",
       "\n",
       "```\n"
      ]
     },
     "metadata": {},
     "output_type": "display_data"
    }
   ],
   "source": [
    "env = TicTacToeEnv()"
   ]
  },
  {
   "cell_type": "code",
   "execution_count": 20,
   "metadata": {},
   "outputs": [
    {
     "data": {
      "text/plain": [
       "...\n",
       "...\n",
       "...\n"
      ]
     },
     "metadata": {},
     "output_type": "display_data"
    }
   ],
   "source": [
    "state(env) |> Text"
   ]
  },
  {
   "cell_type": "code",
   "execution_count": 21,
   "metadata": {},
   "outputs": [
    {
     "data": {
      "text/plain": [
       "1"
      ]
     },
     "metadata": {},
     "output_type": "display_data"
    }
   ],
   "source": [
    "state(env, Observation{Int}())"
   ]
  },
  {
   "cell_type": "code",
   "execution_count": 22,
   "metadata": {},
   "outputs": [
    {
     "data": {
      "text/plain": [
       "3×3×3 BitArray{3}:\n",
       "[:, :, 1] =\n",
       " 1  1  1\n",
       " 1  1  1\n",
       " 1  1  1\n",
       "\n",
       "[:, :, 2] =\n",
       " 0  0  0\n",
       " 0  0  0\n",
       " 0  0  0\n",
       "\n",
       "[:, :, 3] =\n",
       " 0  0  0\n",
       " 0  0  0\n",
       " 0  0  0"
      ]
     },
     "metadata": {},
     "output_type": "display_data"
    }
   ],
   "source": [
    "state(env, Observation{BitArray{3}}())"
   ]
  },
  {
   "cell_type": "code",
   "execution_count": 27,
   "metadata": {},
   "outputs": [
    {
     "data": {
      "text/plain": [
       "xox\n",
       "ox.\n",
       "xo.\n"
      ]
     },
     "metadata": {},
     "output_type": "display_data"
    }
   ],
   "source": [
    "env(1)\n",
    "env(2)\n",
    "env(3)\n",
    "env(4)\n",
    "env(5)\n",
    "env(6)\n",
    "env(7)\n",
    "state(env) |> Text"
   ]
  },
  {
   "cell_type": "code",
   "execution_count": 28,
   "metadata": {},
   "outputs": [
    {
     "data": {
      "text/plain": [
       "(true, [1, -1])"
      ]
     },
     "metadata": {},
     "output_type": "display_data"
    }
   ],
   "source": [
    "is_terminated(env), [reward(env, p) for p in players(env)]"
   ]
  },
  {
   "cell_type": "code",
   "execution_count": 30,
   "metadata": {},
   "outputs": [
    {
     "data": {
      "text/plain": [
       "ReinforcementLearningEnvironments.Cross()"
      ]
     },
     "metadata": {},
     "output_type": "display_data"
    }
   ],
   "source": [
    "reset!(env)"
   ]
  },
  {
   "cell_type": "code",
   "execution_count": 31,
   "metadata": {},
   "outputs": [
    {
     "data": {
      "text/plain": [
       "...\n",
       "...\n",
       "...\n"
      ]
     },
     "metadata": {},
     "output_type": "display_data"
    }
   ],
   "source": [
    "state(env) |> Text"
   ]
  },
  {
   "cell_type": "markdown",
   "metadata": {},
   "source": [
    "## Random Policy"
   ]
  },
  {
   "cell_type": "code",
   "execution_count": 33,
   "metadata": {},
   "outputs": [
    {
     "data": {
      "text/plain": [
       "typename(RandomPolicy)\n",
       "├─ action_space => typename(Nothing)\n",
       "└─ rng => typename(Random._GLOBAL_RNG)\n"
      ]
     },
     "metadata": {},
     "output_type": "display_data"
    }
   ],
   "source": [
    "policy = RandomPolicy()"
   ]
  },
  {
   "cell_type": "code",
   "execution_count": 34,
   "metadata": {},
   "outputs": [
    {
     "data": {
      "text/plain": [
       "10-element Vector{Int64}:\n",
       " 4\n",
       " 8\n",
       " 7\n",
       " 8\n",
       " 6\n",
       " 9\n",
       " 9\n",
       " 4\n",
       " 1\n",
       " 5"
      ]
     },
     "metadata": {},
     "output_type": "display_data"
    }
   ],
   "source": [
    "[policy(env) for _ in 1:10]"
   ]
  },
  {
   "cell_type": "code",
   "execution_count": 35,
   "metadata": {},
   "outputs": [
    {
     "data": {
      "text/plain": [
       "...\n",
       "...\n",
       "...\n"
      ]
     },
     "metadata": {},
     "output_type": "display_data"
    }
   ],
   "source": [
    "state(env) |> Text"
   ]
  },
  {
   "cell_type": "markdown",
   "metadata": {},
   "source": [
    "### Policy + Environment"
   ]
  },
  {
   "cell_type": "code",
   "execution_count": 36,
   "metadata": {},
   "outputs": [
    {
     "data": {
      "text/plain": [
       "EmptyHook()"
      ]
     },
     "metadata": {},
     "output_type": "display_data"
    }
   ],
   "source": [
    "run(policy, env, StopAfterEpisode(1))"
   ]
  },
  {
   "cell_type": "code",
   "execution_count": 37,
   "metadata": {},
   "outputs": [
    {
     "data": {
      "text/plain": [
       "typename(MultiAgentManager)\n",
       "└─ agents => typename(Dict)\n"
      ]
     },
     "metadata": {},
     "output_type": "display_data"
    }
   ],
   "source": [
    "multi_agent_policy = MultiAgentManager(\n",
    "\t(\n",
    "\t\tNamedPolicy(p=>RandomPolicy())\n",
    "\t\tfor p in players(env)\n",
    "\t)...\n",
    ")"
   ]
  },
  {
   "cell_type": "code",
   "execution_count": 38,
   "metadata": {},
   "outputs": [
    {
     "data": {
      "text/plain": [
       "MultiAgentHook(Dict{Any, Any}(ReinforcementLearningEnvironments.Nought() => TotalRewardPerEpisode(Float64[], 0.0, true), ReinforcementLearningEnvironments.Cross() => TotalRewardPerEpisode(Float64[], 0.0, true)))"
      ]
     },
     "metadata": {},
     "output_type": "display_data"
    }
   ],
   "source": [
    "multi_agent_hook = MultiAgentHook(\n",
    "\t(\n",
    "\t\tp => TotalRewardPerEpisode()\n",
    "\t\tfor p in players(env)\n",
    "\t)...\n",
    ")"
   ]
  },
  {
   "cell_type": "code",
   "execution_count": 39,
   "metadata": {},
   "outputs": [
    {
     "name": "stdout",
     "output_type": "stream",
     "text": [
      "            ⠀⠀⠀⠀⠀⠀⠀⠀⠀\u001b[1mTotal reward per episode\u001b[22m⠀⠀⠀⠀⠀⠀⠀⠀⠀ \n",
      "            \u001b[90m┌────────────────────────────────────────┐\u001b[39m \n",
      "          \u001b[90m1\u001b[39m \u001b[90m│\u001b[39m\u001b[38;5;2m⠉\u001b[39m\u001b[38;5;2m⠉\u001b[39m\u001b[38;5;2m⠉\u001b[39m\u001b[38;5;2m⠉\u001b[39m\u001b[38;5;2m⠉\u001b[39m\u001b[38;5;2m⠉\u001b[39m\u001b[38;5;2m⠉\u001b[39m\u001b[38;5;2m⠉\u001b[39m\u001b[38;5;2m⠙\u001b[39m\u001b[38;5;2m⡄\u001b[39m\u001b[0m⠀\u001b[0m⠀\u001b[0m⠀\u001b[0m⠀\u001b[0m⠀\u001b[0m⠀\u001b[0m⠀\u001b[0m⠀\u001b[0m⠀\u001b[0m⠀\u001b[0m⠀\u001b[38;5;2m⢀\u001b[39m\u001b[38;5;2m⡇\u001b[39m\u001b[0m⠀\u001b[0m⠀\u001b[0m⠀\u001b[0m⠀\u001b[0m⠀\u001b[0m⠀\u001b[0m⠀\u001b[0m⠀\u001b[0m⠀\u001b[0m⠀\u001b[0m⠀\u001b[0m⠀\u001b[0m⠀\u001b[0m⠀\u001b[0m⠀\u001b[0m⠀\u001b[0m⠀\u001b[90m│\u001b[39m \n",
      "            \u001b[90m│\u001b[39m\u001b[0m⠀\u001b[0m⠀\u001b[0m⠀\u001b[0m⠀\u001b[0m⠀\u001b[0m⠀\u001b[0m⠀\u001b[0m⠀\u001b[0m⠀\u001b[38;5;2m⡇\u001b[39m\u001b[0m⠀\u001b[0m⠀\u001b[0m⠀\u001b[0m⠀\u001b[0m⠀\u001b[0m⠀\u001b[0m⠀\u001b[0m⠀\u001b[0m⠀\u001b[0m⠀\u001b[0m⠀\u001b[38;5;2m⢸\u001b[39m\u001b[38;5;2m⢸\u001b[39m\u001b[0m⠀\u001b[0m⠀\u001b[0m⠀\u001b[0m⠀\u001b[0m⠀\u001b[0m⠀\u001b[0m⠀\u001b[0m⠀\u001b[0m⠀\u001b[0m⠀\u001b[0m⠀\u001b[0m⠀\u001b[0m⠀\u001b[0m⠀\u001b[0m⠀\u001b[0m⠀\u001b[0m⠀\u001b[90m│\u001b[39m \n",
      "            \u001b[90m│\u001b[39m\u001b[0m⠀\u001b[0m⠀\u001b[0m⠀\u001b[0m⠀\u001b[0m⠀\u001b[0m⠀\u001b[0m⠀\u001b[0m⠀\u001b[0m⠀\u001b[38;5;2m⢱\u001b[39m\u001b[0m⠀\u001b[0m⠀\u001b[0m⠀\u001b[0m⠀\u001b[0m⠀\u001b[0m⠀\u001b[0m⠀\u001b[0m⠀\u001b[0m⠀\u001b[0m⠀\u001b[0m⠀\u001b[38;5;2m⡜\u001b[39m\u001b[38;5;2m⠸\u001b[39m\u001b[38;5;2m⡀\u001b[39m\u001b[0m⠀\u001b[0m⠀\u001b[0m⠀\u001b[0m⠀\u001b[0m⠀\u001b[0m⠀\u001b[0m⠀\u001b[0m⠀\u001b[0m⠀\u001b[0m⠀\u001b[0m⠀\u001b[0m⠀\u001b[0m⠀\u001b[0m⠀\u001b[0m⠀\u001b[0m⠀\u001b[90m│\u001b[39m \n",
      "            \u001b[90m│\u001b[39m\u001b[0m⠀\u001b[0m⠀\u001b[0m⠀\u001b[0m⠀\u001b[0m⠀\u001b[0m⠀\u001b[0m⠀\u001b[0m⠀\u001b[0m⠀\u001b[38;5;2m⠸\u001b[39m\u001b[38;5;2m⡀\u001b[39m\u001b[0m⠀\u001b[0m⠀\u001b[0m⠀\u001b[0m⠀\u001b[0m⠀\u001b[0m⠀\u001b[0m⠀\u001b[0m⠀\u001b[0m⠀\u001b[0m⠀\u001b[38;5;2m⡇\u001b[39m\u001b[0m⠀\u001b[38;5;2m⡇\u001b[39m\u001b[0m⠀\u001b[0m⠀\u001b[0m⠀\u001b[0m⠀\u001b[0m⠀\u001b[0m⠀\u001b[0m⠀\u001b[0m⠀\u001b[0m⠀\u001b[0m⠀\u001b[0m⠀\u001b[0m⠀\u001b[0m⠀\u001b[0m⠀\u001b[0m⠀\u001b[0m⠀\u001b[90m│\u001b[39m \n",
      "            \u001b[90m│\u001b[39m\u001b[0m⠀\u001b[0m⠀\u001b[0m⠀\u001b[0m⠀\u001b[0m⠀\u001b[0m⠀\u001b[0m⠀\u001b[0m⠀\u001b[0m⠀\u001b[0m⠀\u001b[38;5;2m⡇\u001b[39m\u001b[0m⠀\u001b[0m⠀\u001b[0m⠀\u001b[0m⠀\u001b[0m⠀\u001b[0m⠀\u001b[0m⠀\u001b[0m⠀\u001b[0m⠀\u001b[38;5;2m⢰\u001b[39m\u001b[38;5;2m⠁\u001b[39m\u001b[0m⠀\u001b[38;5;2m⢣\u001b[39m\u001b[0m⠀\u001b[0m⠀\u001b[0m⠀\u001b[0m⠀\u001b[0m⠀\u001b[0m⠀\u001b[0m⠀\u001b[0m⠀\u001b[0m⠀\u001b[0m⠀\u001b[0m⠀\u001b[0m⠀\u001b[0m⠀\u001b[0m⠀\u001b[0m⠀\u001b[0m⠀\u001b[90m│\u001b[39m \n",
      "            \u001b[90m│\u001b[39m\u001b[0m⠀\u001b[0m⠀\u001b[0m⠀\u001b[0m⠀\u001b[0m⠀\u001b[0m⠀\u001b[0m⠀\u001b[0m⠀\u001b[0m⠀\u001b[0m⠀\u001b[38;5;2m⢣\u001b[39m\u001b[0m⠀\u001b[0m⠀\u001b[0m⠀\u001b[0m⠀\u001b[0m⠀\u001b[0m⠀\u001b[0m⠀\u001b[0m⠀\u001b[0m⠀\u001b[38;5;2m⢸\u001b[39m\u001b[0m⠀\u001b[0m⠀\u001b[38;5;2m⢸\u001b[39m\u001b[0m⠀\u001b[0m⠀\u001b[0m⠀\u001b[0m⠀\u001b[0m⠀\u001b[0m⠀\u001b[0m⠀\u001b[0m⠀\u001b[0m⠀\u001b[0m⠀\u001b[0m⠀\u001b[0m⠀\u001b[0m⠀\u001b[0m⠀\u001b[0m⠀\u001b[0m⠀\u001b[90m│\u001b[39m \n",
      "            \u001b[90m│\u001b[39m\u001b[0m⠀\u001b[0m⠀\u001b[0m⠀\u001b[0m⠀\u001b[0m⠀\u001b[0m⠀\u001b[0m⠀\u001b[0m⠀\u001b[0m⠀\u001b[0m⠀\u001b[38;5;2m⢸\u001b[39m\u001b[0m⠀\u001b[0m⠀\u001b[0m⠀\u001b[0m⠀\u001b[0m⠀\u001b[0m⠀\u001b[0m⠀\u001b[0m⠀\u001b[0m⠀\u001b[38;5;2m⡇\u001b[39m\u001b[0m⠀\u001b[0m⠀\u001b[38;5;2m⠈\u001b[39m\u001b[38;5;2m⡆\u001b[39m\u001b[0m⠀\u001b[0m⠀\u001b[0m⠀\u001b[0m⠀\u001b[0m⠀\u001b[0m⠀\u001b[0m⠀\u001b[0m⠀\u001b[0m⠀\u001b[0m⠀\u001b[0m⠀\u001b[0m⠀\u001b[0m⠀\u001b[0m⠀\u001b[0m⠀\u001b[90m│\u001b[39m \n",
      "   \u001b[0mScore    \u001b[90m│\u001b[39m\u001b[0m⠤\u001b[0m⠤\u001b[0m⠤\u001b[0m⠤\u001b[0m⠤\u001b[0m⠤\u001b[0m⠤\u001b[0m⠤\u001b[0m⠤\u001b[0m⠤\u001b[38;5;2m⠬\u001b[39m\u001b[38;5;2m⡦\u001b[39m\u001b[0m⠤\u001b[0m⠤\u001b[0m⠤\u001b[0m⠤\u001b[0m⠤\u001b[0m⠤\u001b[0m⠤\u001b[38;5;2m⢤\u001b[39m\u001b[38;5;2m⠧\u001b[39m\u001b[0m⠤\u001b[0m⠤\u001b[0m⠤\u001b[38;5;2m⢧\u001b[39m\u001b[0m⠤\u001b[0m⠤\u001b[0m⠤\u001b[0m⠤\u001b[0m⠤\u001b[0m⠤\u001b[0m⠤\u001b[0m⠤\u001b[0m⠤\u001b[0m⠤\u001b[0m⠤\u001b[0m⠤\u001b[0m⠤\u001b[0m⠤\u001b[0m⠤\u001b[90m│\u001b[39m \n",
      "            \u001b[90m│\u001b[39m\u001b[0m⠀\u001b[0m⠀\u001b[0m⠀\u001b[0m⠀\u001b[0m⠀\u001b[0m⠀\u001b[0m⠀\u001b[0m⠀\u001b[0m⠀\u001b[0m⠀\u001b[0m⠀\u001b[38;5;2m⡇\u001b[39m\u001b[0m⠀\u001b[0m⠀\u001b[0m⠀\u001b[0m⠀\u001b[0m⠀\u001b[0m⠀\u001b[0m⠀\u001b[38;5;2m⢸\u001b[39m\u001b[0m⠀\u001b[0m⠀\u001b[0m⠀\u001b[0m⠀\u001b[38;5;2m⢸\u001b[39m\u001b[0m⠀\u001b[0m⠀\u001b[0m⠀\u001b[0m⠀\u001b[0m⠀\u001b[0m⠀\u001b[0m⠀\u001b[0m⠀\u001b[0m⠀\u001b[0m⠀\u001b[0m⠀\u001b[0m⠀\u001b[0m⠀\u001b[0m⠀\u001b[0m⠀\u001b[90m│\u001b[39m \n",
      "            \u001b[90m│\u001b[39m\u001b[0m⠀\u001b[0m⠀\u001b[0m⠀\u001b[0m⠀\u001b[0m⠀\u001b[0m⠀\u001b[0m⠀\u001b[0m⠀\u001b[0m⠀\u001b[0m⠀\u001b[0m⠀\u001b[38;5;2m⢸\u001b[39m\u001b[0m⠀\u001b[0m⠀\u001b[0m⠀\u001b[0m⠀\u001b[0m⠀\u001b[0m⠀\u001b[0m⠀\u001b[38;5;2m⡎\u001b[39m\u001b[0m⠀\u001b[0m⠀\u001b[0m⠀\u001b[0m⠀\u001b[38;5;2m⠘\u001b[39m\u001b[38;5;2m⡄\u001b[39m\u001b[0m⠀\u001b[0m⠀\u001b[0m⠀\u001b[0m⠀\u001b[0m⠀\u001b[0m⠀\u001b[0m⠀\u001b[0m⠀\u001b[0m⠀\u001b[0m⠀\u001b[0m⠀\u001b[0m⠀\u001b[0m⠀\u001b[0m⠀\u001b[90m│\u001b[39m \n",
      "            \u001b[90m│\u001b[39m\u001b[0m⠀\u001b[0m⠀\u001b[0m⠀\u001b[0m⠀\u001b[0m⠀\u001b[0m⠀\u001b[0m⠀\u001b[0m⠀\u001b[0m⠀\u001b[0m⠀\u001b[0m⠀\u001b[38;5;2m⠘\u001b[39m\u001b[38;5;2m⡄\u001b[39m\u001b[0m⠀\u001b[0m⠀\u001b[0m⠀\u001b[0m⠀\u001b[0m⠀\u001b[0m⠀\u001b[38;5;2m⡇\u001b[39m\u001b[0m⠀\u001b[0m⠀\u001b[0m⠀\u001b[0m⠀\u001b[0m⠀\u001b[38;5;2m⡇\u001b[39m\u001b[0m⠀\u001b[0m⠀\u001b[0m⠀\u001b[0m⠀\u001b[0m⠀\u001b[0m⠀\u001b[0m⠀\u001b[0m⠀\u001b[0m⠀\u001b[0m⠀\u001b[0m⠀\u001b[0m⠀\u001b[0m⠀\u001b[0m⠀\u001b[90m│\u001b[39m \n",
      "            \u001b[90m│\u001b[39m\u001b[0m⠀\u001b[0m⠀\u001b[0m⠀\u001b[0m⠀\u001b[0m⠀\u001b[0m⠀\u001b[0m⠀\u001b[0m⠀\u001b[0m⠀\u001b[0m⠀\u001b[0m⠀\u001b[0m⠀\u001b[38;5;2m⡇\u001b[39m\u001b[0m⠀\u001b[0m⠀\u001b[0m⠀\u001b[0m⠀\u001b[0m⠀\u001b[38;5;2m⢸\u001b[39m\u001b[0m⠀\u001b[0m⠀\u001b[0m⠀\u001b[0m⠀\u001b[0m⠀\u001b[0m⠀\u001b[38;5;2m⢱\u001b[39m\u001b[0m⠀\u001b[0m⠀\u001b[0m⠀\u001b[0m⠀\u001b[0m⠀\u001b[0m⠀\u001b[0m⠀\u001b[0m⠀\u001b[0m⠀\u001b[0m⠀\u001b[0m⠀\u001b[0m⠀\u001b[0m⠀\u001b[0m⠀\u001b[90m│\u001b[39m \n",
      "            \u001b[90m│\u001b[39m\u001b[0m⠀\u001b[0m⠀\u001b[0m⠀\u001b[0m⠀\u001b[0m⠀\u001b[0m⠀\u001b[0m⠀\u001b[0m⠀\u001b[0m⠀\u001b[0m⠀\u001b[0m⠀\u001b[0m⠀\u001b[38;5;2m⢱\u001b[39m\u001b[0m⠀\u001b[0m⠀\u001b[0m⠀\u001b[0m⠀\u001b[0m⠀\u001b[38;5;2m⡸\u001b[39m\u001b[0m⠀\u001b[0m⠀\u001b[0m⠀\u001b[0m⠀\u001b[0m⠀\u001b[0m⠀\u001b[38;5;2m⢸\u001b[39m\u001b[0m⠀\u001b[0m⠀\u001b[0m⠀\u001b[0m⠀\u001b[0m⠀\u001b[0m⠀\u001b[0m⠀\u001b[0m⠀\u001b[0m⠀\u001b[0m⠀\u001b[0m⠀\u001b[0m⠀\u001b[0m⠀\u001b[0m⠀\u001b[90m│\u001b[39m \n",
      "            \u001b[90m│\u001b[39m\u001b[0m⠀\u001b[0m⠀\u001b[0m⠀\u001b[0m⠀\u001b[0m⠀\u001b[0m⠀\u001b[0m⠀\u001b[0m⠀\u001b[0m⠀\u001b[0m⠀\u001b[0m⠀\u001b[0m⠀\u001b[38;5;2m⢸\u001b[39m\u001b[0m⠀\u001b[0m⠀\u001b[0m⠀\u001b[0m⠀\u001b[0m⠀\u001b[38;5;2m⡇\u001b[39m\u001b[0m⠀\u001b[0m⠀\u001b[0m⠀\u001b[0m⠀\u001b[0m⠀\u001b[0m⠀\u001b[0m⠀\u001b[38;5;2m⡇\u001b[39m\u001b[0m⠀\u001b[0m⠀\u001b[0m⠀\u001b[0m⠀\u001b[0m⠀\u001b[0m⠀\u001b[0m⠀\u001b[0m⠀\u001b[0m⠀\u001b[0m⠀\u001b[0m⠀\u001b[0m⠀\u001b[0m⠀\u001b[90m│\u001b[39m \n",
      "         \u001b[90m-1\u001b[39m \u001b[90m│\u001b[39m\u001b[0m⠀\u001b[0m⠀\u001b[0m⠀\u001b[0m⠀\u001b[0m⠀\u001b[0m⠀\u001b[0m⠀\u001b[0m⠀\u001b[0m⠀\u001b[0m⠀\u001b[0m⠀\u001b[0m⠀\u001b[0m⠀\u001b[38;5;2m⣇\u001b[39m\u001b[38;5;2m⣀\u001b[39m\u001b[38;5;2m⣀\u001b[39m\u001b[38;5;2m⣀\u001b[39m\u001b[38;5;2m⣰\u001b[39m\u001b[38;5;2m⠁\u001b[39m\u001b[0m⠀\u001b[0m⠀\u001b[0m⠀\u001b[0m⠀\u001b[0m⠀\u001b[0m⠀\u001b[0m⠀\u001b[38;5;2m⢣\u001b[39m\u001b[38;5;2m⣀\u001b[39m\u001b[38;5;2m⣀\u001b[39m\u001b[38;5;2m⣀\u001b[39m\u001b[38;5;2m⣀\u001b[39m\u001b[38;5;2m⣀\u001b[39m\u001b[38;5;2m⣀\u001b[39m\u001b[38;5;2m⣀\u001b[39m\u001b[38;5;2m⣀\u001b[39m\u001b[38;5;2m⣀\u001b[39m\u001b[38;5;2m⣀\u001b[39m\u001b[38;5;2m⣀\u001b[39m\u001b[38;5;2m⣀\u001b[39m\u001b[38;5;2m⣀\u001b[39m\u001b[90m│\u001b[39m \n",
      "            \u001b[90m└────────────────────────────────────────┘\u001b[39m \n",
      "            ⠀\u001b[90m1\u001b[39m⠀⠀⠀⠀⠀⠀⠀⠀⠀⠀⠀⠀⠀⠀⠀⠀⠀⠀⠀⠀⠀⠀⠀⠀⠀⠀⠀⠀⠀⠀⠀⠀⠀⠀⠀⠀⠀\u001b[90m10\u001b[39m⠀ \n",
      "            ⠀⠀⠀⠀⠀⠀⠀⠀⠀⠀⠀⠀⠀⠀⠀⠀⠀⠀\u001b[0mEpisode⠀⠀⠀⠀⠀⠀⠀⠀⠀⠀⠀⠀⠀⠀⠀⠀⠀ \n",
      "            ⠀⠀⠀⠀⠀⠀⠀⠀⠀\u001b[1mTotal reward per episode\u001b[22m⠀⠀⠀⠀⠀⠀⠀⠀⠀ \n",
      "            \u001b[90m┌────────────────────────────────────────┐\u001b[39m \n",
      "          \u001b[90m1\u001b[39m \u001b[90m│\u001b[39m\u001b[0m⠀\u001b[0m⠀\u001b[0m⠀\u001b[0m⠀\u001b[0m⠀\u001b[0m⠀\u001b[0m⠀\u001b[0m⠀\u001b[0m⠀\u001b[0m⠀\u001b[0m⠀\u001b[0m⠀\u001b[0m⠀\u001b[38;5;2m⡏\u001b[39m\u001b[38;5;2m⠉\u001b[39m\u001b[38;5;2m⠉\u001b[39m\u001b[38;5;2m⠉\u001b[39m\u001b[38;5;2m⢹\u001b[39m\u001b[0m⠀\u001b[0m⠀\u001b[0m⠀\u001b[0m⠀\u001b[0m⠀\u001b[0m⠀\u001b[0m⠀\u001b[0m⠀\u001b[38;5;2m⡸\u001b[39m\u001b[38;5;2m⠉\u001b[39m\u001b[38;5;2m⠉\u001b[39m\u001b[38;5;2m⠉\u001b[39m\u001b[38;5;2m⠉\u001b[39m\u001b[38;5;2m⠉\u001b[39m\u001b[38;5;2m⠉\u001b[39m\u001b[38;5;2m⠉\u001b[39m\u001b[38;5;2m⠉\u001b[39m\u001b[38;5;2m⠉\u001b[39m\u001b[38;5;2m⠉\u001b[39m\u001b[38;5;2m⠉\u001b[39m\u001b[38;5;2m⠉\u001b[39m\u001b[38;5;2m⠉\u001b[39m\u001b[90m│\u001b[39m \n",
      "            \u001b[90m│\u001b[39m\u001b[0m⠀\u001b[0m⠀\u001b[0m⠀\u001b[0m⠀\u001b[0m⠀\u001b[0m⠀\u001b[0m⠀\u001b[0m⠀\u001b[0m⠀\u001b[0m⠀\u001b[0m⠀\u001b[0m⠀\u001b[38;5;2m⢰\u001b[39m\u001b[38;5;2m⠁\u001b[39m\u001b[0m⠀\u001b[0m⠀\u001b[0m⠀\u001b[0m⠀\u001b[38;5;2m⡇\u001b[39m\u001b[0m⠀\u001b[0m⠀\u001b[0m⠀\u001b[0m⠀\u001b[0m⠀\u001b[0m⠀\u001b[0m⠀\u001b[38;5;2m⡇\u001b[39m\u001b[0m⠀\u001b[0m⠀\u001b[0m⠀\u001b[0m⠀\u001b[0m⠀\u001b[0m⠀\u001b[0m⠀\u001b[0m⠀\u001b[0m⠀\u001b[0m⠀\u001b[0m⠀\u001b[0m⠀\u001b[0m⠀\u001b[90m│\u001b[39m \n",
      "            \u001b[90m│\u001b[39m\u001b[0m⠀\u001b[0m⠀\u001b[0m⠀\u001b[0m⠀\u001b[0m⠀\u001b[0m⠀\u001b[0m⠀\u001b[0m⠀\u001b[0m⠀\u001b[0m⠀\u001b[0m⠀\u001b[0m⠀\u001b[38;5;2m⢸\u001b[39m\u001b[0m⠀\u001b[0m⠀\u001b[0m⠀\u001b[0m⠀\u001b[0m⠀\u001b[38;5;2m⢣\u001b[39m\u001b[0m⠀\u001b[0m⠀\u001b[0m⠀\u001b[0m⠀\u001b[0m⠀\u001b[0m⠀\u001b[38;5;2m⢰\u001b[39m\u001b[38;5;2m⠁\u001b[39m\u001b[0m⠀\u001b[0m⠀\u001b[0m⠀\u001b[0m⠀\u001b[0m⠀\u001b[0m⠀\u001b[0m⠀\u001b[0m⠀\u001b[0m⠀\u001b[0m⠀\u001b[0m⠀\u001b[0m⠀\u001b[0m⠀\u001b[90m│\u001b[39m \n",
      "            \u001b[90m│\u001b[39m\u001b[0m⠀\u001b[0m⠀\u001b[0m⠀\u001b[0m⠀\u001b[0m⠀\u001b[0m⠀\u001b[0m⠀\u001b[0m⠀\u001b[0m⠀\u001b[0m⠀\u001b[0m⠀\u001b[0m⠀\u001b[38;5;2m⡇\u001b[39m\u001b[0m⠀\u001b[0m⠀\u001b[0m⠀\u001b[0m⠀\u001b[0m⠀\u001b[38;5;2m⢸\u001b[39m\u001b[0m⠀\u001b[0m⠀\u001b[0m⠀\u001b[0m⠀\u001b[0m⠀\u001b[0m⠀\u001b[38;5;2m⢸\u001b[39m\u001b[0m⠀\u001b[0m⠀\u001b[0m⠀\u001b[0m⠀\u001b[0m⠀\u001b[0m⠀\u001b[0m⠀\u001b[0m⠀\u001b[0m⠀\u001b[0m⠀\u001b[0m⠀\u001b[0m⠀\u001b[0m⠀\u001b[0m⠀\u001b[90m│\u001b[39m \n",
      "            \u001b[90m│\u001b[39m\u001b[0m⠀\u001b[0m⠀\u001b[0m⠀\u001b[0m⠀\u001b[0m⠀\u001b[0m⠀\u001b[0m⠀\u001b[0m⠀\u001b[0m⠀\u001b[0m⠀\u001b[0m⠀\u001b[38;5;2m⢀\u001b[39m\u001b[38;5;2m⠇\u001b[39m\u001b[0m⠀\u001b[0m⠀\u001b[0m⠀\u001b[0m⠀\u001b[0m⠀\u001b[38;5;2m⠈\u001b[39m\u001b[38;5;2m⡆\u001b[39m\u001b[0m⠀\u001b[0m⠀\u001b[0m⠀\u001b[0m⠀\u001b[0m⠀\u001b[38;5;2m⡇\u001b[39m\u001b[0m⠀\u001b[0m⠀\u001b[0m⠀\u001b[0m⠀\u001b[0m⠀\u001b[0m⠀\u001b[0m⠀\u001b[0m⠀\u001b[0m⠀\u001b[0m⠀\u001b[0m⠀\u001b[0m⠀\u001b[0m⠀\u001b[0m⠀\u001b[90m│\u001b[39m \n",
      "            \u001b[90m│\u001b[39m\u001b[0m⠀\u001b[0m⠀\u001b[0m⠀\u001b[0m⠀\u001b[0m⠀\u001b[0m⠀\u001b[0m⠀\u001b[0m⠀\u001b[0m⠀\u001b[0m⠀\u001b[0m⠀\u001b[38;5;2m⢸\u001b[39m\u001b[0m⠀\u001b[0m⠀\u001b[0m⠀\u001b[0m⠀\u001b[0m⠀\u001b[0m⠀\u001b[0m⠀\u001b[38;5;2m⡇\u001b[39m\u001b[0m⠀\u001b[0m⠀\u001b[0m⠀\u001b[0m⠀\u001b[38;5;2m⢀\u001b[39m\u001b[38;5;2m⠇\u001b[39m\u001b[0m⠀\u001b[0m⠀\u001b[0m⠀\u001b[0m⠀\u001b[0m⠀\u001b[0m⠀\u001b[0m⠀\u001b[0m⠀\u001b[0m⠀\u001b[0m⠀\u001b[0m⠀\u001b[0m⠀\u001b[0m⠀\u001b[0m⠀\u001b[90m│\u001b[39m \n",
      "            \u001b[90m│\u001b[39m\u001b[0m⠀\u001b[0m⠀\u001b[0m⠀\u001b[0m⠀\u001b[0m⠀\u001b[0m⠀\u001b[0m⠀\u001b[0m⠀\u001b[0m⠀\u001b[0m⠀\u001b[0m⠀\u001b[38;5;2m⡎\u001b[39m\u001b[0m⠀\u001b[0m⠀\u001b[0m⠀\u001b[0m⠀\u001b[0m⠀\u001b[0m⠀\u001b[0m⠀\u001b[38;5;2m⢸\u001b[39m\u001b[0m⠀\u001b[0m⠀\u001b[0m⠀\u001b[0m⠀\u001b[38;5;2m⢸\u001b[39m\u001b[0m⠀\u001b[0m⠀\u001b[0m⠀\u001b[0m⠀\u001b[0m⠀\u001b[0m⠀\u001b[0m⠀\u001b[0m⠀\u001b[0m⠀\u001b[0m⠀\u001b[0m⠀\u001b[0m⠀\u001b[0m⠀\u001b[0m⠀\u001b[0m⠀\u001b[90m│\u001b[39m \n",
      "   \u001b[0mScore    \u001b[90m│\u001b[39m\u001b[0m⠤\u001b[0m⠤\u001b[0m⠤\u001b[0m⠤\u001b[0m⠤\u001b[0m⠤\u001b[0m⠤\u001b[0m⠤\u001b[0m⠤\u001b[0m⠤\u001b[0m⠤\u001b[38;5;2m⡧\u001b[39m\u001b[0m⠤\u001b[0m⠤\u001b[0m⠤\u001b[0m⠤\u001b[0m⠤\u001b[0m⠤\u001b[0m⠤\u001b[38;5;2m⠼\u001b[39m\u001b[38;5;2m⡤\u001b[39m\u001b[0m⠤\u001b[0m⠤\u001b[0m⠤\u001b[38;5;2m⡼\u001b[39m\u001b[0m⠤\u001b[0m⠤\u001b[0m⠤\u001b[0m⠤\u001b[0m⠤\u001b[0m⠤\u001b[0m⠤\u001b[0m⠤\u001b[0m⠤\u001b[0m⠤\u001b[0m⠤\u001b[0m⠤\u001b[0m⠤\u001b[0m⠤\u001b[0m⠤\u001b[90m│\u001b[39m \n",
      "            \u001b[90m│\u001b[39m\u001b[0m⠀\u001b[0m⠀\u001b[0m⠀\u001b[0m⠀\u001b[0m⠀\u001b[0m⠀\u001b[0m⠀\u001b[0m⠀\u001b[0m⠀\u001b[0m⠀\u001b[38;5;2m⢸\u001b[39m\u001b[0m⠀\u001b[0m⠀\u001b[0m⠀\u001b[0m⠀\u001b[0m⠀\u001b[0m⠀\u001b[0m⠀\u001b[0m⠀\u001b[0m⠀\u001b[38;5;2m⡇\u001b[39m\u001b[0m⠀\u001b[0m⠀\u001b[0m⠀\u001b[38;5;2m⡇\u001b[39m\u001b[0m⠀\u001b[0m⠀\u001b[0m⠀\u001b[0m⠀\u001b[0m⠀\u001b[0m⠀\u001b[0m⠀\u001b[0m⠀\u001b[0m⠀\u001b[0m⠀\u001b[0m⠀\u001b[0m⠀\u001b[0m⠀\u001b[0m⠀\u001b[0m⠀\u001b[90m│\u001b[39m \n",
      "            \u001b[90m│\u001b[39m\u001b[0m⠀\u001b[0m⠀\u001b[0m⠀\u001b[0m⠀\u001b[0m⠀\u001b[0m⠀\u001b[0m⠀\u001b[0m⠀\u001b[0m⠀\u001b[0m⠀\u001b[38;5;2m⡸\u001b[39m\u001b[0m⠀\u001b[0m⠀\u001b[0m⠀\u001b[0m⠀\u001b[0m⠀\u001b[0m⠀\u001b[0m⠀\u001b[0m⠀\u001b[0m⠀\u001b[38;5;2m⢱\u001b[39m\u001b[0m⠀\u001b[0m⠀\u001b[38;5;2m⢸\u001b[39m\u001b[0m⠀\u001b[0m⠀\u001b[0m⠀\u001b[0m⠀\u001b[0m⠀\u001b[0m⠀\u001b[0m⠀\u001b[0m⠀\u001b[0m⠀\u001b[0m⠀\u001b[0m⠀\u001b[0m⠀"
     ]
    },
    {
     "name": "stdout",
     "output_type": "stream",
     "text": [
      "\u001b[0m⠀\u001b[0m⠀\u001b[0m⠀\u001b[0m⠀\u001b[90m│\u001b[39m \n",
      "            \u001b[90m│\u001b[39m\u001b[0m⠀\u001b[0m⠀\u001b[0m⠀\u001b[0m⠀\u001b[0m⠀\u001b[0m⠀\u001b[0m⠀\u001b[0m⠀\u001b[0m⠀\u001b[0m⠀\u001b[38;5;2m⡇\u001b[39m\u001b[0m⠀\u001b[0m⠀\u001b[0m⠀\u001b[0m⠀\u001b[0m⠀\u001b[0m⠀\u001b[0m⠀\u001b[0m⠀\u001b[0m⠀\u001b[38;5;2m⢸\u001b[39m\u001b[0m⠀\u001b[0m⠀\u001b[38;5;2m⡸\u001b[39m\u001b[0m⠀\u001b[0m⠀\u001b[0m⠀\u001b[0m⠀\u001b[0m⠀\u001b[0m⠀\u001b[0m⠀\u001b[0m⠀\u001b[0m⠀\u001b[0m⠀\u001b[0m⠀\u001b[0m⠀\u001b[0m⠀\u001b[0m⠀\u001b[0m⠀\u001b[0m⠀\u001b[90m│\u001b[39m \n",
      "            \u001b[90m│\u001b[39m\u001b[0m⠀\u001b[0m⠀\u001b[0m⠀\u001b[0m⠀\u001b[0m⠀\u001b[0m⠀\u001b[0m⠀\u001b[0m⠀\u001b[0m⠀\u001b[38;5;2m⢠\u001b[39m\u001b[38;5;2m⠃\u001b[39m\u001b[0m⠀\u001b[0m⠀\u001b[0m⠀\u001b[0m⠀\u001b[0m⠀\u001b[0m⠀\u001b[0m⠀\u001b[0m⠀\u001b[0m⠀\u001b[0m⠀\u001b[38;5;2m⡇\u001b[39m\u001b[0m⠀\u001b[38;5;2m⡇\u001b[39m\u001b[0m⠀\u001b[0m⠀\u001b[0m⠀\u001b[0m⠀\u001b[0m⠀\u001b[0m⠀\u001b[0m⠀\u001b[0m⠀\u001b[0m⠀\u001b[0m⠀\u001b[0m⠀\u001b[0m⠀\u001b[0m⠀\u001b[0m⠀\u001b[0m⠀\u001b[0m⠀\u001b[90m│\u001b[39m \n",
      "            \u001b[90m│\u001b[39m\u001b[0m⠀\u001b[0m⠀\u001b[0m⠀\u001b[0m⠀\u001b[0m⠀\u001b[0m⠀\u001b[0m⠀\u001b[0m⠀\u001b[0m⠀\u001b[38;5;2m⢸\u001b[39m\u001b[0m⠀\u001b[0m⠀\u001b[0m⠀\u001b[0m⠀\u001b[0m⠀\u001b[0m⠀\u001b[0m⠀\u001b[0m⠀\u001b[0m⠀\u001b[0m⠀\u001b[0m⠀\u001b[38;5;2m⢇\u001b[39m\u001b[38;5;2m⢠\u001b[39m\u001b[38;5;2m⠃\u001b[39m\u001b[0m⠀\u001b[0m⠀\u001b[0m⠀\u001b[0m⠀\u001b[0m⠀\u001b[0m⠀\u001b[0m⠀\u001b[0m⠀\u001b[0m⠀\u001b[0m⠀\u001b[0m⠀\u001b[0m⠀\u001b[0m⠀\u001b[0m⠀\u001b[0m⠀\u001b[0m⠀\u001b[90m│\u001b[39m \n",
      "            \u001b[90m│\u001b[39m\u001b[0m⠀\u001b[0m⠀\u001b[0m⠀\u001b[0m⠀\u001b[0m⠀\u001b[0m⠀\u001b[0m⠀\u001b[0m⠀\u001b[0m⠀\u001b[38;5;2m⡇\u001b[39m\u001b[0m⠀\u001b[0m⠀\u001b[0m⠀\u001b[0m⠀\u001b[0m⠀\u001b[0m⠀\u001b[0m⠀\u001b[0m⠀\u001b[0m⠀\u001b[0m⠀\u001b[0m⠀\u001b[38;5;2m⢸\u001b[39m\u001b[38;5;2m⢸\u001b[39m\u001b[0m⠀\u001b[0m⠀\u001b[0m⠀\u001b[0m⠀\u001b[0m⠀\u001b[0m⠀\u001b[0m⠀\u001b[0m⠀\u001b[0m⠀\u001b[0m⠀\u001b[0m⠀\u001b[0m⠀\u001b[0m⠀\u001b[0m⠀\u001b[0m⠀\u001b[0m⠀\u001b[0m⠀\u001b[90m│\u001b[39m \n",
      "         \u001b[90m-1\u001b[39m \u001b[90m│\u001b[39m\u001b[38;5;2m⣀\u001b[39m\u001b[38;5;2m⣀\u001b[39m\u001b[38;5;2m⣀\u001b[39m\u001b[38;5;2m⣀\u001b[39m\u001b[38;5;2m⣀\u001b[39m\u001b[38;5;2m⣀\u001b[39m\u001b[38;5;2m⣀\u001b[39m\u001b[38;5;2m⣀\u001b[39m\u001b[38;5;2m⣀\u001b[39m\u001b[38;5;2m⠇\u001b[39m\u001b[0m⠀\u001b[0m⠀\u001b[0m⠀\u001b[0m⠀\u001b[0m⠀\u001b[0m⠀\u001b[0m⠀\u001b[0m⠀\u001b[0m⠀\u001b[0m⠀\u001b[0m⠀\u001b[38;5;2m⠘\u001b[39m\u001b[38;5;2m⡎\u001b[39m\u001b[0m⠀\u001b[0m⠀\u001b[0m⠀\u001b[0m⠀\u001b[0m⠀\u001b[0m⠀\u001b[0m⠀\u001b[0m⠀\u001b[0m⠀\u001b[0m⠀\u001b[0m⠀\u001b[0m⠀\u001b[0m⠀\u001b[0m⠀\u001b[0m⠀\u001b[0m⠀\u001b[0m⠀\u001b[90m│\u001b[39m \n",
      "            \u001b[90m└────────────────────────────────────────┘\u001b[39m \n",
      "            ⠀\u001b[90m1\u001b[39m⠀⠀⠀⠀⠀⠀⠀⠀⠀⠀⠀⠀⠀⠀⠀⠀⠀⠀⠀⠀⠀⠀⠀⠀⠀⠀⠀⠀⠀⠀⠀⠀⠀⠀⠀⠀⠀\u001b[90m10\u001b[39m⠀ \n",
      "            ⠀⠀⠀⠀⠀⠀⠀⠀⠀⠀⠀⠀⠀⠀⠀⠀⠀⠀\u001b[0mEpisode⠀⠀⠀⠀⠀⠀⠀⠀⠀⠀⠀⠀⠀⠀⠀⠀⠀ \n"
     ]
    },
    {
     "data": {
      "text/plain": [
       "MultiAgentHook(Dict{Any, Any}(ReinforcementLearningEnvironments.Nought() => TotalRewardPerEpisode([1.0, 1.0, 1.0, -1.0, -1.0, 1.0, -1.0, -1.0, -1.0, -1.0], 0.0, true), ReinforcementLearningEnvironments.Cross() => TotalRewardPerEpisode([-1.0, -1.0, -1.0, 1.0, 1.0, -1.0, 1.0, 1.0, 1.0, 1.0], 0.0, true)))"
      ]
     },
     "metadata": {},
     "output_type": "display_data"
    }
   ],
   "source": [
    "run(multi_agent_policy,\tenv, StopAfterEpisode(10), multi_agent_hook)"
   ]
  },
  {
   "cell_type": "code",
   "execution_count": 40,
   "metadata": {},
   "outputs": [
    {
     "data": {
      "text/plain": [
       "(ReinforcementLearningEnvironments.Cross(), ReinforcementLearningEnvironments.Nought())"
      ]
     },
     "metadata": {},
     "output_type": "display_data"
    }
   ],
   "source": [
    "x, o = players(env)"
   ]
  },
  {
   "cell_type": "code",
   "execution_count": 41,
   "metadata": {},
   "outputs": [],
   "source": [
    "using Plots"
   ]
  },
  {
   "cell_type": "code",
   "execution_count": 42,
   "metadata": {},
   "outputs": [
    {
     "data": {
      "image/png": "[encoded data removed]",
      "image/svg+xml": "<?xml version=\"1.0\" encoding=\"utf-8\"?>\n<svg xmlns=\"http://www.w3.org/2000/svg\" xmlns:xlink=\"http://www.w3.org/1999/xlink\" width=\"600\" height=\"400\" viewBox=\"0 0 2400 1600\">\n<defs>\n  <clipPath id=\"clip640\">\n    <rect x=\"0\" y=\"0\" width=\"2400\" height=\"1600\"/>\n  </clipPath>\n</defs>\n<path clip-path=\"url(#clip640)\" d=\"\nM0 1600 L2400 1600 L2400 0 L0 0  Z\n  \" fill=\"#ffffff\" fill-rule=\"evenodd\" fill-opacity=\"1\"/>\n<defs>\n  <clipPath id=\"clip641\">\n    <rect x=\"480\" y=\"0\" width=\"1681\" height=\"1600\"/>\n  </clipPath>\n</defs>\n<path clip-path=\"url(#clip640)\" d=\"\nM193.936 1486.45 L2352.76 1486.45 L2352.76 47.2441 L193.936 47.2441  Z\n  \" fill=\"#ffffff\" fill-rule=\"evenodd\" fill-opacity=\"1\"/>\n<defs>\n  <clipPath id=\"clip642\">\n    <rect x=\"193\" y=\"47\" width=\"2160\" height=\"1440\"/>\n  </clipPath>\n</defs>\n<polyline clip-path=\"url(#clip642)\" style=\"stroke:#000000; stroke-linecap:butt; stroke-linejoin:round; stroke-width:2; stroke-opacity:0.1; fill:none\" points=\"\n  481.326,1486.45 481.326,47.2441 \n  \"/>\n<polyline clip-path=\"url(#clip642)\" style=\"stroke:#000000; stroke-linecap:butt; stroke-linejoin:round; stroke-width:2; stroke-opacity:0.1; fill:none\" points=\"\n  933.909,1486.45 933.909,47.2441 \n  \"/>\n<polyline clip-path=\"url(#clip642)\" style=\"stroke:#000000; stroke-linecap:butt; stroke-linejoin:round; stroke-width:2; stroke-opacity:0.1; fill:none\" points=\"\n  1386.49,1486.45 1386.49,47.2441 \n  \"/>\n<polyline clip-path=\"url(#clip642)\" style=\"stroke:#000000; stroke-linecap:butt; stroke-linejoin:round; stroke-width:2; stroke-opacity:0.1; fill:none\" points=\"\n  1839.07,1486.45 1839.07,47.2441 \n  \"/>\n<polyline clip-path=\"url(#clip642)\" style=\"stroke:#000000; stroke-linecap:butt; stroke-linejoin:round; stroke-width:2; stroke-opacity:0.1; fill:none\" points=\"\n  2291.66,1486.45 2291.66,47.2441 \n  \"/>\n<polyline clip-path=\"url(#clip640)\" style=\"stroke:#000000; stroke-linecap:butt; stroke-linejoin:round; stroke-width:4; stroke-opacity:1; fill:none\" points=\"\n  193.936,1486.45 2352.76,1486.45 \n  \"/>\n<polyline clip-path=\"url(#clip640)\" style=\"stroke:#000000; stroke-linecap:butt; stroke-linejoin:round; stroke-width:4; stroke-opacity:1; fill:none\" points=\"\n  481.326,1486.45 481.326,1467.55 \n  \"/>\n<polyline clip-path=\"url(#clip640)\" style=\"stroke:#000000; stroke-linecap:butt; stroke-linejoin:round; stroke-width:4; stroke-opacity:1; fill:none\" points=\"\n  933.909,1486.45 933.909,1467.55 \n  \"/>\n<polyline clip-path=\"url(#clip640)\" style=\"stroke:#000000; stroke-linecap:butt; stroke-linejoin:round; stroke-width:4; stroke-opacity:1; fill:none\" points=\"\n  1386.49,1486.45 1386.49,1467.55 \n  \"/>\n<polyline clip-path=\"url(#clip640)\" style=\"stroke:#000000; stroke-linecap:butt; stroke-linejoin:round; stroke-width:4; stroke-opacity:1; fill:none\" points=\"\n  1839.07,1486.45 1839.07,1467.55 \n  \"/>\n<polyline clip-path=\"url(#clip640)\" style=\"stroke:#000000; stroke-linecap:butt; stroke-linejoin:round; stroke-width:4; stroke-opacity:1; fill:none\" points=\"\n  2291.66,1486.45 2291.66,1467.55 \n  \"/>\n<path clip-path=\"url(#clip640)\" d=\"M475.979 1544.91 L492.298 1544.91 L492.298 1548.85 L470.354 1548.85 L470.354 1544.91 Q473.016 1542.16 477.599 1537.53 Q482.206 1532.88 483.386 1531.53 Q485.632 1529.01 486.511 1527.27 Q487.414 1525.51 487.414 1523.82 Q487.414 1521.07 485.47 1519.33 Q483.548 1517.6 480.446 1517.6 Q478.247 1517.6 475.794 1518.36 Q473.363 1519.13 470.585 1520.68 L470.585 1515.95 Q473.409 1514.82 475.863 1514.24 Q478.317 1513.66 480.354 1513.66 Q485.724 1513.66 488.919 1516.35 Q492.113 1519.03 492.113 1523.52 Q492.113 1525.65 491.303 1527.57 Q490.516 1529.47 488.409 1532.07 Q487.831 1532.74 484.729 1535.95 Q481.627 1539.15 475.979 1544.91 Z\" fill=\"#000000\" fill-rule=\"evenodd\" fill-opacity=\"1\" /><path clip-path=\"url(#clip640)\" d=\"M936.918 1518.36 L925.113 1536.81 L936.918 1536.81 L936.918 1518.36 M935.691 1514.29 L941.571 1514.29 L941.571 1536.81 L946.501 1536.81 L946.501 1540.7 L941.571 1540.7 L941.571 1548.85 L936.918 1548.85 L936.918 1540.7 L921.316 1540.7 L921.316 1536.19 L935.691 1514.29 Z\" fill=\"#000000\" fill-rule=\"evenodd\" fill-opacity=\"1\" /><path clip-path=\"url(#clip640)\" d=\"M1386.9 1529.7 Q1383.75 1529.7 1381.9 1531.86 Q1380.07 1534.01 1380.07 1537.76 Q1380.07 1541.49 1381.9 1543.66 Q1383.75 1545.82 1386.9 1545.82 Q1390.04 1545.82 1391.87 1543.66 Q1393.73 1541.49 1393.73 1537.76 Q1393.73 1534.01 1391.87 1531.86 Q1390.04 1529.7 1386.9 1529.7 M1396.18 1515.05 L1396.18 1519.31 Q1394.42 1518.48 1392.61 1518.04 Q1390.83 1517.6 1389.07 1517.6 Q1384.44 1517.6 1381.99 1520.72 Q1379.56 1523.85 1379.21 1530.17 Q1380.58 1528.15 1382.64 1527.09 Q1384.7 1526 1387.17 1526 Q1392.38 1526 1395.39 1529.17 Q1398.42 1532.32 1398.42 1537.76 Q1398.42 1543.08 1395.28 1546.3 Q1392.13 1549.52 1386.9 1549.52 Q1380.9 1549.52 1377.73 1544.94 Q1374.56 1540.33 1374.56 1531.6 Q1374.56 1523.41 1378.45 1518.55 Q1382.34 1513.66 1388.89 1513.66 Q1390.65 1513.66 1392.43 1514.01 Q1394.23 1514.36 1396.18 1515.05 Z\" fill=\"#000000\" fill-rule=\"evenodd\" fill-opacity=\"1\" /><path clip-path=\"url(#clip640)\" d=\"M1839.07 1532.44 Q1835.74 1532.44 1833.82 1534.22 Q1831.92 1536 1831.92 1539.13 Q1831.92 1542.25 1833.82 1544.03 Q1835.74 1545.82 1839.07 1545.82 Q1842.41 1545.82 1844.33 1544.03 Q1846.25 1542.23 1846.25 1539.13 Q1846.25 1536 1844.33 1534.22 Q1842.43 1532.44 1839.07 1532.44 M1834.4 1530.45 Q1831.39 1529.7 1829.7 1527.64 Q1828.03 1525.58 1828.03 1522.62 Q1828.03 1518.48 1830.97 1516.07 Q1833.94 1513.66 1839.07 1513.66 Q1844.24 1513.66 1847.18 1516.07 Q1850.12 1518.48 1850.12 1522.62 Q1850.12 1525.58 1848.43 1527.64 Q1846.76 1529.7 1843.77 1530.45 Q1847.15 1531.23 1849.03 1533.52 Q1850.93 1535.82 1850.93 1539.13 Q1850.93 1544.15 1847.85 1546.83 Q1844.79 1549.52 1839.07 1549.52 Q1833.36 1549.52 1830.28 1546.83 Q1827.22 1544.15 1827.22 1539.13 Q1827.22 1535.82 1829.12 1533.52 Q1831.02 1531.23 1834.4 1530.45 M1832.69 1523.06 Q1832.69 1525.75 1834.35 1527.25 Q1836.04 1528.76 1839.07 1528.76 Q1842.08 1528.76 1843.77 1527.25 Q1845.49 1525.75 1845.49 1523.06 Q1845.49 1520.38 1843.77 1518.87 Q1842.08 1517.37 1839.07 1517.37 Q1836.04 1517.37 1834.35 1518.87 Q1832.69 1520.38 1832.69 1523.06 Z\" fill=\"#000000\" fill-rule=\"evenodd\" fill-opacity=\"1\" /><path clip-path=\"url(#clip640)\" d=\"M2266.34 1544.91 L2273.98 1544.91 L2273.98 1518.55 L2265.67 1520.21 L2265.67 1515.95 L2273.94 1514.29 L2278.61 1514.29 L2278.61 1544.91 L2286.25 1544.91 L2286.25 1548.85 L2266.34 1548.85 L2266.34 1544.91 Z\" fill=\"#000000\" fill-rule=\"evenodd\" fill-opacity=\"1\" /><path clip-path=\"url(#clip640)\" d=\"M2305.7 1517.37 Q2302.09 1517.37 2300.26 1520.93 Q2298.45 1524.47 2298.45 1531.6 Q2298.45 1538.71 2300.26 1542.27 Q2302.09 1545.82 2305.7 1545.82 Q2309.33 1545.82 2311.14 1542.27 Q2312.96 1538.71 2312.96 1531.6 Q2312.96 1524.47 2311.14 1520.93 Q2309.33 1517.37 2305.7 1517.37 M2305.7 1513.66 Q2311.51 1513.66 2314.56 1518.27 Q2317.64 1522.85 2317.64 1531.6 Q2317.64 1540.33 2314.56 1544.94 Q2311.51 1549.52 2305.7 1549.52 Q2299.89 1549.52 2296.81 1544.94 Q2293.75 1540.33 2293.75 1531.6 Q2293.75 1522.85 2296.81 1518.27 Q2299.89 1513.66 2305.7 1513.66 Z\" fill=\"#000000\" fill-rule=\"evenodd\" fill-opacity=\"1\" /><polyline clip-path=\"url(#clip642)\" style=\"stroke:#000000; stroke-linecap:butt; stroke-linejoin:round; stroke-width:2; stroke-opacity:0.1; fill:none\" points=\"\n  193.936,1445.72 2352.76,1445.72 \n  \"/>\n<polyline clip-path=\"url(#clip642)\" style=\"stroke:#000000; stroke-linecap:butt; stroke-linejoin:round; stroke-width:2; stroke-opacity:0.1; fill:none\" points=\"\n  193.936,1106.28 2352.76,1106.28 \n  \"/>\n<polyline clip-path=\"url(#clip642)\" style=\"stroke:#000000; stroke-linecap:butt; stroke-linejoin:round; stroke-width:2; stroke-opacity:0.1; fill:none\" points=\"\n  193.936,766.846 2352.76,766.846 \n  \"/>\n<polyline clip-path=\"url(#clip642)\" style=\"stroke:#000000; stroke-linecap:butt; stroke-linejoin:round; stroke-width:2; stroke-opacity:0.1; fill:none\" points=\"\n  193.936,427.411 2352.76,427.411 \n  \"/>\n<polyline clip-path=\"url(#clip642)\" style=\"stroke:#000000; stroke-linecap:butt; stroke-linejoin:round; stroke-width:2; stroke-opacity:0.1; fill:none\" points=\"\n  193.936,87.9763 2352.76,87.9763 \n  \"/>\n<polyline clip-path=\"url(#clip640)\" style=\"stroke:#000000; stroke-linecap:butt; stroke-linejoin:round; stroke-width:4; stroke-opacity:1; fill:none\" points=\"\n  193.936,1486.45 193.936,47.2441 \n  \"/>\n<polyline clip-path=\"url(#clip640)\" style=\"stroke:#000000; stroke-linecap:butt; stroke-linejoin:round; stroke-width:4; stroke-opacity:1; fill:none\" points=\"\n  193.936,1445.72 212.834,1445.72 \n  \"/>\n<polyline clip-path=\"url(#clip640)\" style=\"stroke:#000000; stroke-linecap:butt; stroke-linejoin:round; stroke-width:4; stroke-opacity:1; fill:none\" points=\"\n  193.936,1106.28 212.834,1106.28 \n  \"/>\n<polyline clip-path=\"url(#clip640)\" style=\"stroke:#000000; stroke-linecap:butt; stroke-linejoin:round; stroke-width:4; stroke-opacity:1; fill:none\" points=\"\n  193.936,766.846 212.834,766.846 \n  \"/>\n<polyline clip-path=\"url(#clip640)\" style=\"stroke:#000000; stroke-linecap:butt; stroke-linejoin:round; stroke-width:4; stroke-opacity:1; fill:none\" points=\"\n  193.936,427.411 212.834,427.411 \n  \"/>\n<polyline clip-path=\"url(#clip640)\" style=\"stroke:#000000; stroke-linecap:butt; stroke-linejoin:round; stroke-width:4; stroke-opacity:1; fill:none\" points=\"\n  193.936,87.9763 212.834,87.9763 \n  \"/>\n<path clip-path=\"url(#clip640)\" d=\"M50.9921 1446.17 L80.6679 1446.17 L80.6679 1450.1 L50.9921 1450.1 L50.9921 1446.17 Z\" fill=\"#000000\" fill-rule=\"evenodd\" fill-opacity=\"1\" /><path clip-path=\"url(#clip640)\" d=\"M91.5706 1459.06 L99.2095 1459.06 L99.2095 1432.69 L90.8993 1434.36 L90.8993 1430.1 L99.1632 1428.44 L103.839 1428.44 L103.839 1459.06 L111.478 1459.06 L111.478 1463 L91.5706 1463 L91.5706 1459.06 Z\" fill=\"#000000\" fill-rule=\"evenodd\" fill-opacity=\"1\" /><path clip-path=\"url(#clip640)\" d=\"M120.922 1457.12 L125.807 1457.12 L125.807 1463 L120.922 1463 L120.922 1457.12 Z\" fill=\"#000000\" fill-rule=\"evenodd\" fill-opacity=\"1\" /><path clip-path=\"url(#clip640)\" d=\"M145.992 1431.51 Q142.381 1431.51 140.552 1435.08 Q138.746 1438.62 138.746 1445.75 Q138.746 1452.86 140.552 1456.42 Q142.381 1459.96 145.992 1459.96 Q149.626 1459.96 151.431 1456.42 Q153.26 1452.86 153.26 1445.75 Q153.26 1438.62 151.431 1435.08 Q149.626 1431.51 145.992 1431.51 M145.992 1427.81 Q151.802 1427.81 154.857 1432.42 Q157.936 1437 157.936 1445.75 Q157.936 1454.48 154.857 1459.08 Q151.802 1463.67 145.992 1463.67 Q140.181 1463.67 137.103 1459.08 Q134.047 1454.48 134.047 1445.75 Q134.047 1437 137.103 1432.42 Q140.181 1427.81 145.992 1427.81 Z\" fill=\"#000000\" fill-rule=\"evenodd\" fill-opacity=\"1\" /><path clip-path=\"url(#clip640)\" d=\"M51.9875 1106.73 L81.6633 1106.73 L81.6633 1110.67 L51.9875 1110.67 L51.9875 1106.73 Z\" fill=\"#000000\" fill-rule=\"evenodd\" fill-opacity=\"1\" /><path clip-path=\"url(#clip640)\" d=\"M101.756 1092.08 Q98.1447 1092.08 96.316 1095.64 Q94.5104 1099.19 94.5104 1106.32 Q94.5104 1113.42 96.316 1116.99 Q98.1447 1120.53 101.756 1120.53 Q105.39 1120.53 107.196 1116.99 Q109.024 1113.42 109.024 1106.32 Q109.024 1099.19 107.196 1095.64 Q105.39 1092.08 101.756 1092.08 M101.756 1088.38 Q107.566 1088.38 110.621 1092.98 Q113.7 1097.57 113.7 1106.32 Q113.7 1115.04 110.621 1119.65 Q107.566 1124.23 101.756 1124.23 Q95.9456 1124.23 92.8669 1119.65 Q89.8114 1115.04 89.8114 1106.32 Q89.8114 1097.57 92.8669 1092.98 Q95.9456 1088.38 101.756 1088.38 Z\" fill=\"#000000\" fill-rule=\"evenodd\" fill-opacity=\"1\" /><path clip-path=\"url(#clip640)\" d=\"M121.918 1117.68 L126.802 1117.68 L126.802 1123.56 L121.918 1123.56 L121.918 1117.68 Z\" fill=\"#000000\" fill-rule=\"evenodd\" fill-opacity=\"1\" /><path clip-path=\"url(#clip640)\" d=\"M137.033 1089 L155.39 1089 L155.39 1092.94 L141.316 1092.94 L141.316 1101.41 Q142.334 1101.06 143.353 1100.9 Q144.371 1100.71 145.39 1100.71 Q151.177 1100.71 154.556 1103.89 Q157.936 1107.06 157.936 1112.47 Q157.936 1118.05 154.464 1121.15 Q150.992 1124.23 144.672 1124.23 Q142.496 1124.23 140.228 1123.86 Q137.982 1123.49 135.575 1122.75 L135.575 1118.05 Q137.658 1119.19 139.881 1119.74 Q142.103 1120.3 144.58 1120.3 Q148.584 1120.3 150.922 1118.19 Q153.26 1116.08 153.26 1112.47 Q153.26 1108.86 150.922 1106.76 Q148.584 1104.65 144.58 1104.65 Q142.705 1104.65 140.83 1105.07 Q138.978 1105.48 137.033 1106.36 L137.033 1089 Z\" fill=\"#000000\" fill-rule=\"evenodd\" fill-opacity=\"1\" /><path clip-path=\"url(#clip640)\" d=\"M100.76 752.645 Q97.1493 752.645 95.3206 756.209 Q93.515 759.751 93.515 766.881 Q93.515 773.987 95.3206 777.552 Q97.1493 781.094 100.76 781.094 Q104.395 781.094 106.2 777.552 Q108.029 773.987 108.029 766.881 Q108.029 759.751 106.2 756.209 Q104.395 752.645 100.76 752.645 M100.76 748.941 Q106.571 748.941 109.626 753.547 Q112.705 758.131 112.705 766.881 Q112.705 775.608 109.626 780.214 Q106.571 784.797 100.76 784.797 Q94.9502 784.797 91.8715 780.214 Q88.816 775.608 88.816 766.881 Q88.816 758.131 91.8715 753.547 Q94.9502 748.941 100.76 748.941 Z\" fill=\"#000000\" fill-rule=\"evenodd\" fill-opacity=\"1\" /><path clip-path=\"url(#clip640)\" d=\"M120.922 778.246 L125.807 778.246 L125.807 784.126 L120.922 784.126 L120.922 778.246 Z\" fill=\"#000000\" fill-rule=\"evenodd\" fill-opacity=\"1\" /><path clip-path=\"url(#clip640)\" d=\"M145.992 752.645 Q142.381 752.645 140.552 756.209 Q138.746 759.751 138.746 766.881 Q138.746 773.987 140.552 777.552 Q142.381 781.094 145.992 781.094 Q149.626 781.094 151.431 777.552 Q153.26 773.987 153.26 766.881 Q153.26 759.751 151.431 756.209 Q149.626 752.645 145.992 752.645 M145.992 748.941 Q151.802 748.941 154.857 753.547 Q157.936 758.131 157.936 766.881 Q157.936 775.608 154.857 780.214 Q151.802 784.797 145.992 784.797 Q140.181 784.797 137.103 780.214 Q134.047 775.608 134.047 766.881 Q134.047 758.131 137.103 753.547 Q140.181 748.941 145.992 748.941 Z\" fill=\"#000000\" fill-rule=\"evenodd\" fill-opacity=\"1\" /><path clip-path=\"url(#clip640)\" d=\"M101.756 413.21 Q98.1447 413.21 96.316 416.775 Q94.5104 420.316 94.5104 427.446 Q94.5104 434.552 96.316 438.117 Q98.1447 441.659 101.756 441.659 Q105.39 441.659 107.196 438.117 Q109.024 434.552 109.024 427.446 Q109.024 420.316 107.196 416.775 Q105.39 413.21 101.756 413.21 M101.756 409.506 Q107.566 409.506 110.621 414.113 Q113.7 418.696 113.7 427.446 Q113.7 436.173 110.621 440.779 Q107.566 445.362 101.756 445.362 Q95.9456 445.362 92.8669 440.779 Q89.8114 436.173 89.8114 427.446 Q89.8114 418.696 92.8669 414.113 Q95.9456 409.506 101.756 409.506 Z\" fill=\"#000000\" fill-rule=\"evenodd\" fill-opacity=\"1\" /><path clip-path=\"url(#clip640)\" d=\"M121.918 438.812 L126.802 438.812 L126.802 444.691 L121.918 444.691 L121.918 438.812 Z\" fill=\"#000000\" fill-rule=\"evenodd\" fill-opacity=\"1\" /><path clip-path=\"url(#clip640)\" d=\"M137.033 410.131 L155.39 410.131 L155.39 414.066 L141.316 414.066 L141.316 422.538 Q142.334 422.191 143.353 422.029 Q144.371 421.844 145.39 421.844 Q151.177 421.844 154.556 425.015 Q157.936 428.187 157.936 433.603 Q157.936 439.182 154.464 442.284 Q150.992 445.362 144.672 445.362 Q142.496 445.362 140.228 444.992 Q137.982 444.622 135.575 443.881 L135.575 439.182 Q137.658 440.316 139.881 440.872 Q142.103 441.427 144.58 441.427 Q148.584 441.427 150.922 439.321 Q153.26 437.214 153.26 433.603 Q153.26 429.992 150.922 427.886 Q148.584 425.779 144.58 425.779 Q142.705 425.779 140.83 426.196 Q138.978 426.613 137.033 427.492 L137.033 410.131 Z\" fill=\"#000000\" fill-rule=\"evenodd\" fill-opacity=\"1\" /><path clip-path=\"url(#clip640)\" d=\"M91.5706 101.321 L99.2095 101.321 L99.2095 74.9555 L90.8993 76.6222 L90.8993 72.3629 L99.1632 70.6963 L103.839 70.6963 L103.839 101.321 L111.478 101.321 L111.478 105.256 L91.5706 105.256 L91.5706 101.321 Z\" fill=\"#000000\" fill-rule=\"evenodd\" fill-opacity=\"1\" /><path clip-path=\"url(#clip640)\" d=\"M120.922 99.3767 L125.807 99.3767 L125.807 105.256 L120.922 105.256 L120.922 99.3767 Z\" fill=\"#000000\" fill-rule=\"evenodd\" fill-opacity=\"1\" /><path clip-path=\"url(#clip640)\" d=\"M145.992 73.775 Q142.381 73.775 140.552 77.3398 Q138.746 80.8814 138.746 88.011 Q138.746 95.1174 140.552 98.6822 Q142.381 102.224 145.992 102.224 Q149.626 102.224 151.431 98.6822 Q153.26 95.1174 153.26 88.011 Q153.26 80.8814 151.431 77.3398 Q149.626 73.775 145.992 73.775 M145.992 70.0713 Q151.802 70.0713 154.857 74.6777 Q157.936 79.261 157.936 88.011 Q157.936 96.7378 154.857 101.344 Q151.802 105.928 145.992 105.928 Q140.181 105.928 137.103 101.344 Q134.047 96.7378 134.047 88.011 Q134.047 79.261 137.103 74.6777 Q140.181 70.0713 145.992 70.0713 Z\" fill=\"#000000\" fill-rule=\"evenodd\" fill-opacity=\"1\" /><polyline clip-path=\"url(#clip642)\" style=\"stroke:#009af9; stroke-linecap:butt; stroke-linejoin:round; stroke-width:4; stroke-opacity:1; fill:none\" points=\"\n  255.035,1445.72 481.326,1445.72 707.617,1445.72 933.909,87.9763 1160.2,87.9763 1386.49,1445.72 1612.78,87.9763 1839.07,87.9763 2065.37,87.9763 2291.66,87.9763 \n  \n  \"/>\n<polyline clip-path=\"url(#clip642)\" style=\"stroke:#e26f46; stroke-linecap:butt; stroke-linejoin:round; stroke-width:4; stroke-opacity:1; fill:none\" points=\"\n  255.035,87.9763 481.326,87.9763 707.617,87.9763 933.909,1445.72 1160.2,1445.72 1386.49,87.9763 1612.78,1445.72 1839.07,1445.72 2065.37,1445.72 2291.66,1445.72 \n  \n  \"/>\n<path clip-path=\"url(#clip640)\" d=\"\nM2015.79 250.738 L2280.8 250.738 L2280.8 95.2176 L2015.79 95.2176  Z\n  \" fill=\"#ffffff\" fill-rule=\"evenodd\" fill-opacity=\"1\"/>\n<polyline clip-path=\"url(#clip640)\" style=\"stroke:#000000; stroke-linecap:butt; stroke-linejoin:round; stroke-width:4; stroke-opacity:1; fill:none\" points=\"\n  2015.79,250.738 2280.8,250.738 2280.8,95.2176 2015.79,95.2176 2015.79,250.738 \n  \"/>\n<polyline clip-path=\"url(#clip640)\" style=\"stroke:#009af9; stroke-linecap:butt; stroke-linejoin:round; stroke-width:4; stroke-opacity:1; fill:none\" points=\"\n  2039.77,147.058 2183.7,147.058 \n  \"/>\n<path clip-path=\"url(#clip640)\" d=\"M2232.34 138.412 L2222.96 151.027 L2232.82 164.338 L2227.8 164.338 L2220.25 154.152 L2212.71 164.338 L2207.68 164.338 L2217.75 150.773 L2208.54 138.412 L2213.56 138.412 L2220.44 147.648 L2227.31 138.412 L2232.34 138.412 Z\" fill=\"#000000\" fill-rule=\"evenodd\" fill-opacity=\"1\" /><polyline clip-path=\"url(#clip640)\" style=\"stroke:#e26f46; stroke-linecap:butt; stroke-linejoin:round; stroke-width:4; stroke-opacity:1; fill:none\" points=\"\n  2039.77,198.898 2183.7,198.898 \n  \"/>\n<path clip-path=\"url(#clip640)\" d=\"M2219.58 193.238 Q2216.15 193.238 2214.16 195.923 Q2212.17 198.585 2212.17 203.238 Q2212.17 207.891 2214.14 210.576 Q2216.13 213.238 2219.58 213.238 Q2222.98 213.238 2224.97 210.553 Q2226.97 207.867 2226.97 203.238 Q2226.97 198.631 2224.97 195.946 Q2222.98 193.238 2219.58 193.238 M2219.58 189.627 Q2225.14 189.627 2228.31 193.238 Q2231.48 196.849 2231.48 203.238 Q2231.48 209.604 2228.31 213.238 Q2225.14 216.849 2219.58 216.849 Q2214 216.849 2210.83 213.238 Q2207.68 209.604 2207.68 203.238 Q2207.68 196.849 2210.83 193.238 Q2214 189.627 2219.58 189.627 Z\" fill=\"#000000\" fill-rule=\"evenodd\" fill-opacity=\"1\" /></svg>\n",
      "text/html": [
       "<?xml version=\"1.0\" encoding=\"utf-8\"?>\n",
       "<svg xmlns=\"http://www.w3.org/2000/svg\" xmlns:xlink=\"http://www.w3.org/1999/xlink\" width=\"600\" height=\"400\" viewBox=\"0 0 2400 1600\">\n",
       "<defs>\n",
       "  <clipPath id=\"clip690\">\n",
       "    <rect x=\"0\" y=\"0\" width=\"2400\" height=\"1600\"/>\n",
       "  </clipPath>\n",
       "</defs>\n",
       "<path clip-path=\"url(#clip690)\" d=\"\n",
       "M0 1600 L2400 1600 L2400 0 L0 0  Z\n",
       "  \" fill=\"#ffffff\" fill-rule=\"evenodd\" fill-opacity=\"1\"/>\n",
       "<defs>\n",
       "  <clipPath id=\"clip691\">\n",
       "    <rect x=\"480\" y=\"0\" width=\"1681\" height=\"1600\"/>\n",
       "  </clipPath>\n",
       "</defs>\n",
       "<path clip-path=\"url(#clip690)\" d=\"\n",
       "M193.936 1486.45 L2352.76 1486.45 L2352.76 47.2441 L193.936 47.2441  Z\n",
       "  \" fill=\"#ffffff\" fill-rule=\"evenodd\" fill-opacity=\"1\"/>\n",
       "<defs>\n",
       "  <clipPath id=\"clip692\">\n",
       "    <rect x=\"193\" y=\"47\" width=\"2160\" height=\"1440\"/>\n",
       "  </clipPath>\n",
       "</defs>\n",
       "<polyline clip-path=\"url(#clip692)\" style=\"stroke:#000000; stroke-linecap:butt; stroke-linejoin:round; stroke-width:2; stroke-opacity:0.1; fill:none\" points=\"\n",
       "  481.326,1486.45 481.326,47.2441 \n",
       "  \"/>\n",
       "<polyline clip-path=\"url(#clip692)\" style=\"stroke:#000000; stroke-linecap:butt; stroke-linejoin:round; stroke-width:2; stroke-opacity:0.1; fill:none\" points=\"\n",
       "  933.909,1486.45 933.909,47.2441 \n",
       "  \"/>\n",
       "<polyline clip-path=\"url(#clip692)\" style=\"stroke:#000000; stroke-linecap:butt; stroke-linejoin:round; stroke-width:2; stroke-opacity:0.1; fill:none\" points=\"\n",
       "  1386.49,1486.45 1386.49,47.2441 \n",
       "  \"/>\n",
       "<polyline clip-path=\"url(#clip692)\" style=\"stroke:#000000; stroke-linecap:butt; stroke-linejoin:round; stroke-width:2; stroke-opacity:0.1; fill:none\" points=\"\n",
       "  1839.07,1486.45 1839.07,47.2441 \n",
       "  \"/>\n",
       "<polyline clip-path=\"url(#clip692)\" style=\"stroke:#000000; stroke-linecap:butt; stroke-linejoin:round; stroke-width:2; stroke-opacity:0.1; fill:none\" points=\"\n",
       "  2291.66,1486.45 2291.66,47.2441 \n",
       "  \"/>\n",
       "<polyline clip-path=\"url(#clip690)\" style=\"stroke:#000000; stroke-linecap:butt; stroke-linejoin:round; stroke-width:4; stroke-opacity:1; fill:none\" points=\"\n",
       "  193.936,1486.45 2352.76,1486.45 \n",
       "  \"/>\n",
       "<polyline clip-path=\"url(#clip690)\" style=\"stroke:#000000; stroke-linecap:butt; stroke-linejoin:round; stroke-width:4; stroke-opacity:1; fill:none\" points=\"\n",
       "  481.326,1486.45 481.326,1467.55 \n",
       "  \"/>\n",
       "<polyline clip-path=\"url(#clip690)\" style=\"stroke:#000000; stroke-linecap:butt; stroke-linejoin:round; stroke-width:4; stroke-opacity:1; fill:none\" points=\"\n",
       "  933.909,1486.45 933.909,1467.55 \n",
       "  \"/>\n",
       "<polyline clip-path=\"url(#clip690)\" style=\"stroke:#000000; stroke-linecap:butt; stroke-linejoin:round; stroke-width:4; stroke-opacity:1; fill:none\" points=\"\n",
       "  1386.49,1486.45 1386.49,1467.55 \n",
       "  \"/>\n",
       "<polyline clip-path=\"url(#clip690)\" style=\"stroke:#000000; stroke-linecap:butt; stroke-linejoin:round; stroke-width:4; stroke-opacity:1; fill:none\" points=\"\n",
       "  1839.07,1486.45 1839.07,1467.55 \n",
       "  \"/>\n",
       "<polyline clip-path=\"url(#clip690)\" style=\"stroke:#000000; stroke-linecap:butt; stroke-linejoin:round; stroke-width:4; stroke-opacity:1; fill:none\" points=\"\n",
       "  2291.66,1486.45 2291.66,1467.55 \n",
       "  \"/>\n",
       "<path clip-path=\"url(#clip690)\" d=\"M475.979 1544.91 L492.298 1544.91 L492.298 1548.85 L470.354 1548.85 L470.354 1544.91 Q473.016 1542.16 477.599 1537.53 Q482.206 1532.88 483.386 1531.53 Q485.632 1529.01 486.511 1527.27 Q487.414 1525.51 487.414 1523.82 Q487.414 1521.07 485.47 1519.33 Q483.548 1517.6 480.446 1517.6 Q478.247 1517.6 475.794 1518.36 Q473.363 1519.13 470.585 1520.68 L470.585 1515.95 Q473.409 1514.82 475.863 1514.24 Q478.317 1513.66 480.354 1513.66 Q485.724 1513.66 488.919 1516.35 Q492.113 1519.03 492.113 1523.52 Q492.113 1525.65 491.303 1527.57 Q490.516 1529.47 488.409 1532.07 Q487.831 1532.74 484.729 1535.95 Q481.627 1539.15 475.979 1544.91 Z\" fill=\"#000000\" fill-rule=\"evenodd\" fill-opacity=\"1\" /><path clip-path=\"url(#clip690)\" d=\"M936.918 1518.36 L925.113 1536.81 L936.918 1536.81 L936.918 1518.36 M935.691 1514.29 L941.571 1514.29 L941.571 1536.81 L946.501 1536.81 L946.501 1540.7 L941.571 1540.7 L941.571 1548.85 L936.918 1548.85 L936.918 1540.7 L921.316 1540.7 L921.316 1536.19 L935.691 1514.29 Z\" fill=\"#000000\" fill-rule=\"evenodd\" fill-opacity=\"1\" /><path clip-path=\"url(#clip690)\" d=\"M1386.9 1529.7 Q1383.75 1529.7 1381.9 1531.86 Q1380.07 1534.01 1380.07 1537.76 Q1380.07 1541.49 1381.9 1543.66 Q1383.75 1545.82 1386.9 1545.82 Q1390.04 1545.82 1391.87 1543.66 Q1393.73 1541.49 1393.73 1537.76 Q1393.73 1534.01 1391.87 1531.86 Q1390.04 1529.7 1386.9 1529.7 M1396.18 1515.05 L1396.18 1519.31 Q1394.42 1518.48 1392.61 1518.04 Q1390.83 1517.6 1389.07 1517.6 Q1384.44 1517.6 1381.99 1520.72 Q1379.56 1523.85 1379.21 1530.17 Q1380.58 1528.15 1382.64 1527.09 Q1384.7 1526 1387.17 1526 Q1392.38 1526 1395.39 1529.17 Q1398.42 1532.32 1398.42 1537.76 Q1398.42 1543.08 1395.28 1546.3 Q1392.13 1549.52 1386.9 1549.52 Q1380.9 1549.52 1377.73 1544.94 Q1374.56 1540.33 1374.56 1531.6 Q1374.56 1523.41 1378.45 1518.55 Q1382.34 1513.66 1388.89 1513.66 Q1390.65 1513.66 1392.43 1514.01 Q1394.23 1514.36 1396.18 1515.05 Z\" fill=\"#000000\" fill-rule=\"evenodd\" fill-opacity=\"1\" /><path clip-path=\"url(#clip690)\" d=\"M1839.07 1532.44 Q1835.74 1532.44 1833.82 1534.22 Q1831.92 1536 1831.92 1539.13 Q1831.92 1542.25 1833.82 1544.03 Q1835.74 1545.82 1839.07 1545.82 Q1842.41 1545.82 1844.33 1544.03 Q1846.25 1542.23 1846.25 1539.13 Q1846.25 1536 1844.33 1534.22 Q1842.43 1532.44 1839.07 1532.44 M1834.4 1530.45 Q1831.39 1529.7 1829.7 1527.64 Q1828.03 1525.58 1828.03 1522.62 Q1828.03 1518.48 1830.97 1516.07 Q1833.94 1513.66 1839.07 1513.66 Q1844.24 1513.66 1847.18 1516.07 Q1850.12 1518.48 1850.12 1522.62 Q1850.12 1525.58 1848.43 1527.64 Q1846.76 1529.7 1843.77 1530.45 Q1847.15 1531.23 1849.03 1533.52 Q1850.93 1535.82 1850.93 1539.13 Q1850.93 1544.15 1847.85 1546.83 Q1844.79 1549.52 1839.07 1549.52 Q1833.36 1549.52 1830.28 1546.83 Q1827.22 1544.15 1827.22 1539.13 Q1827.22 1535.82 1829.12 1533.52 Q1831.02 1531.23 1834.4 1530.45 M1832.69 1523.06 Q1832.69 1525.75 1834.35 1527.25 Q1836.04 1528.76 1839.07 1528.76 Q1842.08 1528.76 1843.77 1527.25 Q1845.49 1525.75 1845.49 1523.06 Q1845.49 1520.38 1843.77 1518.87 Q1842.08 1517.37 1839.07 1517.37 Q1836.04 1517.37 1834.35 1518.87 Q1832.69 1520.38 1832.69 1523.06 Z\" fill=\"#000000\" fill-rule=\"evenodd\" fill-opacity=\"1\" /><path clip-path=\"url(#clip690)\" d=\"M2266.34 1544.91 L2273.98 1544.91 L2273.98 1518.55 L2265.67 1520.21 L2265.67 1515.95 L2273.94 1514.29 L2278.61 1514.29 L2278.61 1544.91 L2286.25 1544.91 L2286.25 1548.85 L2266.34 1548.85 L2266.34 1544.91 Z\" fill=\"#000000\" fill-rule=\"evenodd\" fill-opacity=\"1\" /><path clip-path=\"url(#clip690)\" d=\"M2305.7 1517.37 Q2302.09 1517.37 2300.26 1520.93 Q2298.45 1524.47 2298.45 1531.6 Q2298.45 1538.71 2300.26 1542.27 Q2302.09 1545.82 2305.7 1545.82 Q2309.33 1545.82 2311.14 1542.27 Q2312.96 1538.71 2312.96 1531.6 Q2312.96 1524.47 2311.14 1520.93 Q2309.33 1517.37 2305.7 1517.37 M2305.7 1513.66 Q2311.51 1513.66 2314.56 1518.27 Q2317.64 1522.85 2317.64 1531.6 Q2317.64 1540.33 2314.56 1544.94 Q2311.51 1549.52 2305.7 1549.52 Q2299.89 1549.52 2296.81 1544.94 Q2293.75 1540.33 2293.75 1531.6 Q2293.75 1522.85 2296.81 1518.27 Q2299.89 1513.66 2305.7 1513.66 Z\" fill=\"#000000\" fill-rule=\"evenodd\" fill-opacity=\"1\" /><polyline clip-path=\"url(#clip692)\" style=\"stroke:#000000; stroke-linecap:butt; stroke-linejoin:round; stroke-width:2; stroke-opacity:0.1; fill:none\" points=\"\n",
       "  193.936,1445.72 2352.76,1445.72 \n",
       "  \"/>\n",
       "<polyline clip-path=\"url(#clip692)\" style=\"stroke:#000000; stroke-linecap:butt; stroke-linejoin:round; stroke-width:2; stroke-opacity:0.1; fill:none\" points=\"\n",
       "  193.936,1106.28 2352.76,1106.28 \n",
       "  \"/>\n",
       "<polyline clip-path=\"url(#clip692)\" style=\"stroke:#000000; stroke-linecap:butt; stroke-linejoin:round; stroke-width:2; stroke-opacity:0.1; fill:none\" points=\"\n",
       "  193.936,766.846 2352.76,766.846 \n",
       "  \"/>\n",
       "<polyline clip-path=\"url(#clip692)\" style=\"stroke:#000000; stroke-linecap:butt; stroke-linejoin:round; stroke-width:2; stroke-opacity:0.1; fill:none\" points=\"\n",
       "  193.936,427.411 2352.76,427.411 \n",
       "  \"/>\n",
       "<polyline clip-path=\"url(#clip692)\" style=\"stroke:#000000; stroke-linecap:butt; stroke-linejoin:round; stroke-width:2; stroke-opacity:0.1; fill:none\" points=\"\n",
       "  193.936,87.9763 2352.76,87.9763 \n",
       "  \"/>\n",
       "<polyline clip-path=\"url(#clip690)\" style=\"stroke:#000000; stroke-linecap:butt; stroke-linejoin:round; stroke-width:4; stroke-opacity:1; fill:none\" points=\"\n",
       "  193.936,1486.45 193.936,47.2441 \n",
       "  \"/>\n",
       "<polyline clip-path=\"url(#clip690)\" style=\"stroke:#000000; stroke-linecap:butt; stroke-linejoin:round; stroke-width:4; stroke-opacity:1; fill:none\" points=\"\n",
       "  193.936,1445.72 212.834,1445.72 \n",
       "  \"/>\n",
       "<polyline clip-path=\"url(#clip690)\" style=\"stroke:#000000; stroke-linecap:butt; stroke-linejoin:round; stroke-width:4; stroke-opacity:1; fill:none\" points=\"\n",
       "  193.936,1106.28 212.834,1106.28 \n",
       "  \"/>\n",
       "<polyline clip-path=\"url(#clip690)\" style=\"stroke:#000000; stroke-linecap:butt; stroke-linejoin:round; stroke-width:4; stroke-opacity:1; fill:none\" points=\"\n",
       "  193.936,766.846 212.834,766.846 \n",
       "  \"/>\n",
       "<polyline clip-path=\"url(#clip690)\" style=\"stroke:#000000; stroke-linecap:butt; stroke-linejoin:round; stroke-width:4; stroke-opacity:1; fill:none\" points=\"\n",
       "  193.936,427.411 212.834,427.411 \n",
       "  \"/>\n",
       "<polyline clip-path=\"url(#clip690)\" style=\"stroke:#000000; stroke-linecap:butt; stroke-linejoin:round; stroke-width:4; stroke-opacity:1; fill:none\" points=\"\n",
       "  193.936,87.9763 212.834,87.9763 \n",
       "  \"/>\n",
       "<path clip-path=\"url(#clip690)\" d=\"M50.9921 1446.17 L80.6679 1446.17 L80.6679 1450.1 L50.9921 1450.1 L50.9921 1446.17 Z\" fill=\"#000000\" fill-rule=\"evenodd\" fill-opacity=\"1\" /><path clip-path=\"url(#clip690)\" d=\"M91.5706 1459.06 L99.2095 1459.06 L99.2095 1432.69 L90.8993 1434.36 L90.8993 1430.1 L99.1632 1428.44 L103.839 1428.44 L103.839 1459.06 L111.478 1459.06 L111.478 1463 L91.5706 1463 L91.5706 1459.06 Z\" fill=\"#000000\" fill-rule=\"evenodd\" fill-opacity=\"1\" /><path clip-path=\"url(#clip690)\" d=\"M120.922 1457.12 L125.807 1457.12 L125.807 1463 L120.922 1463 L120.922 1457.12 Z\" fill=\"#000000\" fill-rule=\"evenodd\" fill-opacity=\"1\" /><path clip-path=\"url(#clip690)\" d=\"M145.992 1431.51 Q142.381 1431.51 140.552 1435.08 Q138.746 1438.62 138.746 1445.75 Q138.746 1452.86 140.552 1456.42 Q142.381 1459.96 145.992 1459.96 Q149.626 1459.96 151.431 1456.42 Q153.26 1452.86 153.26 1445.75 Q153.26 1438.62 151.431 1435.08 Q149.626 1431.51 145.992 1431.51 M145.992 1427.81 Q151.802 1427.81 154.857 1432.42 Q157.936 1437 157.936 1445.75 Q157.936 1454.48 154.857 1459.08 Q151.802 1463.67 145.992 1463.67 Q140.181 1463.67 137.103 1459.08 Q134.047 1454.48 134.047 1445.75 Q134.047 1437 137.103 1432.42 Q140.181 1427.81 145.992 1427.81 Z\" fill=\"#000000\" fill-rule=\"evenodd\" fill-opacity=\"1\" /><path clip-path=\"url(#clip690)\" d=\"M51.9875 1106.73 L81.6633 1106.73 L81.6633 1110.67 L51.9875 1110.67 L51.9875 1106.73 Z\" fill=\"#000000\" fill-rule=\"evenodd\" fill-opacity=\"1\" /><path clip-path=\"url(#clip690)\" d=\"M101.756 1092.08 Q98.1447 1092.08 96.316 1095.64 Q94.5104 1099.19 94.5104 1106.32 Q94.5104 1113.42 96.316 1116.99 Q98.1447 1120.53 101.756 1120.53 Q105.39 1120.53 107.196 1116.99 Q109.024 1113.42 109.024 1106.32 Q109.024 1099.19 107.196 1095.64 Q105.39 1092.08 101.756 1092.08 M101.756 1088.38 Q107.566 1088.38 110.621 1092.98 Q113.7 1097.57 113.7 1106.32 Q113.7 1115.04 110.621 1119.65 Q107.566 1124.23 101.756 1124.23 Q95.9456 1124.23 92.8669 1119.65 Q89.8114 1115.04 89.8114 1106.32 Q89.8114 1097.57 92.8669 1092.98 Q95.9456 1088.38 101.756 1088.38 Z\" fill=\"#000000\" fill-rule=\"evenodd\" fill-opacity=\"1\" /><path clip-path=\"url(#clip690)\" d=\"M121.918 1117.68 L126.802 1117.68 L126.802 1123.56 L121.918 1123.56 L121.918 1117.68 Z\" fill=\"#000000\" fill-rule=\"evenodd\" fill-opacity=\"1\" /><path clip-path=\"url(#clip690)\" d=\"M137.033 1089 L155.39 1089 L155.39 1092.94 L141.316 1092.94 L141.316 1101.41 Q142.334 1101.06 143.353 1100.9 Q144.371 1100.71 145.39 1100.71 Q151.177 1100.71 154.556 1103.89 Q157.936 1107.06 157.936 1112.47 Q157.936 1118.05 154.464 1121.15 Q150.992 1124.23 144.672 1124.23 Q142.496 1124.23 140.228 1123.86 Q137.982 1123.49 135.575 1122.75 L135.575 1118.05 Q137.658 1119.19 139.881 1119.74 Q142.103 1120.3 144.58 1120.3 Q148.584 1120.3 150.922 1118.19 Q153.26 1116.08 153.26 1112.47 Q153.26 1108.86 150.922 1106.76 Q148.584 1104.65 144.58 1104.65 Q142.705 1104.65 140.83 1105.07 Q138.978 1105.48 137.033 1106.36 L137.033 1089 Z\" fill=\"#000000\" fill-rule=\"evenodd\" fill-opacity=\"1\" /><path clip-path=\"url(#clip690)\" d=\"M100.76 752.645 Q97.1493 752.645 95.3206 756.209 Q93.515 759.751 93.515 766.881 Q93.515 773.987 95.3206 777.552 Q97.1493 781.094 100.76 781.094 Q104.395 781.094 106.2 777.552 Q108.029 773.987 108.029 766.881 Q108.029 759.751 106.2 756.209 Q104.395 752.645 100.76 752.645 M100.76 748.941 Q106.571 748.941 109.626 753.547 Q112.705 758.131 112.705 766.881 Q112.705 775.608 109.626 780.214 Q106.571 784.797 100.76 784.797 Q94.9502 784.797 91.8715 780.214 Q88.816 775.608 88.816 766.881 Q88.816 758.131 91.8715 753.547 Q94.9502 748.941 100.76 748.941 Z\" fill=\"#000000\" fill-rule=\"evenodd\" fill-opacity=\"1\" /><path clip-path=\"url(#clip690)\" d=\"M120.922 778.246 L125.807 778.246 L125.807 784.126 L120.922 784.126 L120.922 778.246 Z\" fill=\"#000000\" fill-rule=\"evenodd\" fill-opacity=\"1\" /><path clip-path=\"url(#clip690)\" d=\"M145.992 752.645 Q142.381 752.645 140.552 756.209 Q138.746 759.751 138.746 766.881 Q138.746 773.987 140.552 777.552 Q142.381 781.094 145.992 781.094 Q149.626 781.094 151.431 777.552 Q153.26 773.987 153.26 766.881 Q153.26 759.751 151.431 756.209 Q149.626 752.645 145.992 752.645 M145.992 748.941 Q151.802 748.941 154.857 753.547 Q157.936 758.131 157.936 766.881 Q157.936 775.608 154.857 780.214 Q151.802 784.797 145.992 784.797 Q140.181 784.797 137.103 780.214 Q134.047 775.608 134.047 766.881 Q134.047 758.131 137.103 753.547 Q140.181 748.941 145.992 748.941 Z\" fill=\"#000000\" fill-rule=\"evenodd\" fill-opacity=\"1\" /><path clip-path=\"url(#clip690)\" d=\"M101.756 413.21 Q98.1447 413.21 96.316 416.775 Q94.5104 420.316 94.5104 427.446 Q94.5104 434.552 96.316 438.117 Q98.1447 441.659 101.756 441.659 Q105.39 441.659 107.196 438.117 Q109.024 434.552 109.024 427.446 Q109.024 420.316 107.196 416.775 Q105.39 413.21 101.756 413.21 M101.756 409.506 Q107.566 409.506 110.621 414.113 Q113.7 418.696 113.7 427.446 Q113.7 436.173 110.621 440.779 Q107.566 445.362 101.756 445.362 Q95.9456 445.362 92.8669 440.779 Q89.8114 436.173 89.8114 427.446 Q89.8114 418.696 92.8669 414.113 Q95.9456 409.506 101.756 409.506 Z\" fill=\"#000000\" fill-rule=\"evenodd\" fill-opacity=\"1\" /><path clip-path=\"url(#clip690)\" d=\"M121.918 438.812 L126.802 438.812 L126.802 444.691 L121.918 444.691 L121.918 438.812 Z\" fill=\"#000000\" fill-rule=\"evenodd\" fill-opacity=\"1\" /><path clip-path=\"url(#clip690)\" d=\"M137.033 410.131 L155.39 410.131 L155.39 414.066 L141.316 414.066 L141.316 422.538 Q142.334 422.191 143.353 422.029 Q144.371 421.844 145.39 421.844 Q151.177 421.844 154.556 425.015 Q157.936 428.187 157.936 433.603 Q157.936 439.182 154.464 442.284 Q150.992 445.362 144.672 445.362 Q142.496 445.362 140.228 444.992 Q137.982 444.622 135.575 443.881 L135.575 439.182 Q137.658 440.316 139.881 440.872 Q142.103 441.427 144.58 441.427 Q148.584 441.427 150.922 439.321 Q153.26 437.214 153.26 433.603 Q153.26 429.992 150.922 427.886 Q148.584 425.779 144.58 425.779 Q142.705 425.779 140.83 426.196 Q138.978 426.613 137.033 427.492 L137.033 410.131 Z\" fill=\"#000000\" fill-rule=\"evenodd\" fill-opacity=\"1\" /><path clip-path=\"url(#clip690)\" d=\"M91.5706 101.321 L99.2095 101.321 L99.2095 74.9555 L90.8993 76.6222 L90.8993 72.3629 L99.1632 70.6963 L103.839 70.6963 L103.839 101.321 L111.478 101.321 L111.478 105.256 L91.5706 105.256 L91.5706 101.321 Z\" fill=\"#000000\" fill-rule=\"evenodd\" fill-opacity=\"1\" /><path clip-path=\"url(#clip690)\" d=\"M120.922 99.3767 L125.807 99.3767 L125.807 105.256 L120.922 105.256 L120.922 99.3767 Z\" fill=\"#000000\" fill-rule=\"evenodd\" fill-opacity=\"1\" /><path clip-path=\"url(#clip690)\" d=\"M145.992 73.775 Q142.381 73.775 140.552 77.3398 Q138.746 80.8814 138.746 88.011 Q138.746 95.1174 140.552 98.6822 Q142.381 102.224 145.992 102.224 Q149.626 102.224 151.431 98.6822 Q153.26 95.1174 153.26 88.011 Q153.26 80.8814 151.431 77.3398 Q149.626 73.775 145.992 73.775 M145.992 70.0713 Q151.802 70.0713 154.857 74.6777 Q157.936 79.261 157.936 88.011 Q157.936 96.7378 154.857 101.344 Q151.802 105.928 145.992 105.928 Q140.181 105.928 137.103 101.344 Q134.047 96.7378 134.047 88.011 Q134.047 79.261 137.103 74.6777 Q140.181 70.0713 145.992 70.0713 Z\" fill=\"#000000\" fill-rule=\"evenodd\" fill-opacity=\"1\" /><polyline clip-path=\"url(#clip692)\" style=\"stroke:#009af9; stroke-linecap:butt; stroke-linejoin:round; stroke-width:4; stroke-opacity:1; fill:none\" points=\"\n",
       "  255.035,1445.72 481.326,1445.72 707.617,1445.72 933.909,87.9763 1160.2,87.9763 1386.49,1445.72 1612.78,87.9763 1839.07,87.9763 2065.37,87.9763 2291.66,87.9763 \n",
       "  \n",
       "  \"/>\n",
       "<polyline clip-path=\"url(#clip692)\" style=\"stroke:#e26f46; stroke-linecap:butt; stroke-linejoin:round; stroke-width:4; stroke-opacity:1; fill:none\" points=\"\n",
       "  255.035,87.9763 481.326,87.9763 707.617,87.9763 933.909,1445.72 1160.2,1445.72 1386.49,87.9763 1612.78,1445.72 1839.07,1445.72 2065.37,1445.72 2291.66,1445.72 \n",
       "  \n",
       "  \"/>\n",
       "<path clip-path=\"url(#clip690)\" d=\"\n",
       "M2015.79 250.738 L2280.8 250.738 L2280.8 95.2176 L2015.79 95.2176  Z\n",
       "  \" fill=\"#ffffff\" fill-rule=\"evenodd\" fill-opacity=\"1\"/>\n",
       "<polyline clip-path=\"url(#clip690)\" style=\"stroke:#000000; stroke-linecap:butt; stroke-linejoin:round; stroke-width:4; stroke-opacity:1; fill:none\" points=\"\n",
       "  2015.79,250.738 2280.8,250.738 2280.8,95.2176 2015.79,95.2176 2015.79,250.738 \n",
       "  \"/>\n",
       "<polyline clip-path=\"url(#clip690)\" style=\"stroke:#009af9; stroke-linecap:butt; stroke-linejoin:round; stroke-width:4; stroke-opacity:1; fill:none\" points=\"\n",
       "  2039.77,147.058 2183.7,147.058 \n",
       "  \"/>\n",
       "<path clip-path=\"url(#clip690)\" d=\"M2232.34 138.412 L2222.96 151.027 L2232.82 164.338 L2227.8 164.338 L2220.25 154.152 L2212.71 164.338 L2207.68 164.338 L2217.75 150.773 L2208.54 138.412 L2213.56 138.412 L2220.44 147.648 L2227.31 138.412 L2232.34 138.412 Z\" fill=\"#000000\" fill-rule=\"evenodd\" fill-opacity=\"1\" /><polyline clip-path=\"url(#clip690)\" style=\"stroke:#e26f46; stroke-linecap:butt; stroke-linejoin:round; stroke-width:4; stroke-opacity:1; fill:none\" points=\"\n",
       "  2039.77,198.898 2183.7,198.898 \n",
       "  \"/>\n",
       "<path clip-path=\"url(#clip690)\" d=\"M2219.58 193.238 Q2216.15 193.238 2214.16 195.923 Q2212.17 198.585 2212.17 203.238 Q2212.17 207.891 2214.14 210.576 Q2216.13 213.238 2219.58 213.238 Q2222.98 213.238 2224.97 210.553 Q2226.97 207.867 2226.97 203.238 Q2226.97 198.631 2224.97 195.946 Q2222.98 193.238 2219.58 193.238 M2219.58 189.627 Q2225.14 189.627 2228.31 193.238 Q2231.48 196.849 2231.48 203.238 Q2231.48 209.604 2228.31 213.238 Q2225.14 216.849 2219.58 216.849 Q2214 216.849 2210.83 213.238 Q2207.68 209.604 2207.68 203.238 Q2207.68 196.849 2210.83 193.238 Q2214 189.627 2219.58 189.627 Z\" fill=\"#000000\" fill-rule=\"evenodd\" fill-opacity=\"1\" /></svg>\n"
      ]
     },
     "metadata": {},
     "output_type": "display_data"
    }
   ],
   "source": [
    "plot(multi_agent_hook[x][]; label=\"x\")\n",
    "plot!(multi_agent_hook[o][]; label=\"o\")"
   ]
  },
  {
   "cell_type": "code",
   "execution_count": 43,
   "metadata": {},
   "outputs": [
    {
     "data": {
      "text/plain": [
       "TabularVApproximator{Vector{Float64}, InvDecay}([0.0, 0.0, 0.0, 0.0, 0.0, 0.0, 0.0, 0.0, 0.0, 0.0], InvDecay(1.0, IdDict{Any, Any}()))"
      ]
     },
     "metadata": {},
     "output_type": "display_data"
    }
   ],
   "source": [
    "using Flux\n",
    "A = TabularVApproximator(;n_state=10, init=0.0, opt=InvDecay(1.0))\n",
    "A"
   ]
  },
  {
   "cell_type": "markdown",
   "metadata": {},
   "source": [
    "A TabularVApproximator uses a Vector underlying to estimate the state value. Here the Tabular means that the state is required to be an Integer. The code above created a TabularVApproximator which has a table of 10 states, 1:10, and each state value is initialized to 0.0. We can get the estimation by:"
   ]
  },
  {
   "cell_type": "code",
   "execution_count": 46,
   "metadata": {},
   "outputs": [
    {
     "data": {
      "text/plain": [
       "0.0"
      ]
     },
     "metadata": {},
     "output_type": "display_data"
    }
   ],
   "source": [
    "A(1)"
   ]
  },
  {
   "cell_type": "code",
   "execution_count": 47,
   "metadata": {},
   "outputs": [
    {
     "data": {
      "text/plain": [
       "0-dimensional view(::Vector{Float64}, 2) with eltype Float64:\n",
       "3.333333333333333"
      ]
     },
     "metadata": {},
     "output_type": "display_data"
    }
   ],
   "source": [
    "update!(A, 2 => A(2) - 5.)"
   ]
  },
  {
   "cell_type": "code",
   "execution_count": 48,
   "metadata": {},
   "outputs": [
    {
     "data": {
      "text/plain": [
       "true"
      ]
     },
     "metadata": {},
     "output_type": "display_data"
    }
   ],
   "source": [
    "examples = 1:10\n",
    "for x in examples\n",
    "    update!(A, 1 => A(1) - x)\n",
    "end\n",
    "A(1) == (0. #= the init value is 0. =# + sum(examples)) / (1+length(examples))"
   ]
  },
  {
   "cell_type": "markdown",
   "metadata": {},
   "source": [
    "#### MonteCarloLearner"
   ]
  },
  {
   "cell_type": "code",
   "execution_count": 49,
   "metadata": {},
   "outputs": [
    {
     "data": {
      "text/plain": [
       "typename(MonteCarloLearner)\n",
       "├─ approximator => typename(TabularApproximator)\n",
       "│  ├─ table => 5478-element Vector{Float64}\n",
       "│  └─ optimizer => typename(InvDecay)\n",
       "│     ├─ gamma => 1.0\n",
       "│     └─ state => typename(IdDict)\n",
       "├─ γ => 1.0\n",
       "├─ kind => typename(ReinforcementLearningZoo.FirstVisit)\n",
       "└─ sampling => typename(ReinforcementLearningZoo.NoSampling)\n"
      ]
     },
     "metadata": {},
     "output_type": "display_data"
    }
   ],
   "source": [
    "M = MonteCarloLearner(;\n",
    "\tapproximator = TabularVApproximator(;n_state=5478, init=0., opt=InvDecay(1.0)),\n",
    "\tγ = 1.0,\n",
    "\tkind = FIRST_VISIT,\n",
    "\tsampling = NO_SAMPLING\n",
    ")"
   ]
  },
  {
   "cell_type": "code",
   "execution_count": 50,
   "metadata": {},
   "outputs": [
    {
     "data": {
      "text/plain": [
       "0.0"
      ]
     },
     "metadata": {},
     "output_type": "display_data"
    }
   ],
   "source": [
    "M(1)"
   ]
  },
  {
   "cell_type": "code",
   "execution_count": 51,
   "metadata": {},
   "outputs": [
    {
     "ename": "MethodError",
     "evalue": "MethodError: no method matching (::TabularVApproximator{Vector{Float64}, InvDecay})(::String)\nClosest candidates are:\n  (::TabularVApproximator)(!Matched::Int64) at ~/.julia/packages/ReinforcementLearningCore/hGrFE/src/policies/q_based_policies/learners/approximators/tabular_approximator.jl:45",
     "output_type": "error",
     "traceback": [
      "MethodError: no method matching (::TabularVApproximator{Vector{Float64}, InvDecay})(::String)\n",
      "Closest candidates are:\n",
      "  (::TabularVApproximator)(!Matched::Int64) at ~/.julia/packages/ReinforcementLearningCore/hGrFE/src/policies/q_based_policies/learners/approximators/tabular_approximator.jl:45\n",
      "\n",
      "Stacktrace:\n",
      " [1] (::MonteCarloLearner{TabularVApproximator{Vector{Float64}, InvDecay}, ReinforcementLearningZoo.FirstVisit, ReinforcementLearningZoo.NoSampling})(s::String)\n",
      "   @ ReinforcementLearningZoo ~/.julia/packages/ReinforcementLearningZoo/PYEc7/src/algorithms/tabular/monte_carlo_learner.jl:45\n",
      " [2] (::MonteCarloLearner{TabularVApproximator{Vector{Float64}, InvDecay}, ReinforcementLearningZoo.FirstVisit, ReinforcementLearningZoo.NoSampling})(env::TicTacToeEnv)\n",
      "   @ ReinforcementLearningZoo ~/.julia/packages/ReinforcementLearningZoo/PYEc7/src/algorithms/tabular/monte_carlo_learner.jl:44\n",
      " [3] top-level scope\n",
      "   @ /workspaces/ReinforcementLearningAnIntroduction.jl/jupyter-notebook/Chapter01_Tic_Tac_Toe.ipynb:1"
     ]
    }
   ],
   "source": [
    "M(env)"
   ]
  },
  {
   "cell_type": "code",
   "execution_count": 52,
   "metadata": {},
   "outputs": [
    {
     "data": {
      "text/markdown": [
       "# TicTacToeEnv |> DefaultStateStyleEnv\n",
       "\n",
       "## Traits\n",
       "\n",
       "| Trait Type        |                                                                     Value |\n",
       "|:----------------- | -------------------------------------------------------------------------:|\n",
       "| NumAgentStyle     |                                                           MultiAgent{2}() |\n",
       "| DynamicStyle      |                                                              Sequential() |\n",
       "| InformationStyle  |                                                      PerfectInformation() |\n",
       "| ChanceStyle       |                                                           Deterministic() |\n",
       "| RewardStyle       |                                                          TerminalReward() |\n",
       "| UtilityStyle      |                                                                 ZeroSum() |\n",
       "| ActionStyle       |                                                           FullActionSet() |\n",
       "| StateStyle        | (Observation{String}(), Observation{Int64}(), Observation{BitArray{3}}()) |\n",
       "| DefaultStateStyle |                                                      Observation{Int64}() |\n",
       "\n",
       "## Is Environment Terminated?\n",
       "\n",
       "Yes\n",
       "\n",
       "## State Space\n",
       "\n",
       "`Base.OneTo(5478)`\n",
       "\n",
       "## Action Space\n",
       "\n",
       "`Base.OneTo(9)`\n",
       "\n",
       "## Players\n",
       "\n",
       "  * `ReinforcementLearningEnvironments.Cross()`\n",
       "  * `ReinforcementLearningEnvironments.Nought()`\n",
       "\n",
       "## Current Player\n",
       "\n",
       "`ReinforcementLearningEnvironments.Nought()`\n",
       "\n",
       "## Current State\n",
       "\n",
       "```\n",
       "940\n",
       "```\n"
      ],
      "text/plain": [
       "# TicTacToeEnv |> DefaultStateStyleEnv\n",
       "\n",
       "## Traits\n",
       "\n",
       "| Trait Type        |                                                                     Value |\n",
       "|:----------------- | -------------------------------------------------------------------------:|\n",
       "| NumAgentStyle     |                                                           MultiAgent{2}() |\n",
       "| DynamicStyle      |                                                              Sequential() |\n",
       "| InformationStyle  |                                                      PerfectInformation() |\n",
       "| ChanceStyle       |                                                           Deterministic() |\n",
       "| RewardStyle       |                                                          TerminalReward() |\n",
       "| UtilityStyle      |                                                                 ZeroSum() |\n",
       "| ActionStyle       |                                                           FullActionSet() |\n",
       "| StateStyle        | (Observation{String}(), Observation{Int64}(), Observation{BitArray{3}}()) |\n",
       "| DefaultStateStyle |                                                      Observation{Int64}() |\n",
       "\n",
       "## Is Environment Terminated?\n",
       "\n",
       "Yes\n",
       "\n",
       "## State Space\n",
       "\n",
       "`Base.OneTo(5478)`\n",
       "\n",
       "## Action Space\n",
       "\n",
       "`Base.OneTo(9)`\n",
       "\n",
       "## Players\n",
       "\n",
       "  * `ReinforcementLearningEnvironments.Cross()`\n",
       "  * `ReinforcementLearningEnvironments.Nought()`\n",
       "\n",
       "## Current Player\n",
       "\n",
       "`ReinforcementLearningEnvironments.Nought()`\n",
       "\n",
       "## Current State\n",
       "\n",
       "```\n",
       "940\n",
       "```\n"
      ]
     },
     "metadata": {},
     "output_type": "display_data"
    }
   ],
   "source": [
    "E = DefaultStateStyleEnv{Observation{Int}()}(env)"
   ]
  },
  {
   "cell_type": "code",
   "execution_count": 54,
   "metadata": {},
   "outputs": [
    {
     "data": {
      "text/plain": [
       "940"
      ]
     },
     "metadata": {},
     "output_type": "display_data"
    }
   ],
   "source": [
    "state(E)"
   ]
  },
  {
   "cell_type": "code",
   "execution_count": 55,
   "metadata": {},
   "outputs": [
    {
     "data": {
      "text/plain": [
       "EpsilonGreedyExplorer{:linear, false, Random._GLOBAL_RNG}(0.1, 1.0, 0, 0, 1, Random._GLOBAL_RNG(), true)"
      ]
     },
     "metadata": {},
     "output_type": "display_data"
    }
   ],
   "source": [
    "explorer = EpsilonGreedyExplorer(0.1)"
   ]
  },
  {
   "cell_type": "code",
   "execution_count": 56,
   "metadata": {},
   "outputs": [
    {
     "data": {
      "image/png": "[encoded data removed]",
      "image/svg+xml": "<?xml version=\"1.0\" encoding=\"utf-8\"?>\n<svg xmlns=\"http://www.w3.org/2000/svg\" xmlns:xlink=\"http://www.w3.org/1999/xlink\" width=\"600\" height=\"400\" viewBox=\"0 0 2400 1600\">\n<defs>\n  <clipPath id=\"clip730\">\n    <rect x=\"0\" y=\"0\" width=\"2400\" height=\"1600\"/>\n  </clipPath>\n</defs>\n<path clip-path=\"url(#clip730)\" d=\"\nM0 1600 L2400 1600 L2400 0 L0 0  Z\n  \" fill=\"#ffffff\" fill-rule=\"evenodd\" fill-opacity=\"1\"/>\n<defs>\n  <clipPath id=\"clip731\">\n    <rect x=\"480\" y=\"0\" width=\"1681\" height=\"1600\"/>\n  </clipPath>\n</defs>\n<path clip-path=\"url(#clip730)\" d=\"\nM156.598 1486.45 L2352.76 1486.45 L2352.76 47.2441 L156.598 47.2441  Z\n  \" fill=\"#ffffff\" fill-rule=\"evenodd\" fill-opacity=\"1\"/>\n<defs>\n  <clipPath id=\"clip732\">\n    <rect x=\"156\" y=\"47\" width=\"2197\" height=\"1440\"/>\n  </clipPath>\n</defs>\n<polyline clip-path=\"url(#clip732)\" style=\"stroke:#000000; stroke-linecap:butt; stroke-linejoin:round; stroke-width:2; stroke-opacity:0.1; fill:none\" points=\"\n  218.754,1486.45 218.754,47.2441 \n  \"/>\n<polyline clip-path=\"url(#clip732)\" style=\"stroke:#000000; stroke-linecap:butt; stroke-linejoin:round; stroke-width:2; stroke-opacity:0.1; fill:none\" points=\"\n  909.369,1486.45 909.369,47.2441 \n  \"/>\n<polyline clip-path=\"url(#clip732)\" style=\"stroke:#000000; stroke-linecap:butt; stroke-linejoin:round; stroke-width:2; stroke-opacity:0.1; fill:none\" points=\"\n  1599.98,1486.45 1599.98,47.2441 \n  \"/>\n<polyline clip-path=\"url(#clip732)\" style=\"stroke:#000000; stroke-linecap:butt; stroke-linejoin:round; stroke-width:2; stroke-opacity:0.1; fill:none\" points=\"\n  2290.6,1486.45 2290.6,47.2441 \n  \"/>\n<polyline clip-path=\"url(#clip730)\" style=\"stroke:#000000; stroke-linecap:butt; stroke-linejoin:round; stroke-width:4; stroke-opacity:1; fill:none\" points=\"\n  156.598,1486.45 2352.76,1486.45 \n  \"/>\n<polyline clip-path=\"url(#clip730)\" style=\"stroke:#000000; stroke-linecap:butt; stroke-linejoin:round; stroke-width:4; stroke-opacity:1; fill:none\" points=\"\n  218.754,1486.45 218.754,1467.55 \n  \"/>\n<polyline clip-path=\"url(#clip730)\" style=\"stroke:#000000; stroke-linecap:butt; stroke-linejoin:round; stroke-width:4; stroke-opacity:1; fill:none\" points=\"\n  909.369,1486.45 909.369,1467.55 \n  \"/>\n<polyline clip-path=\"url(#clip730)\" style=\"stroke:#000000; stroke-linecap:butt; stroke-linejoin:round; stroke-width:4; stroke-opacity:1; fill:none\" points=\"\n  1599.98,1486.45 1599.98,1467.55 \n  \"/>\n<polyline clip-path=\"url(#clip730)\" style=\"stroke:#000000; stroke-linecap:butt; stroke-linejoin:round; stroke-width:4; stroke-opacity:1; fill:none\" points=\"\n  2290.6,1486.45 2290.6,1467.55 \n  \"/>\n<path clip-path=\"url(#clip730)\" d=\"M209.136 1544.91 L216.774 1544.91 L216.774 1518.55 L208.464 1520.21 L208.464 1515.95 L216.728 1514.29 L221.404 1514.29 L221.404 1544.91 L229.043 1544.91 L229.043 1548.85 L209.136 1548.85 L209.136 1544.91 Z\" fill=\"#000000\" fill-rule=\"evenodd\" fill-opacity=\"1\" /><path clip-path=\"url(#clip730)\" d=\"M904.022 1544.91 L920.341 1544.91 L920.341 1548.85 L898.397 1548.85 L898.397 1544.91 Q901.059 1542.16 905.642 1537.53 Q910.249 1532.88 911.429 1531.53 Q913.675 1529.01 914.554 1527.27 Q915.457 1525.51 915.457 1523.82 Q915.457 1521.07 913.513 1519.33 Q911.591 1517.6 908.49 1517.6 Q906.291 1517.6 903.837 1518.36 Q901.406 1519.13 898.629 1520.68 L898.629 1515.95 Q901.453 1514.82 903.906 1514.24 Q906.36 1513.66 908.397 1513.66 Q913.767 1513.66 916.962 1516.35 Q920.156 1519.03 920.156 1523.52 Q920.156 1525.65 919.346 1527.57 Q918.559 1529.47 916.453 1532.07 Q915.874 1532.74 912.772 1535.95 Q909.67 1539.15 904.022 1544.91 Z\" fill=\"#000000\" fill-rule=\"evenodd\" fill-opacity=\"1\" /><path clip-path=\"url(#clip730)\" d=\"M1604.23 1530.21 Q1607.59 1530.93 1609.46 1533.2 Q1611.36 1535.47 1611.36 1538.8 Q1611.36 1543.92 1607.84 1546.72 Q1604.33 1549.52 1597.84 1549.52 Q1595.67 1549.52 1593.35 1549.08 Q1591.06 1548.66 1588.61 1547.81 L1588.61 1543.29 Q1590.55 1544.43 1592.87 1545.01 Q1595.18 1545.58 1597.7 1545.58 Q1602.1 1545.58 1604.39 1543.85 Q1606.71 1542.11 1606.71 1538.8 Q1606.71 1535.75 1604.56 1534.03 Q1602.43 1532.3 1598.61 1532.3 L1594.58 1532.3 L1594.58 1528.45 L1598.79 1528.45 Q1602.24 1528.45 1604.07 1527.09 Q1605.9 1525.7 1605.9 1523.11 Q1605.9 1520.45 1604 1519.03 Q1602.13 1517.6 1598.61 1517.6 Q1596.69 1517.6 1594.49 1518.01 Q1592.29 1518.43 1589.65 1519.31 L1589.65 1515.14 Q1592.31 1514.4 1594.63 1514.03 Q1596.96 1513.66 1599.02 1513.66 Q1604.35 1513.66 1607.45 1516.09 Q1610.55 1518.5 1610.55 1522.62 Q1610.55 1525.49 1608.91 1527.48 Q1607.26 1529.45 1604.23 1530.21 Z\" fill=\"#000000\" fill-rule=\"evenodd\" fill-opacity=\"1\" /><path clip-path=\"url(#clip730)\" d=\"M2293.61 1518.36 L2281.8 1536.81 L2293.61 1536.81 L2293.61 1518.36 M2292.38 1514.29 L2298.26 1514.29 L2298.26 1536.81 L2303.19 1536.81 L2303.19 1540.7 L2298.26 1540.7 L2298.26 1548.85 L2293.61 1548.85 L2293.61 1540.7 L2278.01 1540.7 L2278.01 1536.19 L2292.38 1514.29 Z\" fill=\"#000000\" fill-rule=\"evenodd\" fill-opacity=\"1\" /><polyline clip-path=\"url(#clip732)\" style=\"stroke:#000000; stroke-linecap:butt; stroke-linejoin:round; stroke-width:2; stroke-opacity:0.1; fill:none\" points=\"\n  156.598,1473.97 2352.76,1473.97 \n  \"/>\n<polyline clip-path=\"url(#clip732)\" style=\"stroke:#000000; stroke-linecap:butt; stroke-linejoin:round; stroke-width:2; stroke-opacity:0.1; fill:none\" points=\"\n  156.598,1176.55 2352.76,1176.55 \n  \"/>\n<polyline clip-path=\"url(#clip732)\" style=\"stroke:#000000; stroke-linecap:butt; stroke-linejoin:round; stroke-width:2; stroke-opacity:0.1; fill:none\" points=\"\n  156.598,879.123 2352.76,879.123 \n  \"/>\n<polyline clip-path=\"url(#clip732)\" style=\"stroke:#000000; stroke-linecap:butt; stroke-linejoin:round; stroke-width:2; stroke-opacity:0.1; fill:none\" points=\"\n  156.598,581.7 2352.76,581.7 \n  \"/>\n<polyline clip-path=\"url(#clip732)\" style=\"stroke:#000000; stroke-linecap:butt; stroke-linejoin:round; stroke-width:2; stroke-opacity:0.1; fill:none\" points=\"\n  156.598,284.276 2352.76,284.276 \n  \"/>\n<polyline clip-path=\"url(#clip730)\" style=\"stroke:#000000; stroke-linecap:butt; stroke-linejoin:round; stroke-width:4; stroke-opacity:1; fill:none\" points=\"\n  156.598,1486.45 156.598,47.2441 \n  \"/>\n<polyline clip-path=\"url(#clip730)\" style=\"stroke:#000000; stroke-linecap:butt; stroke-linejoin:round; stroke-width:4; stroke-opacity:1; fill:none\" points=\"\n  156.598,1473.97 175.496,1473.97 \n  \"/>\n<polyline clip-path=\"url(#clip730)\" style=\"stroke:#000000; stroke-linecap:butt; stroke-linejoin:round; stroke-width:4; stroke-opacity:1; fill:none\" points=\"\n  156.598,1176.55 175.496,1176.55 \n  \"/>\n<polyline clip-path=\"url(#clip730)\" style=\"stroke:#000000; stroke-linecap:butt; stroke-linejoin:round; stroke-width:4; stroke-opacity:1; fill:none\" points=\"\n  156.598,879.123 175.496,879.123 \n  \"/>\n<polyline clip-path=\"url(#clip730)\" style=\"stroke:#000000; stroke-linecap:butt; stroke-linejoin:round; stroke-width:4; stroke-opacity:1; fill:none\" points=\"\n  156.598,581.7 175.496,581.7 \n  \"/>\n<polyline clip-path=\"url(#clip730)\" style=\"stroke:#000000; stroke-linecap:butt; stroke-linejoin:round; stroke-width:4; stroke-opacity:1; fill:none\" points=\"\n  156.598,284.276 175.496,284.276 \n  \"/>\n<path clip-path=\"url(#clip730)\" d=\"M63.4226 1459.77 Q59.8115 1459.77 57.9828 1463.33 Q56.1773 1466.88 56.1773 1474.01 Q56.1773 1481.11 57.9828 1484.68 Q59.8115 1488.22 63.4226 1488.22 Q67.0569 1488.22 68.8624 1484.68 Q70.6911 1481.11 70.6911 1474.01 Q70.6911 1466.88 68.8624 1463.33 Q67.0569 1459.77 63.4226 1459.77 M63.4226 1456.07 Q69.2328 1456.07 72.2883 1460.67 Q75.367 1465.26 75.367 1474.01 Q75.367 1482.73 72.2883 1487.34 Q69.2328 1491.92 63.4226 1491.92 Q57.6125 1491.92 54.5338 1487.34 Q51.4782 1482.73 51.4782 1474.01 Q51.4782 1465.26 54.5338 1460.67 Q57.6125 1456.07 63.4226 1456.07 Z\" fill=\"#000000\" fill-rule=\"evenodd\" fill-opacity=\"1\" /><path clip-path=\"url(#clip730)\" d=\"M83.5845 1485.37 L88.4688 1485.37 L88.4688 1491.25 L83.5845 1491.25 L83.5845 1485.37 Z\" fill=\"#000000\" fill-rule=\"evenodd\" fill-opacity=\"1\" /><path clip-path=\"url(#clip730)\" d=\"M108.654 1459.77 Q105.043 1459.77 103.214 1463.33 Q101.409 1466.88 101.409 1474.01 Q101.409 1481.11 103.214 1484.68 Q105.043 1488.22 108.654 1488.22 Q112.288 1488.22 114.094 1484.68 Q115.922 1481.11 115.922 1474.01 Q115.922 1466.88 114.094 1463.33 Q112.288 1459.77 108.654 1459.77 M108.654 1456.07 Q114.464 1456.07 117.52 1460.67 Q120.598 1465.26 120.598 1474.01 Q120.598 1482.73 117.52 1487.34 Q114.464 1491.92 108.654 1491.92 Q102.844 1491.92 99.765 1487.34 Q96.7095 1482.73 96.7095 1474.01 Q96.7095 1465.26 99.765 1460.67 Q102.844 1456.07 108.654 1456.07 Z\" fill=\"#000000\" fill-rule=\"evenodd\" fill-opacity=\"1\" /><path clip-path=\"url(#clip730)\" d=\"M65.0198 1162.35 Q61.4087 1162.35 59.58 1165.91 Q57.7745 1169.45 57.7745 1176.58 Q57.7745 1183.69 59.58 1187.25 Q61.4087 1190.79 65.0198 1190.79 Q68.6541 1190.79 70.4596 1187.25 Q72.2883 1183.69 72.2883 1176.58 Q72.2883 1169.45 70.4596 1165.91 Q68.6541 1162.35 65.0198 1162.35 M65.0198 1158.64 Q70.83 1158.64 73.8855 1163.25 Q76.9642 1167.83 76.9642 1176.58 Q76.9642 1185.31 73.8855 1189.92 Q70.83 1194.5 65.0198 1194.5 Q59.2097 1194.5 56.131 1189.92 Q53.0754 1185.31 53.0754 1176.58 Q53.0754 1167.83 56.131 1163.25 Q59.2097 1158.64 65.0198 1158.64 Z\" fill=\"#000000\" fill-rule=\"evenodd\" fill-opacity=\"1\" /><path clip-path=\"url(#clip730)\" d=\"M85.1818 1187.95 L90.066 1187.95 L90.066 1193.83 L85.1818 1193.83 L85.1818 1187.95 Z\" fill=\"#000000\" fill-rule=\"evenodd\" fill-opacity=\"1\" /><path clip-path=\"url(#clip730)\" d=\"M104.279 1189.89 L120.598 1189.89 L120.598 1193.83 L98.6539 1193.83 L98.6539 1189.89 Q101.316 1187.14 105.899 1182.51 Q110.506 1177.86 111.686 1176.51 Q113.932 1173.99 114.811 1172.25 Q115.714 1170.49 115.714 1168.8 Q115.714 1166.05 113.77 1164.31 Q111.848 1162.58 108.746 1162.58 Q106.547 1162.58 104.094 1163.34 Q101.663 1164.11 98.8854 1165.66 L98.8854 1160.93 Q101.709 1159.8 104.163 1159.22 Q106.617 1158.64 108.654 1158.64 Q114.024 1158.64 117.219 1161.33 Q120.413 1164.01 120.413 1168.5 Q120.413 1170.63 119.603 1172.55 Q118.816 1174.45 116.709 1177.04 Q116.131 1177.72 113.029 1180.93 Q109.927 1184.13 104.279 1189.89 Z\" fill=\"#000000\" fill-rule=\"evenodd\" fill-opacity=\"1\" /><path clip-path=\"url(#clip730)\" d=\"M62.9365 864.922 Q59.3254 864.922 57.4967 868.487 Q55.6912 872.029 55.6912 879.158 Q55.6912 886.265 57.4967 889.829 Q59.3254 893.371 62.9365 893.371 Q66.5707 893.371 68.3763 889.829 Q70.205 886.265 70.205 879.158 Q70.205 872.029 68.3763 868.487 Q66.5707 864.922 62.9365 864.922 M62.9365 861.218 Q68.7467 861.218 71.8022 865.825 Q74.8809 870.408 74.8809 879.158 Q74.8809 887.885 71.8022 892.491 Q68.7467 897.075 62.9365 897.075 Q57.1264 897.075 54.0477 892.491 Q50.9921 887.885 50.9921 879.158 Q50.9921 870.408 54.0477 865.825 Q57.1264 861.218 62.9365 861.218 Z\" fill=\"#000000\" fill-rule=\"evenodd\" fill-opacity=\"1\" /><path clip-path=\"url(#clip730)\" d=\"M83.0984 890.524 L87.9827 890.524 L87.9827 896.403 L83.0984 896.403 L83.0984 890.524 Z\" fill=\"#000000\" fill-rule=\"evenodd\" fill-opacity=\"1\" /><path clip-path=\"url(#clip730)\" d=\"M111.015 865.918 L99.2095 884.366 L111.015 884.366 L111.015 865.918 M109.788 861.843 L115.668 861.843 L115.668 884.366 L120.598 884.366 L120.598 888.255 L115.668 888.255 L115.668 896.403 L111.015 896.403 L111.015 888.255 L95.4132 888.255 L95.4132 883.741 L109.788 861.843 Z\" fill=\"#000000\" fill-rule=\"evenodd\" fill-opacity=\"1\" /><path clip-path=\"url(#clip730)\" d=\"M63.2606 567.498 Q59.6495 567.498 57.8208 571.063 Q56.0152 574.605 56.0152 581.734 Q56.0152 588.841 57.8208 592.406 Q59.6495 595.947 63.2606 595.947 Q66.8948 595.947 68.7004 592.406 Q70.5291 588.841 70.5291 581.734 Q70.5291 574.605 68.7004 571.063 Q66.8948 567.498 63.2606 567.498 M63.2606 563.795 Q69.0707 563.795 72.1263 568.401 Q75.205 572.984 75.205 581.734 Q75.205 590.461 72.1263 595.068 Q69.0707 599.651 63.2606 599.651 Q57.4504 599.651 54.3717 595.068 Q51.3162 590.461 51.3162 581.734 Q51.3162 572.984 54.3717 568.401 Q57.4504 563.795 63.2606 563.795 Z\" fill=\"#000000\" fill-rule=\"evenodd\" fill-opacity=\"1\" /><path clip-path=\"url(#clip730)\" d=\"M83.4225 593.1 L88.3067 593.1 L88.3067 598.98 L83.4225 598.98 L83.4225 593.1 Z\" fill=\"#000000\" fill-rule=\"evenodd\" fill-opacity=\"1\" /><path clip-path=\"url(#clip730)\" d=\"M109.071 579.836 Q105.922 579.836 104.071 581.989 Q102.242 584.142 102.242 587.892 Q102.242 591.619 104.071 593.795 Q105.922 595.947 109.071 595.947 Q112.219 595.947 114.047 593.795 Q115.899 591.619 115.899 587.892 Q115.899 584.142 114.047 581.989 Q112.219 579.836 109.071 579.836 M118.353 565.184 L118.353 569.443 Q116.594 568.609 114.788 568.17 Q113.006 567.73 111.246 567.73 Q106.617 567.73 104.163 570.855 Q101.733 573.98 101.385 580.299 Q102.751 578.285 104.811 577.221 Q106.871 576.133 109.348 576.133 Q114.557 576.133 117.566 579.304 Q120.598 582.452 120.598 587.892 Q120.598 593.216 117.45 596.433 Q114.302 599.651 109.071 599.651 Q103.075 599.651 99.9039 595.068 Q96.7326 590.461 96.7326 581.734 Q96.7326 573.54 100.621 568.679 Q104.51 563.795 111.061 563.795 Q112.82 563.795 114.603 564.142 Q116.408 564.489 118.353 565.184 Z\" fill=\"#000000\" fill-rule=\"evenodd\" fill-opacity=\"1\" /><path clip-path=\"url(#clip730)\" d=\"M63.5152 270.075 Q59.9041 270.075 58.0754 273.639 Q56.2699 277.181 56.2699 284.311 Q56.2699 291.417 58.0754 294.982 Q59.9041 298.524 63.5152 298.524 Q67.1494 298.524 68.955 294.982 Q70.7837 291.417 70.7837 284.311 Q70.7837 277.181 68.955 273.639 Q67.1494 270.075 63.5152 270.075 M63.5152 266.371 Q69.3254 266.371 72.3809 270.977 Q75.4596 275.561 75.4596 284.311 Q75.4596 293.037 72.3809 297.644 Q69.3254 302.227 63.5152 302.227 Q57.7051 302.227 54.6264 297.644 Q51.5708 293.037 51.5708 284.311 Q51.5708 275.561 54.6264 270.977 Q57.7051 266.371 63.5152 266.371 Z\" fill=\"#000000\" fill-rule=\"evenodd\" fill-opacity=\"1\" /><path clip-path=\"url(#clip730)\" d=\"M83.6771 295.676 L88.5614 295.676 L88.5614 301.556 L83.6771 301.556 L83.6771 295.676 Z\" fill=\"#000000\" fill-rule=\"evenodd\" fill-opacity=\"1\" /><path clip-path=\"url(#clip730)\" d=\"M108.746 285.144 Q105.413 285.144 103.492 286.926 Q101.594 288.709 101.594 291.834 Q101.594 294.959 103.492 296.741 Q105.413 298.524 108.746 298.524 Q112.08 298.524 114.001 296.741 Q115.922 294.936 115.922 291.834 Q115.922 288.709 114.001 286.926 Q112.103 285.144 108.746 285.144 M104.071 283.153 Q101.061 282.413 99.3715 280.352 Q97.7048 278.292 97.7048 275.329 Q97.7048 271.186 100.645 268.778 Q103.608 266.371 108.746 266.371 Q113.908 266.371 116.848 268.778 Q119.788 271.186 119.788 275.329 Q119.788 278.292 118.098 280.352 Q116.432 282.413 113.445 283.153 Q116.825 283.94 118.7 286.232 Q120.598 288.524 120.598 291.834 Q120.598 296.857 117.52 299.542 Q114.464 302.227 108.746 302.227 Q103.029 302.227 99.9502 299.542 Q96.8947 296.857 96.8947 291.834 Q96.8947 288.524 98.7928 286.232 Q100.691 283.94 104.071 283.153 M102.358 275.769 Q102.358 278.454 104.024 279.959 Q105.714 281.463 108.746 281.463 Q111.756 281.463 113.445 279.959 Q115.158 278.454 115.158 275.769 Q115.158 273.084 113.445 271.579 Q111.756 270.075 108.746 270.075 Q105.714 270.075 104.024 271.579 Q102.358 273.084 102.358 275.769 Z\" fill=\"#000000\" fill-rule=\"evenodd\" fill-opacity=\"1\" /><polyline clip-path=\"url(#clip732)\" style=\"stroke:#009af9; stroke-linecap:butt; stroke-linejoin:round; stroke-width:4; stroke-opacity:1; fill:none\" points=\"\n  218.754,1445.72 909.369,1432.33 1599.98,87.9763 2290.6,1442.74 \n  \"/>\n<path clip-path=\"url(#clip730)\" d=\"\nM1983.1 198.898 L2279.55 198.898 L2279.55 95.2176 L1983.1 95.2176  Z\n  \" fill=\"#ffffff\" fill-rule=\"evenodd\" fill-opacity=\"1\"/>\n<polyline clip-path=\"url(#clip730)\" style=\"stroke:#000000; stroke-linecap:butt; stroke-linejoin:round; stroke-width:4; stroke-opacity:1; fill:none\" points=\"\n  1983.1,198.898 2279.55,198.898 2279.55,95.2176 1983.1,95.2176 1983.1,198.898 \n  \"/>\n<polyline clip-path=\"url(#clip730)\" style=\"stroke:#009af9; stroke-linecap:butt; stroke-linejoin:round; stroke-width:4; stroke-opacity:1; fill:none\" points=\"\n  2007.5,147.058 2153.92,147.058 \n  \"/>\n<path clip-path=\"url(#clip730)\" d=\"M2192.16 166.745 Q2190.35 171.375 2188.64 172.787 Q2186.93 174.199 2184.06 174.199 L2180.65 174.199 L2180.65 170.634 L2183.15 170.634 Q2184.91 170.634 2185.89 169.8 Q2186.86 168.967 2188.04 165.865 L2188.8 163.921 L2178.32 138.412 L2182.83 138.412 L2190.93 158.689 L2199.03 138.412 L2203.55 138.412 L2192.16 166.745 Z\" fill=\"#000000\" fill-rule=\"evenodd\" fill-opacity=\"1\" /><path clip-path=\"url(#clip730)\" d=\"M2210.84 160.402 L2218.48 160.402 L2218.48 134.037 L2210.17 135.703 L2210.17 131.444 L2218.43 129.778 L2223.11 129.778 L2223.11 160.402 L2230.75 160.402 L2230.75 164.338 L2210.84 164.338 L2210.84 160.402 Z\" fill=\"#000000\" fill-rule=\"evenodd\" fill-opacity=\"1\" /></svg>\n",
      "text/html": [
       "<?xml version=\"1.0\" encoding=\"utf-8\"?>\n",
       "<svg xmlns=\"http://www.w3.org/2000/svg\" xmlns:xlink=\"http://www.w3.org/1999/xlink\" width=\"600\" height=\"400\" viewBox=\"0 0 2400 1600\">\n",
       "<defs>\n",
       "  <clipPath id=\"clip780\">\n",
       "    <rect x=\"0\" y=\"0\" width=\"2400\" height=\"1600\"/>\n",
       "  </clipPath>\n",
       "</defs>\n",
       "<path clip-path=\"url(#clip780)\" d=\"\n",
       "M0 1600 L2400 1600 L2400 0 L0 0  Z\n",
       "  \" fill=\"#ffffff\" fill-rule=\"evenodd\" fill-opacity=\"1\"/>\n",
       "<defs>\n",
       "  <clipPath id=\"clip781\">\n",
       "    <rect x=\"480\" y=\"0\" width=\"1681\" height=\"1600\"/>\n",
       "  </clipPath>\n",
       "</defs>\n",
       "<path clip-path=\"url(#clip780)\" d=\"\n",
       "M156.598 1486.45 L2352.76 1486.45 L2352.76 47.2441 L156.598 47.2441  Z\n",
       "  \" fill=\"#ffffff\" fill-rule=\"evenodd\" fill-opacity=\"1\"/>\n",
       "<defs>\n",
       "  <clipPath id=\"clip782\">\n",
       "    <rect x=\"156\" y=\"47\" width=\"2197\" height=\"1440\"/>\n",
       "  </clipPath>\n",
       "</defs>\n",
       "<polyline clip-path=\"url(#clip782)\" style=\"stroke:#000000; stroke-linecap:butt; stroke-linejoin:round; stroke-width:2; stroke-opacity:0.1; fill:none\" points=\"\n",
       "  218.754,1486.45 218.754,47.2441 \n",
       "  \"/>\n",
       "<polyline clip-path=\"url(#clip782)\" style=\"stroke:#000000; stroke-linecap:butt; stroke-linejoin:round; stroke-width:2; stroke-opacity:0.1; fill:none\" points=\"\n",
       "  909.369,1486.45 909.369,47.2441 \n",
       "  \"/>\n",
       "<polyline clip-path=\"url(#clip782)\" style=\"stroke:#000000; stroke-linecap:butt; stroke-linejoin:round; stroke-width:2; stroke-opacity:0.1; fill:none\" points=\"\n",
       "  1599.98,1486.45 1599.98,47.2441 \n",
       "  \"/>\n",
       "<polyline clip-path=\"url(#clip782)\" style=\"stroke:#000000; stroke-linecap:butt; stroke-linejoin:round; stroke-width:2; stroke-opacity:0.1; fill:none\" points=\"\n",
       "  2290.6,1486.45 2290.6,47.2441 \n",
       "  \"/>\n",
       "<polyline clip-path=\"url(#clip780)\" style=\"stroke:#000000; stroke-linecap:butt; stroke-linejoin:round; stroke-width:4; stroke-opacity:1; fill:none\" points=\"\n",
       "  156.598,1486.45 2352.76,1486.45 \n",
       "  \"/>\n",
       "<polyline clip-path=\"url(#clip780)\" style=\"stroke:#000000; stroke-linecap:butt; stroke-linejoin:round; stroke-width:4; stroke-opacity:1; fill:none\" points=\"\n",
       "  218.754,1486.45 218.754,1467.55 \n",
       "  \"/>\n",
       "<polyline clip-path=\"url(#clip780)\" style=\"stroke:#000000; stroke-linecap:butt; stroke-linejoin:round; stroke-width:4; stroke-opacity:1; fill:none\" points=\"\n",
       "  909.369,1486.45 909.369,1467.55 \n",
       "  \"/>\n",
       "<polyline clip-path=\"url(#clip780)\" style=\"stroke:#000000; stroke-linecap:butt; stroke-linejoin:round; stroke-width:4; stroke-opacity:1; fill:none\" points=\"\n",
       "  1599.98,1486.45 1599.98,1467.55 \n",
       "  \"/>\n",
       "<polyline clip-path=\"url(#clip780)\" style=\"stroke:#000000; stroke-linecap:butt; stroke-linejoin:round; stroke-width:4; stroke-opacity:1; fill:none\" points=\"\n",
       "  2290.6,1486.45 2290.6,1467.55 \n",
       "  \"/>\n",
       "<path clip-path=\"url(#clip780)\" d=\"M209.136 1544.91 L216.774 1544.91 L216.774 1518.55 L208.464 1520.21 L208.464 1515.95 L216.728 1514.29 L221.404 1514.29 L221.404 1544.91 L229.043 1544.91 L229.043 1548.85 L209.136 1548.85 L209.136 1544.91 Z\" fill=\"#000000\" fill-rule=\"evenodd\" fill-opacity=\"1\" /><path clip-path=\"url(#clip780)\" d=\"M904.022 1544.91 L920.341 1544.91 L920.341 1548.85 L898.397 1548.85 L898.397 1544.91 Q901.059 1542.16 905.642 1537.53 Q910.249 1532.88 911.429 1531.53 Q913.675 1529.01 914.554 1527.27 Q915.457 1525.51 915.457 1523.82 Q915.457 1521.07 913.513 1519.33 Q911.591 1517.6 908.49 1517.6 Q906.291 1517.6 903.837 1518.36 Q901.406 1519.13 898.629 1520.68 L898.629 1515.95 Q901.453 1514.82 903.906 1514.24 Q906.36 1513.66 908.397 1513.66 Q913.767 1513.66 916.962 1516.35 Q920.156 1519.03 920.156 1523.52 Q920.156 1525.65 919.346 1527.57 Q918.559 1529.47 916.453 1532.07 Q915.874 1532.74 912.772 1535.95 Q909.67 1539.15 904.022 1544.91 Z\" fill=\"#000000\" fill-rule=\"evenodd\" fill-opacity=\"1\" /><path clip-path=\"url(#clip780)\" d=\"M1604.23 1530.21 Q1607.59 1530.93 1609.46 1533.2 Q1611.36 1535.47 1611.36 1538.8 Q1611.36 1543.92 1607.84 1546.72 Q1604.33 1549.52 1597.84 1549.52 Q1595.67 1549.52 1593.35 1549.08 Q1591.06 1548.66 1588.61 1547.81 L1588.61 1543.29 Q1590.55 1544.43 1592.87 1545.01 Q1595.18 1545.58 1597.7 1545.58 Q1602.1 1545.58 1604.39 1543.85 Q1606.71 1542.11 1606.71 1538.8 Q1606.71 1535.75 1604.56 1534.03 Q1602.43 1532.3 1598.61 1532.3 L1594.58 1532.3 L1594.58 1528.45 L1598.79 1528.45 Q1602.24 1528.45 1604.07 1527.09 Q1605.9 1525.7 1605.9 1523.11 Q1605.9 1520.45 1604 1519.03 Q1602.13 1517.6 1598.61 1517.6 Q1596.69 1517.6 1594.49 1518.01 Q1592.29 1518.43 1589.65 1519.31 L1589.65 1515.14 Q1592.31 1514.4 1594.63 1514.03 Q1596.96 1513.66 1599.02 1513.66 Q1604.35 1513.66 1607.45 1516.09 Q1610.55 1518.5 1610.55 1522.62 Q1610.55 1525.49 1608.91 1527.48 Q1607.26 1529.45 1604.23 1530.21 Z\" fill=\"#000000\" fill-rule=\"evenodd\" fill-opacity=\"1\" /><path clip-path=\"url(#clip780)\" d=\"M2293.61 1518.36 L2281.8 1536.81 L2293.61 1536.81 L2293.61 1518.36 M2292.38 1514.29 L2298.26 1514.29 L2298.26 1536.81 L2303.19 1536.81 L2303.19 1540.7 L2298.26 1540.7 L2298.26 1548.85 L2293.61 1548.85 L2293.61 1540.7 L2278.01 1540.7 L2278.01 1536.19 L2292.38 1514.29 Z\" fill=\"#000000\" fill-rule=\"evenodd\" fill-opacity=\"1\" /><polyline clip-path=\"url(#clip782)\" style=\"stroke:#000000; stroke-linecap:butt; stroke-linejoin:round; stroke-width:2; stroke-opacity:0.1; fill:none\" points=\"\n",
       "  156.598,1473.97 2352.76,1473.97 \n",
       "  \"/>\n",
       "<polyline clip-path=\"url(#clip782)\" style=\"stroke:#000000; stroke-linecap:butt; stroke-linejoin:round; stroke-width:2; stroke-opacity:0.1; fill:none\" points=\"\n",
       "  156.598,1176.55 2352.76,1176.55 \n",
       "  \"/>\n",
       "<polyline clip-path=\"url(#clip782)\" style=\"stroke:#000000; stroke-linecap:butt; stroke-linejoin:round; stroke-width:2; stroke-opacity:0.1; fill:none\" points=\"\n",
       "  156.598,879.123 2352.76,879.123 \n",
       "  \"/>\n",
       "<polyline clip-path=\"url(#clip782)\" style=\"stroke:#000000; stroke-linecap:butt; stroke-linejoin:round; stroke-width:2; stroke-opacity:0.1; fill:none\" points=\"\n",
       "  156.598,581.7 2352.76,581.7 \n",
       "  \"/>\n",
       "<polyline clip-path=\"url(#clip782)\" style=\"stroke:#000000; stroke-linecap:butt; stroke-linejoin:round; stroke-width:2; stroke-opacity:0.1; fill:none\" points=\"\n",
       "  156.598,284.276 2352.76,284.276 \n",
       "  \"/>\n",
       "<polyline clip-path=\"url(#clip780)\" style=\"stroke:#000000; stroke-linecap:butt; stroke-linejoin:round; stroke-width:4; stroke-opacity:1; fill:none\" points=\"\n",
       "  156.598,1486.45 156.598,47.2441 \n",
       "  \"/>\n",
       "<polyline clip-path=\"url(#clip780)\" style=\"stroke:#000000; stroke-linecap:butt; stroke-linejoin:round; stroke-width:4; stroke-opacity:1; fill:none\" points=\"\n",
       "  156.598,1473.97 175.496,1473.97 \n",
       "  \"/>\n",
       "<polyline clip-path=\"url(#clip780)\" style=\"stroke:#000000; stroke-linecap:butt; stroke-linejoin:round; stroke-width:4; stroke-opacity:1; fill:none\" points=\"\n",
       "  156.598,1176.55 175.496,1176.55 \n",
       "  \"/>\n",
       "<polyline clip-path=\"url(#clip780)\" style=\"stroke:#000000; stroke-linecap:butt; stroke-linejoin:round; stroke-width:4; stroke-opacity:1; fill:none\" points=\"\n",
       "  156.598,879.123 175.496,879.123 \n",
       "  \"/>\n",
       "<polyline clip-path=\"url(#clip780)\" style=\"stroke:#000000; stroke-linecap:butt; stroke-linejoin:round; stroke-width:4; stroke-opacity:1; fill:none\" points=\"\n",
       "  156.598,581.7 175.496,581.7 \n",
       "  \"/>\n",
       "<polyline clip-path=\"url(#clip780)\" style=\"stroke:#000000; stroke-linecap:butt; stroke-linejoin:round; stroke-width:4; stroke-opacity:1; fill:none\" points=\"\n",
       "  156.598,284.276 175.496,284.276 \n",
       "  \"/>\n",
       "<path clip-path=\"url(#clip780)\" d=\"M63.4226 1459.77 Q59.8115 1459.77 57.9828 1463.33 Q56.1773 1466.88 56.1773 1474.01 Q56.1773 1481.11 57.9828 1484.68 Q59.8115 1488.22 63.4226 1488.22 Q67.0569 1488.22 68.8624 1484.68 Q70.6911 1481.11 70.6911 1474.01 Q70.6911 1466.88 68.8624 1463.33 Q67.0569 1459.77 63.4226 1459.77 M63.4226 1456.07 Q69.2328 1456.07 72.2883 1460.67 Q75.367 1465.26 75.367 1474.01 Q75.367 1482.73 72.2883 1487.34 Q69.2328 1491.92 63.4226 1491.92 Q57.6125 1491.92 54.5338 1487.34 Q51.4782 1482.73 51.4782 1474.01 Q51.4782 1465.26 54.5338 1460.67 Q57.6125 1456.07 63.4226 1456.07 Z\" fill=\"#000000\" fill-rule=\"evenodd\" fill-opacity=\"1\" /><path clip-path=\"url(#clip780)\" d=\"M83.5845 1485.37 L88.4688 1485.37 L88.4688 1491.25 L83.5845 1491.25 L83.5845 1485.37 Z\" fill=\"#000000\" fill-rule=\"evenodd\" fill-opacity=\"1\" /><path clip-path=\"url(#clip780)\" d=\"M108.654 1459.77 Q105.043 1459.77 103.214 1463.33 Q101.409 1466.88 101.409 1474.01 Q101.409 1481.11 103.214 1484.68 Q105.043 1488.22 108.654 1488.22 Q112.288 1488.22 114.094 1484.68 Q115.922 1481.11 115.922 1474.01 Q115.922 1466.88 114.094 1463.33 Q112.288 1459.77 108.654 1459.77 M108.654 1456.07 Q114.464 1456.07 117.52 1460.67 Q120.598 1465.26 120.598 1474.01 Q120.598 1482.73 117.52 1487.34 Q114.464 1491.92 108.654 1491.92 Q102.844 1491.92 99.765 1487.34 Q96.7095 1482.73 96.7095 1474.01 Q96.7095 1465.26 99.765 1460.67 Q102.844 1456.07 108.654 1456.07 Z\" fill=\"#000000\" fill-rule=\"evenodd\" fill-opacity=\"1\" /><path clip-path=\"url(#clip780)\" d=\"M65.0198 1162.35 Q61.4087 1162.35 59.58 1165.91 Q57.7745 1169.45 57.7745 1176.58 Q57.7745 1183.69 59.58 1187.25 Q61.4087 1190.79 65.0198 1190.79 Q68.6541 1190.79 70.4596 1187.25 Q72.2883 1183.69 72.2883 1176.58 Q72.2883 1169.45 70.4596 1165.91 Q68.6541 1162.35 65.0198 1162.35 M65.0198 1158.64 Q70.83 1158.64 73.8855 1163.25 Q76.9642 1167.83 76.9642 1176.58 Q76.9642 1185.31 73.8855 1189.92 Q70.83 1194.5 65.0198 1194.5 Q59.2097 1194.5 56.131 1189.92 Q53.0754 1185.31 53.0754 1176.58 Q53.0754 1167.83 56.131 1163.25 Q59.2097 1158.64 65.0198 1158.64 Z\" fill=\"#000000\" fill-rule=\"evenodd\" fill-opacity=\"1\" /><path clip-path=\"url(#clip780)\" d=\"M85.1818 1187.95 L90.066 1187.95 L90.066 1193.83 L85.1818 1193.83 L85.1818 1187.95 Z\" fill=\"#000000\" fill-rule=\"evenodd\" fill-opacity=\"1\" /><path clip-path=\"url(#clip780)\" d=\"M104.279 1189.89 L120.598 1189.89 L120.598 1193.83 L98.6539 1193.83 L98.6539 1189.89 Q101.316 1187.14 105.899 1182.51 Q110.506 1177.86 111.686 1176.51 Q113.932 1173.99 114.811 1172.25 Q115.714 1170.49 115.714 1168.8 Q115.714 1166.05 113.77 1164.31 Q111.848 1162.58 108.746 1162.58 Q106.547 1162.58 104.094 1163.34 Q101.663 1164.11 98.8854 1165.66 L98.8854 1160.93 Q101.709 1159.8 104.163 1159.22 Q106.617 1158.64 108.654 1158.64 Q114.024 1158.64 117.219 1161.33 Q120.413 1164.01 120.413 1168.5 Q120.413 1170.63 119.603 1172.55 Q118.816 1174.45 116.709 1177.04 Q116.131 1177.72 113.029 1180.93 Q109.927 1184.13 104.279 1189.89 Z\" fill=\"#000000\" fill-rule=\"evenodd\" fill-opacity=\"1\" /><path clip-path=\"url(#clip780)\" d=\"M62.9365 864.922 Q59.3254 864.922 57.4967 868.487 Q55.6912 872.029 55.6912 879.158 Q55.6912 886.265 57.4967 889.829 Q59.3254 893.371 62.9365 893.371 Q66.5707 893.371 68.3763 889.829 Q70.205 886.265 70.205 879.158 Q70.205 872.029 68.3763 868.487 Q66.5707 864.922 62.9365 864.922 M62.9365 861.218 Q68.7467 861.218 71.8022 865.825 Q74.8809 870.408 74.8809 879.158 Q74.8809 887.885 71.8022 892.491 Q68.7467 897.075 62.9365 897.075 Q57.1264 897.075 54.0477 892.491 Q50.9921 887.885 50.9921 879.158 Q50.9921 870.408 54.0477 865.825 Q57.1264 861.218 62.9365 861.218 Z\" fill=\"#000000\" fill-rule=\"evenodd\" fill-opacity=\"1\" /><path clip-path=\"url(#clip780)\" d=\"M83.0984 890.524 L87.9827 890.524 L87.9827 896.403 L83.0984 896.403 L83.0984 890.524 Z\" fill=\"#000000\" fill-rule=\"evenodd\" fill-opacity=\"1\" /><path clip-path=\"url(#clip780)\" d=\"M111.015 865.918 L99.2095 884.366 L111.015 884.366 L111.015 865.918 M109.788 861.843 L115.668 861.843 L115.668 884.366 L120.598 884.366 L120.598 888.255 L115.668 888.255 L115.668 896.403 L111.015 896.403 L111.015 888.255 L95.4132 888.255 L95.4132 883.741 L109.788 861.843 Z\" fill=\"#000000\" fill-rule=\"evenodd\" fill-opacity=\"1\" /><path clip-path=\"url(#clip780)\" d=\"M63.2606 567.498 Q59.6495 567.498 57.8208 571.063 Q56.0152 574.605 56.0152 581.734 Q56.0152 588.841 57.8208 592.406 Q59.6495 595.947 63.2606 595.947 Q66.8948 595.947 68.7004 592.406 Q70.5291 588.841 70.5291 581.734 Q70.5291 574.605 68.7004 571.063 Q66.8948 567.498 63.2606 567.498 M63.2606 563.795 Q69.0707 563.795 72.1263 568.401 Q75.205 572.984 75.205 581.734 Q75.205 590.461 72.1263 595.068 Q69.0707 599.651 63.2606 599.651 Q57.4504 599.651 54.3717 595.068 Q51.3162 590.461 51.3162 581.734 Q51.3162 572.984 54.3717 568.401 Q57.4504 563.795 63.2606 563.795 Z\" fill=\"#000000\" fill-rule=\"evenodd\" fill-opacity=\"1\" /><path clip-path=\"url(#clip780)\" d=\"M83.4225 593.1 L88.3067 593.1 L88.3067 598.98 L83.4225 598.98 L83.4225 593.1 Z\" fill=\"#000000\" fill-rule=\"evenodd\" fill-opacity=\"1\" /><path clip-path=\"url(#clip780)\" d=\"M109.071 579.836 Q105.922 579.836 104.071 581.989 Q102.242 584.142 102.242 587.892 Q102.242 591.619 104.071 593.795 Q105.922 595.947 109.071 595.947 Q112.219 595.947 114.047 593.795 Q115.899 591.619 115.899 587.892 Q115.899 584.142 114.047 581.989 Q112.219 579.836 109.071 579.836 M118.353 565.184 L118.353 569.443 Q116.594 568.609 114.788 568.17 Q113.006 567.73 111.246 567.73 Q106.617 567.73 104.163 570.855 Q101.733 573.98 101.385 580.299 Q102.751 578.285 104.811 577.221 Q106.871 576.133 109.348 576.133 Q114.557 576.133 117.566 579.304 Q120.598 582.452 120.598 587.892 Q120.598 593.216 117.45 596.433 Q114.302 599.651 109.071 599.651 Q103.075 599.651 99.9039 595.068 Q96.7326 590.461 96.7326 581.734 Q96.7326 573.54 100.621 568.679 Q104.51 563.795 111.061 563.795 Q112.82 563.795 114.603 564.142 Q116.408 564.489 118.353 565.184 Z\" fill=\"#000000\" fill-rule=\"evenodd\" fill-opacity=\"1\" /><path clip-path=\"url(#clip780)\" d=\"M63.5152 270.075 Q59.9041 270.075 58.0754 273.639 Q56.2699 277.181 56.2699 284.311 Q56.2699 291.417 58.0754 294.982 Q59.9041 298.524 63.5152 298.524 Q67.1494 298.524 68.955 294.982 Q70.7837 291.417 70.7837 284.311 Q70.7837 277.181 68.955 273.639 Q67.1494 270.075 63.5152 270.075 M63.5152 266.371 Q69.3254 266.371 72.3809 270.977 Q75.4596 275.561 75.4596 284.311 Q75.4596 293.037 72.3809 297.644 Q69.3254 302.227 63.5152 302.227 Q57.7051 302.227 54.6264 297.644 Q51.5708 293.037 51.5708 284.311 Q51.5708 275.561 54.6264 270.977 Q57.7051 266.371 63.5152 266.371 Z\" fill=\"#000000\" fill-rule=\"evenodd\" fill-opacity=\"1\" /><path clip-path=\"url(#clip780)\" d=\"M83.6771 295.676 L88.5614 295.676 L88.5614 301.556 L83.6771 301.556 L83.6771 295.676 Z\" fill=\"#000000\" fill-rule=\"evenodd\" fill-opacity=\"1\" /><path clip-path=\"url(#clip780)\" d=\"M108.746 285.144 Q105.413 285.144 103.492 286.926 Q101.594 288.709 101.594 291.834 Q101.594 294.959 103.492 296.741 Q105.413 298.524 108.746 298.524 Q112.08 298.524 114.001 296.741 Q115.922 294.936 115.922 291.834 Q115.922 288.709 114.001 286.926 Q112.103 285.144 108.746 285.144 M104.071 283.153 Q101.061 282.413 99.3715 280.352 Q97.7048 278.292 97.7048 275.329 Q97.7048 271.186 100.645 268.778 Q103.608 266.371 108.746 266.371 Q113.908 266.371 116.848 268.778 Q119.788 271.186 119.788 275.329 Q119.788 278.292 118.098 280.352 Q116.432 282.413 113.445 283.153 Q116.825 283.94 118.7 286.232 Q120.598 288.524 120.598 291.834 Q120.598 296.857 117.52 299.542 Q114.464 302.227 108.746 302.227 Q103.029 302.227 99.9502 299.542 Q96.8947 296.857 96.8947 291.834 Q96.8947 288.524 98.7928 286.232 Q100.691 283.94 104.071 283.153 M102.358 275.769 Q102.358 278.454 104.024 279.959 Q105.714 281.463 108.746 281.463 Q111.756 281.463 113.445 279.959 Q115.158 278.454 115.158 275.769 Q115.158 273.084 113.445 271.579 Q111.756 270.075 108.746 270.075 Q105.714 270.075 104.024 271.579 Q102.358 273.084 102.358 275.769 Z\" fill=\"#000000\" fill-rule=\"evenodd\" fill-opacity=\"1\" /><polyline clip-path=\"url(#clip782)\" style=\"stroke:#009af9; stroke-linecap:butt; stroke-linejoin:round; stroke-width:4; stroke-opacity:1; fill:none\" points=\"\n",
       "  218.754,1445.72 909.369,1432.33 1599.98,87.9763 2290.6,1442.74 \n",
       "  \"/>\n",
       "<path clip-path=\"url(#clip780)\" d=\"\n",
       "M1983.1 198.898 L2279.55 198.898 L2279.55 95.2176 L1983.1 95.2176  Z\n",
       "  \" fill=\"#ffffff\" fill-rule=\"evenodd\" fill-opacity=\"1\"/>\n",
       "<polyline clip-path=\"url(#clip780)\" style=\"stroke:#000000; stroke-linecap:butt; stroke-linejoin:round; stroke-width:4; stroke-opacity:1; fill:none\" points=\"\n",
       "  1983.1,198.898 2279.55,198.898 2279.55,95.2176 1983.1,95.2176 1983.1,198.898 \n",
       "  \"/>\n",
       "<polyline clip-path=\"url(#clip780)\" style=\"stroke:#009af9; stroke-linecap:butt; stroke-linejoin:round; stroke-width:4; stroke-opacity:1; fill:none\" points=\"\n",
       "  2007.5,147.058 2153.92,147.058 \n",
       "  \"/>\n",
       "<path clip-path=\"url(#clip780)\" d=\"M2192.16 166.745 Q2190.35 171.375 2188.64 172.787 Q2186.93 174.199 2184.06 174.199 L2180.65 174.199 L2180.65 170.634 L2183.15 170.634 Q2184.91 170.634 2185.89 169.8 Q2186.86 168.967 2188.04 165.865 L2188.8 163.921 L2178.32 138.412 L2182.83 138.412 L2190.93 158.689 L2199.03 138.412 L2203.55 138.412 L2192.16 166.745 Z\" fill=\"#000000\" fill-rule=\"evenodd\" fill-opacity=\"1\" /><path clip-path=\"url(#clip780)\" d=\"M2210.84 160.402 L2218.48 160.402 L2218.48 134.037 L2210.17 135.703 L2210.17 131.444 L2218.43 129.778 L2223.11 129.778 L2223.11 160.402 L2230.75 160.402 L2230.75 164.338 L2210.84 164.338 L2210.84 160.402 Z\" fill=\"#000000\" fill-rule=\"evenodd\" fill-opacity=\"1\" /></svg>\n"
      ]
     },
     "metadata": {},
     "output_type": "display_data"
    }
   ],
   "source": [
    "values = [1, 2, 3, 1]\n",
    "N = 1000\n",
    "actions = [explorer(values) for _ in 1:N]\n",
    "plot([sum(actions .== i)/N for i in 1:length(values)])"
   ]
  },
  {
   "cell_type": "code",
   "execution_count": 57,
   "metadata": {},
   "outputs": [
    {
     "data": {
      "text/plain": [
       "select_action (generic function with 1 method)"
      ]
     },
     "metadata": {},
     "output_type": "display_data"
    }
   ],
   "source": [
    "function select_action(env, V)\n",
    "\tA = legal_action_space(env)\n",
    "    values = map(A) do a\n",
    "        V(child(env, a))\n",
    "    end\n",
    "    A[explorer(values)]\n",
    "end"
   ]
  },
  {
   "cell_type": "code",
   "execution_count": 58,
   "metadata": {},
   "outputs": [
    {
     "data": {
      "text/plain": [
       "typename(VBasedPolicy)\n",
       "├─ learner => typename(MonteCarloLearner)\n",
       "│  ├─ approximator => typename(TabularApproximator)\n",
       "│  │  ├─ table => 5478-element Vector{Float64}\n",
       "│  │  └─ optimizer => typename(InvDecay)\n",
       "│  │     ├─ gamma => 1.0\n",
       "│  │     └─ state => typename(IdDict)\n",
       "│  ├─ γ => 1.0\n",
       "│  ├─ kind => typename(ReinforcementLearningZoo.FirstVisit)\n",
       "│  └─ sampling => typename(ReinforcementLearningZoo.NoSampling)\n",
       "└─ mapping => typename(typeof(select_action))\n"
      ]
     },
     "metadata": {},
     "output_type": "display_data"
    }
   ],
   "source": [
    "P = VBasedPolicy(;learner=M, mapping=select_action)"
   ]
  },
  {
   "cell_type": "code",
   "execution_count": 59,
   "metadata": {},
   "outputs": [
    {
     "data": {
      "text/plain": [
       "ReinforcementLearningEnvironments.Cross()"
      ]
     },
     "metadata": {},
     "output_type": "display_data"
    }
   ],
   "source": [
    "reset!(E)"
   ]
  },
  {
   "cell_type": "code",
   "execution_count": 60,
   "metadata": {},
   "outputs": [
    {
     "data": {
      "text/plain": [
       "1"
      ]
     },
     "metadata": {},
     "output_type": "display_data"
    }
   ],
   "source": [
    "P(E)"
   ]
  },
  {
   "cell_type": "code",
   "execution_count": 61,
   "metadata": {},
   "outputs": [
    {
     "data": {
      "text/plain": [
       "EmptyHook()"
      ]
     },
     "metadata": {},
     "output_type": "display_data"
    }
   ],
   "source": [
    "run(P, E, StopAfterEpisode(10))"
   ]
  },
  {
   "cell_type": "markdown",
   "metadata": {},
   "source": [
    "## Training"
   ]
  },
  {
   "cell_type": "code",
   "execution_count": 62,
   "metadata": {},
   "outputs": [
    {
     "name": "stderr",
     "output_type": "stream",
     "text": [
      "┌ Warning: use values(kwargs) and keys(kwargs) instead of kwargs.data and kwargs.itr\n",
      "│   caller = VectorTrajectory(; kwargs::Base.Pairs{Symbol, Type, NTuple{4, Symbol}, NamedTuple{(:state, :action, :reward, :terminal), Tuple{DataType, Union, DataType, DataType}}}) at trajectory.jl:455\n",
      "└ @ ReinforcementLearningCore /home/vscode/.julia/packages/ReinforcementLearningCore/hGrFE/src/policies/agents/trajectories/trajectory.jl:455\n"
     ]
    },
    {
     "data": {
      "text/plain": [
       "typename(MultiAgentManager)\n",
       "└─ agents => typename(Dict)\n"
      ]
     },
     "metadata": {},
     "output_type": "display_data"
    }
   ],
   "source": [
    "policies = MultiAgentManager(\n",
    "\t(\n",
    "\t\tAgent(\n",
    "\t\t\tpolicy = NamedPolicy(\n",
    "\t\t\t\tp => VBasedPolicy(;\n",
    "\t\t\t\t\tlearner=MonteCarloLearner(;\n",
    "\t\t\t\t\t\tapproximator = TabularVApproximator(;\n",
    "\t\t\t\t\t\t\tn_state=length(state_space(E)),\n",
    "\t\t\t\t\t\t\tinit=0.,\n",
    "\t\t\t\t\t\t\topt=InvDecay(1.0)\n",
    "\t\t\t\t\t\t),\n",
    "\t\t\t\t\t\tγ = 1.0,\n",
    "\t\t\t\t\t\tkind = FIRST_VISIT,\n",
    "\t\t\t\t\t\tsampling = NO_SAMPLING\n",
    "\t\t\t\t\t),\n",
    "\t\t\t\t\tmapping = select_action\n",
    "\t\t\t\t)\n",
    "\t\t\t),\n",
    "\t\t\ttrajectory =VectorSARTTrajectory(\n",
    "\t\t\t\t\t;state=Int,\n",
    "\t\t\t\t\taction=Union{Int, NoOp},\n",
    "\t\t\t\t\treward=Int,\n",
    "\t\t\t\t\tterminal=Bool\n",
    "\t\t\t)\n",
    "\t\t)\n",
    "\t\tfor p in players(E)\n",
    "\t)...\n",
    ")"
   ]
  },
  {
   "cell_type": "code",
   "execution_count": 64,
   "metadata": {},
   "outputs": [
    {
     "name": "stderr",
     "output_type": "stream",
     "text": [
      "\r\u001b[32mProgress:   2%|▊                                        |  ETA: 0:00:57\u001b[39m\u001b[K"
     ]
    },
    {
     "name": "stderr",
     "output_type": "stream",
     "text": [
      "\r\u001b[32mProgress:  19%|███████▊                                 |  ETA: 0:00:20\u001b[39m\u001b[K"
     ]
    },
    {
     "name": "stderr",
     "output_type": "stream",
     "text": [
      "\r\u001b[32mProgress:  25%|██████████▏                              |  ETA: 0:00:17\u001b[39m\u001b[K"
     ]
    },
    {
     "name": "stderr",
     "output_type": "stream",
     "text": [
      "\r\u001b[32mProgress:  30%|████████████▎                            |  ETA: 0:00:16\u001b[39m\u001b[K"
     ]
    },
    {
     "name": "stderr",
     "output_type": "stream",
     "text": [
      "\r\u001b[32mProgress:  35%|██████████████▍                          |  ETA: 0:00:14\u001b[39m\u001b[K"
     ]
    },
    {
     "name": "stderr",
     "output_type": "stream",
     "text": [
      "\r\u001b[32mProgress:  40%|████████████████▌                        |  ETA: 0:00:13\u001b[39m\u001b[K"
     ]
    },
    {
     "name": "stderr",
     "output_type": "stream",
     "text": [
      "\r\u001b[32mProgress:  45%|██████████████████▋                      |  ETA: 0:00:12\u001b[39m\u001b[K"
     ]
    },
    {
     "name": "stderr",
     "output_type": "stream",
     "text": [
      "\r\u001b[32mProgress:  50%|████████████████████▊                    |  ETA: 0:00:11\u001b[39m\u001b[K"
     ]
    },
    {
     "name": "stderr",
     "output_type": "stream",
     "text": [
      "\r\u001b[32mProgress:  56%|██████████████████████▊                  |  ETA: 0:00:09\u001b[39m\u001b[K"
     ]
    },
    {
     "name": "stderr",
     "output_type": "stream",
     "text": [
      "\r\u001b[32mProgress:  61%|████████████████████████▉                |  ETA: 0:00:08\u001b[39m\u001b[K"
     ]
    },
    {
     "name": "stderr",
     "output_type": "stream",
     "text": [
      "\r\u001b[32mProgress:  66%|███████████████████████████              |  ETA: 0:00:07\u001b[39m\u001b[K"
     ]
    },
    {
     "name": "stderr",
     "output_type": "stream",
     "text": [
      "\r\u001b[32mProgress:  71%|█████████████████████████████▏           |  ETA: 0:00:06\u001b[39m\u001b[K"
     ]
    },
    {
     "name": "stderr",
     "output_type": "stream",
     "text": [
      "\r\u001b[32mProgress:  76%|███████████████████████████████▎         |  ETA: 0:00:05\u001b[39m\u001b[K"
     ]
    },
    {
     "name": "stderr",
     "output_type": "stream",
     "text": [
      "\r\u001b[32mProgress:  81%|█████████████████████████████████▍       |  ETA: 0:00:04\u001b[39m\u001b[K"
     ]
    },
    {
     "name": "stderr",
     "output_type": "stream",
     "text": [
      "\r\u001b[32mProgress:  87%|███████████████████████████████████▌     |  ETA: 0:00:03\u001b[39m\u001b[K"
     ]
    },
    {
     "name": "stderr",
     "output_type": "stream",
     "text": [
      "\r\u001b[32mProgress:  92%|█████████████████████████████████████▋   |  ETA: 0:00:02\u001b[39m\u001b[K"
     ]
    },
    {
     "name": "stderr",
     "output_type": "stream",
     "text": [
      "\r\u001b[32mProgress:  97%|███████████████████████████████████████▊ |  ETA: 0:00:01\u001b[39m\u001b[K"
     ]
    },
    {
     "name": "stderr",
     "output_type": "stream",
     "text": [
      "\r\u001b[32mProgress: 100%|█████████████████████████████████████████| Time: 0:00:20\u001b[39m\u001b[K\n"
     ]
    },
    {
     "data": {
      "text/plain": [
       "EmptyHook()"
      ]
     },
     "metadata": {},
     "output_type": "display_data"
    }
   ],
   "source": [
    "run(policies, E, StopAfterEpisode(100_000))"
   ]
  },
  {
   "cell_type": "markdown",
   "metadata": {},
   "source": [
    "## Testing"
   ]
  },
  {
   "cell_type": "code",
   "execution_count": 65,
   "metadata": {},
   "outputs": [
    {
     "data": {
      "text/plain": [
       "typename(MultiAgentManager)\n",
       "└─ agents => typename(Dict)\n"
      ]
     },
     "metadata": {},
     "output_type": "display_data"
    }
   ],
   "source": [
    "test_policies = MultiAgentManager([p.policy for (x, p) in (policies.agents)]...)"
   ]
  },
  {
   "cell_type": "code",
   "execution_count": 66,
   "metadata": {},
   "outputs": [
    {
     "data": {
      "text/plain": [
       "MultiAgentHook(Dict{Any, Any}(ReinforcementLearningEnvironments.Nought() => TotalRewardPerEpisode(Float64[], 0.0, true), ReinforcementLearningEnvironments.Cross() => TotalRewardPerEpisode(Float64[], 0.0, true)))"
      ]
     },
     "metadata": {},
     "output_type": "display_data"
    }
   ],
   "source": [
    "hook = MultiAgentHook(\n",
    "\t(\n",
    "\t\tp => TotalRewardPerEpisode()\n",
    "\t\tfor p in players(E)\n",
    "\t)...\n",
    ")\t"
   ]
  },
  {
   "cell_type": "code",
   "execution_count": 67,
   "metadata": {},
   "outputs": [
    {
     "name": "stdout",
     "output_type": "stream",
     "text": [
      "            ⠀⠀⠀⠀⠀⠀⠀⠀⠀\u001b[1mTotal reward per episode\u001b[22m⠀⠀⠀⠀⠀⠀⠀⠀⠀ \n",
      "            \u001b[90m┌────────────────────────────────────────┐\u001b[39m \n",
      "          \u001b[90m1\u001b[39m \u001b[90m│\u001b[39m\u001b[0m⠀\u001b[0m⠀\u001b[0m⠀\u001b[0m⠀\u001b[0m⠀\u001b[0m⠀\u001b[0m⠀\u001b[0m⠀\u001b[0m⠀\u001b[0m⠀\u001b[0m⠀\u001b[0m⠀\u001b[0m⠀\u001b[0m⠀\u001b[0m⠀\u001b[0m⠀\u001b[0m⠀\u001b[0m⠀\u001b[0m⠀\u001b[0m⠀\u001b[0m⠀\u001b[0m⠀\u001b[0m⠀\u001b[0m⠀\u001b[0m⠀\u001b[0m⠀\u001b[0m⠀\u001b[0m⠀\u001b[38;5;2m⢸\u001b[39m\u001b[0m⠀\u001b[0m⠀\u001b[0m⠀\u001b[0m⠀\u001b[0m⠀\u001b[0m⠀\u001b[0m⠀\u001b[0m⠀\u001b[0m⠀\u001b[0m⠀\u001b[0m⠀\u001b[90m│\u001b[39m \n",
      "            \u001b[90m│\u001b[39m\u001b[0m⠀\u001b[0m⠀\u001b[0m⠀\u001b[0m⠀\u001b[0m⠀\u001b[0m⠀\u001b[0m⠀\u001b[0m⠀\u001b[0m⠀\u001b[0m⠀\u001b[0m⠀\u001b[0m⠀\u001b[0m⠀\u001b[0m⠀\u001b[0m⠀\u001b[0m⠀\u001b[0m⠀\u001b[0m⠀\u001b[0m⠀\u001b[0m⠀\u001b[0m⠀\u001b[0m⠀\u001b[0m⠀\u001b[0m⠀\u001b[0m⠀\u001b[0m⠀\u001b[0m⠀\u001b[0m⠀\u001b[38;5;2m⢸\u001b[39m\u001b[0m⠀\u001b[0m⠀\u001b[0m⠀\u001b[0m⠀\u001b[0m⠀\u001b[0m⠀\u001b[0m⠀\u001b[0m⠀\u001b[0m⠀\u001b[0m⠀\u001b[0m⠀\u001b[90m│\u001b[39m \n",
      "            \u001b[90m│\u001b[39m\u001b[0m⠀\u001b[0m⠀\u001b[0m⠀\u001b[0m⠀\u001b[0m⠀\u001b[0m⠀\u001b[0m⠀\u001b[0m⠀\u001b[0m⠀\u001b[0m⠀\u001b[0m⠀\u001b[0m⠀\u001b[0m⠀\u001b[0m⠀\u001b[0m⠀\u001b[0m⠀\u001b[0m⠀\u001b[0m⠀\u001b[0m⠀\u001b[0m⠀\u001b[0m⠀\u001b[0m⠀\u001b[0m⠀\u001b[0m⠀\u001b[0m⠀\u001b[0m⠀\u001b[0m⠀\u001b[0m⠀\u001b[38;5;2m⢸\u001b[39m\u001b[0m⠀\u001b[0m⠀\u001b[0m⠀\u001b[0m⠀\u001b[0m⠀\u001b[0m⠀\u001b[0m⠀\u001b[0m⠀\u001b[0m⠀\u001b[0m⠀\u001b[0m⠀\u001b[90m│\u001b[39m \n",
      "            \u001b[90m│\u001b[39m\u001b[0m⠀\u001b[0m⠀\u001b[0m⠀\u001b[0m⠀\u001b[0m⠀\u001b[0m⠀\u001b[0m⠀\u001b[0m⠀\u001b[0m⠀\u001b[0m⠀\u001b[0m⠀\u001b[0m⠀\u001b[0m⠀\u001b[0m⠀\u001b[0m⠀\u001b[0m⠀\u001b[0m⠀\u001b[0m⠀\u001b[0m⠀\u001b[0m⠀\u001b[0m⠀\u001b[0m⠀\u001b[0m⠀\u001b[0m⠀\u001b[0m⠀\u001b[0m⠀\u001b[0m⠀\u001b[0m⠀\u001b[38;5;2m⢸\u001b[39m\u001b[0m⠀\u001b[0m⠀\u001b[0m⠀\u001b[0m⠀\u001b[0m⠀\u001b[0m⠀\u001b[0m⠀\u001b[0m⠀\u001b[0m⠀\u001b[0m⠀\u001b[0m⠀\u001b[90m│\u001b[39m \n",
      "            \u001b[90m│\u001b[39m\u001b[0m⠀\u001b[0m⠀\u001b[0m⠀\u001b[0m⠀\u001b[0m⠀\u001b[0m⠀\u001b[0m⠀\u001b[0m⠀\u001b[0m⠀\u001b[0m⠀\u001b[0m⠀\u001b[0m⠀\u001b[0m⠀\u001b[0m⠀\u001b[0m⠀\u001b[0m⠀\u001b[0m⠀\u001b[0m⠀\u001b[0m⠀\u001b[0m⠀\u001b[0m⠀\u001b[0m⠀\u001b[0m⠀\u001b[0m⠀\u001b[0m⠀\u001b[0m⠀\u001b[0m⠀\u001b[0m⠀\u001b[38;5;2m⢸\u001b[39m\u001b[38;5;2m⡇\u001b[39m\u001b[0m⠀\u001b[0m⠀\u001b[0m⠀\u001b[0m⠀\u001b[0m⠀\u001b[0m⠀\u001b[0m⠀\u001b[0m⠀\u001b[0m⠀\u001b[0m⠀\u001b[90m│\u001b[39m \n",
      "            \u001b[90m│\u001b[39m\u001b[0m⠀\u001b[0m⠀\u001b[0m⠀\u001b[0m⠀\u001b[0m⠀\u001b[0m⠀\u001b[0m⠀\u001b[0m⠀\u001b[0m⠀\u001b[0m⠀\u001b[0m⠀\u001b[0m⠀\u001b[0m⠀\u001b[0m⠀\u001b[0m⠀\u001b[0m⠀\u001b[0m⠀\u001b[0m⠀\u001b[0m⠀\u001b[0m⠀\u001b[0m⠀\u001b[0m⠀\u001b[0m⠀\u001b[0m⠀\u001b[0m⠀\u001b[0m⠀\u001b[0m⠀\u001b[0m⠀\u001b[38;5;2m⡸\u001b[39m\u001b[38;5;2m⡇\u001b[39m\u001b[0m⠀\u001b[0m⠀\u001b[0m⠀\u001b[0m⠀\u001b[0m⠀\u001b[0m⠀\u001b[0m⠀\u001b[0m⠀\u001b[0m⠀\u001b[0m⠀\u001b[90m│\u001b[39m \n",
      "            \u001b[90m│\u001b[39m\u001b[0m⠀\u001b[0m⠀\u001b[0m⠀\u001b[0m⠀\u001b[0m⠀\u001b[0m⠀\u001b[0m⠀\u001b[0m⠀\u001b[0m⠀\u001b[0m⠀\u001b[0m⠀\u001b[0m⠀\u001b[0m⠀\u001b[0m⠀\u001b[0m⠀\u001b[0m⠀\u001b[0m⠀\u001b[0m⠀\u001b[0m⠀\u001b[0m⠀\u001b[0m⠀\u001b[0m⠀\u001b[0m⠀\u001b[0m⠀\u001b[0m⠀\u001b[0m⠀\u001b[0m⠀\u001b[0m⠀\u001b[38;5;2m⡇\u001b[39m\u001b[38;5;2m⡇\u001b[39m\u001b[0m⠀\u001b[0m⠀\u001b[0m⠀\u001b[0m⠀\u001b[0m⠀\u001b[0m⠀\u001b[0m⠀\u001b[0m⠀\u001b[0m⠀\u001b[0m⠀\u001b[90m│\u001b[39m \n",
      "   \u001b[0mScore    \u001b[90m│\u001b[39m\u001b[38;5;2m⠤\u001b[39m\u001b[38;5;2m⠤\u001b[39m\u001b[38;5;2m⠤\u001b[39m\u001b[38;5;2m⠤\u001b[39m\u001b[38;5;2m⠤\u001b[39m\u001b[38;5;2m⠤\u001b[39m\u001b[38;5;2m⡤\u001b[39m\u001b[38;5;2m⣤\u001b[39m\u001b[38;5;2m⣤\u001b[39m\u001b[38;5;2m⢤\u001b[39m\u001b[38;5;2m⠤\u001b[39m\u001b[38;5;2m⠤\u001b[39m\u001b[38;5;2m⠤\u001b[39m\u001b[38;5;2m⠤\u001b[39m\u001b[38;5;2m⠤\u001b[39m\u001b[38;5;2m⢤\u001b[39m\u001b[38;5;2m⡤\u001b[39m\u001b[38;5;2m⠤\u001b[39m\u001b[38;5;2m⠤\u001b[39m\u001b[38;5;2m⣤\u001b[39m\u001b[38;5;2m⠤\u001b[39m\u001b[38;5;2m⣤\u001b[39m\u001b[38;5;2m⠤\u001b[39m\u001b[38;5;2m⠤\u001b[39m\u001b[38;5;2m⢤\u001b[39m\u001b[38;5;2m⢤\u001b[39m\u001b[38;5;2m⡤\u001b[39m\u001b[38;5;2m⡤\u001b[39m\u001b[38;5;2m⠧\u001b[39m\u001b[38;5;2m⠧\u001b[39m\u001b[38;5;2m⠤\u001b[39m\u001b[38;5;2m⠤\u001b[39m\u001b[38;5;2m⡤\u001b[39m\u001b[38;5;2m⢤\u001b[39m\u001b[38;5;2m⠤\u001b[39m\u001b[38;5;2m⠤\u001b[39m\u001b[38;5;2m⠤\u001b[39m\u001b[38;5;2m⢤\u001b[39m\u001b[38;5;2m⡤\u001b[39m\u001b[38;5;2m⠤\u001b[39m\u001b[90m│\u001b[39m \n",
      "            \u001b[90m│\u001b[39m\u001b[0m⠀\u001b[0m⠀\u001b[0m⠀\u001b[0m⠀\u001b[0m⠀\u001b[0m⠀\u001b[38;5;2m⡇\u001b[39m\u001b[38;5;2m⣿\u001b[39m\u001b[38;5;2m⣿\u001b[39m\u001b[38;5;2m⢸\u001b[39m\u001b[0m⠀\u001b[0m⠀\u001b[0m⠀\u001b[0m⠀\u001b[0m⠀\u001b[38;5;2m⢸\u001b[39m\u001b[38;5;2m⡇\u001b[39m\u001b[0m⠀\u001b[0m⠀\u001b[38;5;2m⣿\u001b[39m\u001b[0m⠀\u001b[38;5;2m⣿\u001b[39m\u001b[0m⠀\u001b[0m⠀\u001b[38;5;2m⢸\u001b[39m\u001b[38;5;2m⢸\u001b[39m\u001b[38;5;2m⡇\u001b[39m\u001b[38;5;2m⡇\u001b[39m\u001b[0m⠀\u001b[0m⠀\u001b[0m⠀\u001b[0m⠀\u001b[38;5;2m⡇\u001b[39m\u001b[38;5;2m⢸\u001b[39m\u001b[0m⠀\u001b[0m⠀\u001b[0m⠀\u001b[38;5;2m⢸\u001b[39m\u001b[38;5;2m⡇\u001b[39m\u001b[0m⠀\u001b[90m│\u001b[39m \n",
      "            \u001b[90m│\u001b[39m\u001b[0m⠀\u001b[0m⠀\u001b[0m⠀\u001b[0m⠀\u001b[0m⠀\u001b[0m⠀\u001b[38;5;2m⢣\u001b[39m\u001b[38;5;2m⣿\u001b[39m\u001b[38;5;2m⣿\u001b[39m\u001b[38;5;2m⡜\u001b[39m\u001b[0m⠀\u001b[0m⠀\u001b[0m⠀\u001b[0m⠀\u001b[0m⠀\u001b[38;5;2m⢸\u001b[39m\u001b[38;5;2m⡇\u001b[39m\u001b[0m⠀\u001b[0m⠀\u001b[38;5;2m⣿\u001b[39m\u001b[0m⠀\u001b[38;5;2m⣿\u001b[39m\u001b[0m⠀\u001b[0m⠀\u001b[38;5;2m⢸\u001b[39m\u001b[38;5;2m⡜\u001b[39m\u001b[38;5;2m⢣\u001b[39m\u001b[38;5;2m⡇\u001b[39m\u001b[0m⠀\u001b[0m⠀\u001b[0m⠀\u001b[0m⠀\u001b[38;5;2m⢣\u001b[39m\u001b[38;5;2m⡜\u001b[39m\u001b[0m⠀\u001b[0m⠀\u001b[0m⠀\u001b[38;5;2m⢸\u001b[39m\u001b[38;5;2m⡇\u001b[39m\u001b[0m⠀\u001b[90m│\u001b[39m \n",
      "            \u001b[90m│\u001b[39m\u001b[0m⠀\u001b[0m⠀\u001b[0m⠀\u001b[0m⠀\u001b[0m⠀\u001b[0m⠀\u001b[38;5;2m⢸\u001b[39m\u001b[38;5;2m⣿\u001b[39m\u001b[38;5;2m⣿\u001b[39m\u001b[38;5;2m⡇\u001b[39m\u001b[0m⠀\u001b[0m⠀\u001b[0m⠀\u001b[0m⠀\u001b[0m⠀\u001b[38;5;2m⢸\u001b[39m\u001b[38;5;2m⡇\u001b[39m\u001b[0m⠀\u001b[0m⠀\u001b[38;5;2m⣿\u001b[39m\u001b[0m⠀\u001b[38;5;2m⣿\u001b[39m\u001b[0m⠀\u001b[0m⠀\u001b[38;5;2m⢸\u001b[39m\u001b[38;5;2m⡇\u001b[39m\u001b[38;5;2m⢸\u001b[39m\u001b[38;5;2m⡇\u001b[39m\u001b[0m⠀\u001b[0m⠀\u001b[0m⠀\u001b[0m⠀\u001b[38;5;2m⢸\u001b[39m\u001b[38;5;2m⡇\u001b[39m\u001b[0m⠀\u001b[0m⠀\u001b[0m⠀\u001b[38;5;2m⢸\u001b[39m\u001b[38;5;2m⡇\u001b[39m\u001b[0m⠀\u001b[90m│\u001b[39m \n",
      "            \u001b[90m│\u001b[39m\u001b[0m⠀\u001b[0m⠀\u001b[0m⠀\u001b[0m⠀\u001b[0m⠀\u001b[0m⠀\u001b[38;5;2m⢸\u001b[39m\u001b[38;5;2m⢻\u001b[39m\u001b[38;5;2m⡏\u001b[39m\u001b[38;5;2m⡇\u001b[39m\u001b[0m⠀\u001b[0m⠀\u001b[0m⠀\u001b[0m⠀\u001b[0m⠀\u001b[38;5;2m⢸\u001b[39m\u001b[38;5;2m⡇\u001b[39m\u001b[0m⠀\u001b[0m⠀\u001b[38;5;2m⣿\u001b[39m\u001b[0m⠀\u001b[38;5;2m⣿\u001b[39m\u001b[0m⠀\u001b[0m⠀\u001b[38;5;2m⠘\u001b[39m\u001b[38;5;2m⡇\u001b[39m\u001b[38;5;2m⢸\u001b[39m\u001b[38;5;2m⠁\u001b[39m\u001b[0m⠀\u001b[0m⠀\u001b[0m⠀\u001b[0m⠀\u001b[38;5;2m⢸\u001b[39m\u001b[38;5;2m⡇\u001b[39m\u001b[0m⠀\u001b[0m⠀\u001b[0m⠀\u001b[38;5;2m⢸\u001b[39m\u001b[38;5;2m⡇\u001b[39m\u001b[0m⠀\u001b[90m│\u001b[39m \n",
      "            \u001b[90m│\u001b[39m\u001b[0m⠀\u001b[0m⠀\u001b[0m⠀\u001b[0m⠀\u001b[0m⠀\u001b[0m⠀\u001b[38;5;2m⢸\u001b[39m\u001b[38;5;2m⢸\u001b[39m\u001b[38;5;2m⡇\u001b[39m\u001b[38;5;2m⡇\u001b[39m\u001b[0m⠀\u001b[0m⠀\u001b[0m⠀\u001b[0m⠀\u001b[0m⠀\u001b[38;5;2m⢸\u001b[39m\u001b[38;5;2m⡇\u001b[39m\u001b[0m⠀\u001b[0m⠀\u001b[38;5;2m⣿\u001b[39m\u001b[0m⠀\u001b[38;5;2m⣿\u001b[39m\u001b[0m⠀\u001b[0m⠀\u001b[0m⠀\u001b[38;5;2m⡇\u001b[39m\u001b[38;5;2m⢸\u001b[39m\u001b[0m⠀\u001b[0m⠀\u001b[0m⠀\u001b[0m⠀\u001b[0m⠀\u001b[38;5;2m⢸\u001b[39m\u001b[38;5;2m⡇\u001b[39m\u001b[0m⠀\u001b[0m⠀\u001b[0m⠀\u001b[38;5;2m⢸\u001b[39m\u001b[38;5;2m⡇\u001b[39m\u001b[0m⠀\u001b[90m│\u001b[39m \n",
      "            \u001b[90m│\u001b[39m\u001b[0m⠀\u001b[0m⠀\u001b[0m⠀\u001b[0m⠀\u001b[0m⠀\u001b[0m⠀\u001b[38;5;2m⢸\u001b[39m\u001b[38;5;2m⢸\u001b[39m\u001b[38;5;2m⡇\u001b[39m\u001b[38;5;2m⡇\u001b[39m\u001b[0m⠀\u001b[0m⠀\u001b[0m⠀\u001b[0m⠀\u001b[0m⠀\u001b[38;5;2m⢸\u001b[39m\u001b[38;5;2m⡇\u001b[39m\u001b[0m⠀\u001b[0m⠀\u001b[38;5;2m⢹\u001b[39m\u001b[0m⠀\u001b[38;5;2m⢹\u001b[39m\u001b[0m⠀\u001b[0m⠀\u001b[0m⠀\u001b[38;5;2m⡇\u001b[39m\u001b[38;5;2m⢸\u001b[39m\u001b[0m⠀\u001b[0m⠀\u001b[0m⠀\u001b[0m⠀\u001b[0m⠀\u001b[38;5;2m⢸\u001b[39m\u001b[38;5;2m⡇\u001b[39m\u001b[0m⠀\u001b[0m⠀\u001b[0m⠀\u001b[38;5;2m⢸\u001b[39m\u001b[38;5;2m⡇\u001b[39m\u001b[0m⠀\u001b[90m│\u001b[39m \n",
      "         \u001b[90m-1\u001b[39m \u001b[90m│\u001b[39m\u001b[0m⠀\u001b[0m⠀\u001b[0m⠀\u001b[0m⠀\u001b[0m⠀\u001b[0m⠀\u001b[38;5;2m⢸\u001b[39m\u001b[38;5;2m⢸\u001b[39m\u001b[38;5;2m⡇\u001b[39m\u001b[38;5;2m⡇\u001b[39m\u001b[0m⠀\u001b[0m⠀\u001b[0m⠀\u001b[0m⠀\u001b[0m⠀\u001b[38;5;2m⢸\u001b[39m\u001b[38;5;2m⡇\u001b[39m\u001b[0m⠀\u001b[0m⠀\u001b[38;5;2m⢸\u001b[39m\u001b[0m⠀\u001b[38;5;2m⢸\u001b[39m\u001b[0m⠀\u001b[0m⠀\u001b[0m⠀\u001b[38;5;2m⡇\u001b[39m\u001b[38;5;2m⢸\u001b[39m\u001b[0m⠀\u001b[0m⠀\u001b[0m⠀\u001b[0m⠀\u001b[0m⠀\u001b[38;5;2m⢸\u001b[39m\u001b[38;5;2m⡇\u001b[39m\u001b[0m⠀\u001b[0m⠀\u001b[0m⠀\u001b[38;5;2m⢸\u001b[39m\u001b[38;5;2m⡇\u001b[39m\u001b[0m⠀\u001b[90m│\u001b[39m \n",
      "            \u001b[90m└────────────────────────────────────────┘\u001b[39m \n",
      "            ⠀\u001b[90m0\u001b[39m⠀⠀⠀⠀⠀⠀⠀⠀⠀⠀⠀⠀⠀⠀⠀⠀⠀⠀⠀⠀⠀⠀⠀⠀⠀⠀⠀⠀⠀⠀⠀⠀⠀⠀⠀⠀\u001b[90m100\u001b[39m⠀ \n",
      "            ⠀⠀⠀⠀⠀⠀⠀⠀⠀⠀⠀⠀⠀⠀⠀⠀⠀⠀\u001b[0mEpisode⠀⠀⠀⠀⠀⠀⠀⠀⠀⠀⠀⠀⠀⠀⠀⠀⠀ \n",
      "            ⠀⠀⠀⠀⠀⠀⠀⠀⠀\u001b[1mTotal reward per episode\u001b[22m⠀⠀⠀⠀⠀⠀⠀⠀⠀ \n",
      "            \u001b[90m┌────────────────────────────────────────┐\u001b[39m \n",
      "          \u001b[90m1\u001b[39m \u001b[90m│\u001b[39m\u001b[0m⠀\u001b[0m⠀\u001b[0m⠀\u001b[0m⠀\u001b[0m⠀\u001b[0m⠀\u001b[38;5;2m⢸\u001b[39m\u001b[38;5;2m⢰\u001b[39m\u001b[38;5;2m⡇\u001b[39m\u001b[38;5;2m⡇\u001b[39m\u001b[0m⠀\u001b[0m⠀\u001b[0m⠀\u001b[0m⠀\u001b[0m⠀\u001b[38;5;2m⢰\u001b[39m\u001b[38;5;2m⡇\u001b[39m\u001b[0m⠀\u001b[0m⠀\u001b[38;5;2m⢸\u001b[39m\u001b[0m⠀\u001b[38;5;2m⢸\u001b[39m\u001b[0m⠀\u001b[0m⠀\u001b[0m⠀\u001b[38;5;2m⡇\u001b[39m\u001b[38;5;2m⢸\u001b[39m\u001b[0m⠀\u001b[0m⠀\u001b[0m⠀\u001b[0m⠀\u001b[0m⠀\u001b[38;5;2m⢸\u001b[39m\u001b[38;5;2m⡇\u001b[39m\u001b[0m⠀\u001b[0m⠀\u001b[0m⠀\u001b[38;5;2m⢰\u001b[39m\u001b[38;5;2m⡇\u001b[39m\u001b[0m⠀\u001b[90m│\u001b[39m \n",
      "            \u001b[90m│\u001b[39m\u001b[0m⠀\u001b[0m⠀\u001b[0m⠀\u001b[0m⠀\u001b[0m⠀\u001b[0m⠀\u001b[38;5;2m⢸\u001b[39m\u001b[38;5;2m⢸\u001b[39m\u001b[38;5;2m⡇\u001b[39m\u001b[38;5;2m⡇\u001b[39m\u001b[0m⠀\u001b[0m⠀\u001b[0m⠀\u001b[0m⠀\u001b[0m⠀\u001b[38;5;2m⢸\u001b[39m\u001b[38;5;2m⡇\u001b[39m\u001b[0m⠀\u001b[0m⠀\u001b[38;5;2m⢸\u001b[39m\u001b[0m⠀\u001b[38;5;2m⢸\u001b[39m\u001b[0m⠀\u001b[0m⠀\u001b[0m⠀\u001b[38;5;2m⡇\u001b[39m\u001b[38;5;2m⢸\u001b[39m\u001b[0m⠀\u001b[0m⠀\u001b[0m⠀\u001b[0m⠀\u001b[0m⠀\u001b[38;5;2m⢸\u001b[39m\u001b[38;5;2m⡇\u001b[39m\u001b[0m⠀\u001b[0m⠀\u001b[0m⠀\u001b[38;5;2m⢸\u001b[39m\u001b[38;5;2m⡇\u001b[39m\u001b[0m⠀\u001b[90m│\u001b[39m \n",
      "            \u001b[90m│\u001b[39m\u001b[0m⠀\u001b[0m⠀\u001b[0m⠀\u001b[0m⠀\u001b[0m⠀\u001b[0m⠀\u001b[38;5;2m⢸\u001b[39m\u001b[38;5;2m⢸\u001b[39m\u001b[38;5;2m⡇\u001b[39m\u001b[38;5;2m⡇\u001b[39m\u001b[0m⠀\u001b[0m⠀\u001b[0m⠀\u001b[0m⠀\u001b[0m⠀\u001b[38;5;2m⢸\u001b[39m\u001b[38;5;2m⡇\u001b[39m\u001b[0m⠀\u001b[0m⠀\u001b[38;5;2m⣿\u001b[39m\u001b[0m⠀\u001b[38;5;2m⣿\u001b[39m\u001b[0m⠀\u001b[0m⠀\u001b[0m⠀\u001b[38;5;2m⡇\u001b[39m\u001b[38;5;2m⢸\u001b[39m\u001b[0m⠀\u001b[0m⠀\u001b[0m⠀\u001b[0m⠀\u001b[0m⠀\u001b[38;5;2m⢸\u001b[39m\u001b[38;5;2m⡇\u001b[39m\u001b[0m⠀\u001b[0m⠀\u001b[0m⠀\u001b[38;5;2m⢸\u001b[39m\u001b[38;5;2m⡇\u001b[39m\u001b[0m⠀\u001b[90m│\u001b[39m \n",
      "            \u001b[90m│\u001b[39m\u001b[0m⠀\u001b[0m⠀\u001b[0m⠀\u001b[0m⠀\u001b[0m⠀\u001b[0m⠀\u001b[38;5;2m⢸\u001b[39m\u001b[38;5;2m⣸\u001b[39m\u001b[38;5;2m⡇\u001b[39m\u001b[38;5;2m⡇\u001b[39m\u001b[0m⠀\u001b[0m⠀\u001b[0m⠀\u001b[0m⠀\u001b[0m⠀\u001b[38;5;2m⢸\u001b[39m\u001b[38;5;2m⡇\u001b[39m\u001b[0m⠀\u001b[0m⠀\u001b[38;5;2m⣿\u001b[39m\u001b[0m⠀\u001b[38;5;2m⣿\u001b[39m\u001b[0m⠀\u001b[0m⠀\u001b[38;5;2m⢀\u001b[39m\u001b[38;5;2m⡇\u001b[39m\u001b[38;5;2m⢸\u001b[39m\u001b[0m⠀\u001b[0m⠀\u001b[0m⠀\u001b[0m⠀\u001b[0m⠀\u001b[38;5;2m⢸\u001b[39m\u001b[38;5;2m⡇\u001b[39m\u001b[0m⠀\u001b[0m⠀\u001b[0m⠀\u001b[38;5;2m⢸\u001b[39m\u001b[38;5;2m⡇\u001b[39m\u001b[0m⠀\u001b[90m│\u001b[39m \n",
      "            \u001b[90m│\u001b[39m\u001b[0m⠀\u001b[0m⠀\u001b[0m⠀\u001b[0m⠀\u001b[0m⠀\u001b[0m⠀\u001b[38;5;2m⢸\u001b[39m\u001b[38;5;2m⣿\u001b[39m\u001b[38;5;2m⣿\u001b[39m\u001b[38;5;2m⡇\u001b[39m\u001b[0m⠀\u001b[0m⠀\u001b[0m⠀\u001b[0m⠀\u001b[0m⠀\u001b[38;5;2m⢸\u001b[39m\u001b[38;5;2m⡇\u001b[39m\u001b[0m⠀\u001b[0m⠀\u001b[38;5;2m⣿\u001b[39m\u001b[0m⠀\u001b[38;5;2m⣿\u001b[39m\u001b[0m⠀\u001b[0m⠀\u001b[38;5;2m⢸\u001b[39m\u001b[38;5;2m⡇\u001b[39m\u001b[38;5;2m⢸\u001b[39m\u001b[38;5;2m⡇\u001b[39m\u001b[0m⠀\u001b[0m⠀\u001b[0m⠀\u001b[0m⠀\u001b[38;5;2m⢸\u001b[39m\u001b[38;5;2m⡇\u001b[39m\u001b[0m⠀\u001b[0m⠀\u001b[0m⠀\u001b[38;5;2m⢸\u001b[39m\u001b[38;5;2m⡇\u001b[39m\u001b[0m⠀\u001b[90m│\u001b[39m \n",
      "            \u001b[90m│\u001b[39m\u001b[0m⠀\u001b[0m⠀\u001b[0m⠀\u001b[0m⠀\u001b[0m⠀\u001b[0m⠀\u001b[38;5;2m⡸\u001b[39m\u001b[38;5;2m⣿\u001b[39m\u001b[38;5;2m⣿\u001b[39m\u001b[38;5;2m⢇\u001b[39m\u001b[0m⠀\u001b[0m⠀\u001b[0m⠀\u001b[0m⠀\u001b[0m⠀\u001b[38;5;2m⢸\u001b[39m\u001b[38;5;2m⡇\u001b[39m\u001b[0m⠀\u001b[0m⠀\u001b[38;5;2m⣿\u001b[39m\u001b[0m⠀\u001b[38;5;2m⣿\u001b[39m\u001b[0m⠀\u001b[0m⠀\u001b[38;5;2m⢸\u001b[39m\u001b[38;5;2m⢇\u001b[39m\u001b[38;5;2m⡸\u001b[39m\u001b[38;5;2m⡇\u001b[39m\u001b[0m⠀\u001b[0m⠀\u001b[0m⠀\u001b[0m⠀\u001b[38;5;2m⡸\u001b[39m\u001b[38;5;2m⢇\u001b[39m\u001b[0m⠀\u001b[0m⠀\u001b[0m⠀\u001b[38;5;2m⢸\u001b[39m\u001b[38;5;2m⡇\u001b[39m\u001b[0m⠀\u001b[90m│\u001b[39m \n",
      "            \u001b[90m│\u001b[39m\u001b[0m⠀\u001b[0m⠀\u001b[0m⠀\u001b[0m⠀\u001b[0m⠀\u001b[0m⠀\u001b[38;5;2m⡇\u001b[39m\u001b[38;5;2m⣿\u001b[39m\u001b[38;5;2m⣿\u001b[39m\u001b[38;5;2m⢸\u001b[39m"
     ]
    },
    {
     "name": "stdout",
     "output_type": "stream",
     "text": [
      "\u001b[0m⠀\u001b[0m⠀\u001b[0m⠀\u001b[0m⠀\u001b[0m⠀\u001b[38;5;2m⢸\u001b[39m\u001b[38;5;2m⡇\u001b[39m\u001b[0m⠀\u001b[0m⠀\u001b[38;5;2m⣿\u001b[39m\u001b[0m⠀\u001b[38;5;2m⣿\u001b[39m\u001b[0m⠀\u001b[0m⠀\u001b[38;5;2m⢸\u001b[39m\u001b[38;5;2m⢸\u001b[39m\u001b[38;5;2m⡇\u001b[39m\u001b[38;5;2m⡇\u001b[39m\u001b[0m⠀\u001b[0m⠀\u001b[0m⠀\u001b[0m⠀\u001b[38;5;2m⡇\u001b[39m\u001b[38;5;2m⢸\u001b[39m\u001b[0m⠀\u001b[0m⠀\u001b[0m⠀\u001b[38;5;2m⢸\u001b[39m\u001b[38;5;2m⡇\u001b[39m\u001b[0m⠀\u001b[90m│\u001b[39m \n",
      "   \u001b[0mScore    \u001b[90m│\u001b[39m\u001b[38;5;2m⠤\u001b[39m\u001b[38;5;2m⠤\u001b[39m\u001b[38;5;2m⠤\u001b[39m\u001b[38;5;2m⠤\u001b[39m\u001b[38;5;2m⠤\u001b[39m\u001b[38;5;2m⠤\u001b[39m\u001b[38;5;2m⠧\u001b[39m\u001b[38;5;2m⠿\u001b[39m\u001b[38;5;2m⠿\u001b[39m\u001b[38;5;2m⠼\u001b[39m\u001b[38;5;2m⠤\u001b[39m\u001b[38;5;2m⠤\u001b[39m\u001b[38;5;2m⠤\u001b[39m\u001b[38;5;2m⠤\u001b[39m\u001b[38;5;2m⠤\u001b[39m\u001b[38;5;2m⠼\u001b[39m\u001b[38;5;2m⠧\u001b[39m\u001b[38;5;2m⠤\u001b[39m\u001b[38;5;2m⠤\u001b[39m\u001b[38;5;2m⠿\u001b[39m\u001b[38;5;2m⠤\u001b[39m\u001b[38;5;2m⠿\u001b[39m\u001b[38;5;2m⠤\u001b[39m\u001b[38;5;2m⠤\u001b[39m\u001b[38;5;2m⠼\u001b[39m\u001b[38;5;2m⠼\u001b[39m\u001b[38;5;2m⠧\u001b[39m\u001b[38;5;2m⠧\u001b[39m\u001b[38;5;2m⡤\u001b[39m\u001b[38;5;2m⡤\u001b[39m\u001b[38;5;2m⠤\u001b[39m\u001b[38;5;2m⠤\u001b[39m\u001b[38;5;2m⠧\u001b[39m\u001b[38;5;2m⠼\u001b[39m\u001b[38;5;2m⠤\u001b[39m\u001b[38;5;2m⠤\u001b[39m\u001b[38;5;2m⠤\u001b[39m\u001b[38;5;2m⠼\u001b[39m\u001b[38;5;2m⠧\u001b[39m\u001b[38;5;2m⠤\u001b[39m\u001b[90m│\u001b[39m \n",
      "            \u001b[90m│\u001b[39m\u001b[0m⠀\u001b[0m⠀\u001b[0m⠀\u001b[0m⠀\u001b[0m⠀\u001b[0m⠀\u001b[0m⠀\u001b[0m⠀\u001b[0m⠀\u001b[0m⠀\u001b[0m⠀\u001b[0m⠀\u001b[0m⠀\u001b[0m⠀\u001b[0m⠀\u001b[0m⠀\u001b[0m⠀\u001b[0m⠀\u001b[0m⠀\u001b[0m⠀\u001b[0m⠀\u001b[0m⠀\u001b[0m⠀\u001b[0m⠀\u001b[0m⠀\u001b[0m⠀\u001b[0m⠀\u001b[0m⠀\u001b[38;5;2m⡇\u001b[39m\u001b[38;5;2m⡇\u001b[39m\u001b[0m⠀\u001b[0m⠀\u001b[0m⠀\u001b[0m⠀\u001b[0m⠀\u001b[0m⠀\u001b[0m⠀\u001b[0m⠀\u001b[0m⠀\u001b[0m⠀\u001b[90m│\u001b[39m \n",
      "            \u001b[90m│\u001b[39m\u001b[0m⠀\u001b[0m⠀\u001b[0m⠀\u001b[0m⠀\u001b[0m⠀\u001b[0m⠀\u001b[0m⠀\u001b[0m⠀\u001b[0m⠀\u001b[0m⠀\u001b[0m⠀\u001b[0m⠀\u001b[0m⠀\u001b[0m⠀\u001b[0m⠀\u001b[0m⠀\u001b[0m⠀\u001b[0m⠀\u001b[0m⠀\u001b[0m⠀\u001b[0m⠀\u001b[0m⠀\u001b[0m⠀\u001b[0m⠀\u001b[0m⠀\u001b[0m⠀\u001b[0m⠀\u001b[0m⠀\u001b[38;5;2m⢣\u001b[39m\u001b[38;5;2m⡇\u001b[39m\u001b[0m⠀\u001b[0m⠀\u001b[0m⠀\u001b[0m⠀\u001b[0m⠀\u001b[0m⠀\u001b[0m⠀\u001b[0m⠀\u001b[0m⠀\u001b[0m⠀\u001b[90m│\u001b[39m \n",
      "            \u001b[90m│\u001b[39m\u001b[0m⠀\u001b[0m⠀\u001b[0m⠀\u001b[0m⠀\u001b[0m⠀\u001b[0m⠀\u001b[0m⠀\u001b[0m⠀\u001b[0m⠀\u001b[0m⠀\u001b[0m⠀\u001b[0m⠀\u001b[0m⠀\u001b[0m⠀\u001b[0m⠀\u001b[0m⠀\u001b[0m⠀\u001b[0m⠀\u001b[0m⠀\u001b[0m⠀\u001b[0m⠀\u001b[0m⠀\u001b[0m⠀\u001b[0m⠀\u001b[0m⠀\u001b[0m⠀\u001b[0m⠀\u001b[0m⠀\u001b[38;5;2m⢸\u001b[39m\u001b[38;5;2m⡇\u001b[39m\u001b[0m⠀\u001b[0m⠀\u001b[0m⠀\u001b[0m⠀\u001b[0m⠀\u001b[0m⠀\u001b[0m⠀\u001b[0m⠀\u001b[0m⠀\u001b[0m⠀\u001b[90m│\u001b[39m \n",
      "            \u001b[90m│\u001b[39m\u001b[0m⠀\u001b[0m⠀\u001b[0m⠀\u001b[0m⠀\u001b[0m⠀\u001b[0m⠀\u001b[0m⠀\u001b[0m⠀\u001b[0m⠀\u001b[0m⠀\u001b[0m⠀\u001b[0m⠀\u001b[0m⠀\u001b[0m⠀\u001b[0m⠀\u001b[0m⠀\u001b[0m⠀\u001b[0m⠀\u001b[0m⠀\u001b[0m⠀\u001b[0m⠀\u001b[0m⠀\u001b[0m⠀\u001b[0m⠀\u001b[0m⠀\u001b[0m⠀\u001b[0m⠀\u001b[0m⠀\u001b[38;5;2m⢸\u001b[39m\u001b[38;5;2m⠁\u001b[39m\u001b[0m⠀\u001b[0m⠀\u001b[0m⠀\u001b[0m⠀\u001b[0m⠀\u001b[0m⠀\u001b[0m⠀\u001b[0m⠀\u001b[0m⠀\u001b[0m⠀\u001b[90m│\u001b[39m \n",
      "            \u001b[90m│\u001b[39m\u001b[0m⠀\u001b[0m⠀\u001b[0m⠀\u001b[0m⠀\u001b[0m⠀\u001b[0m⠀\u001b[0m⠀\u001b[0m⠀\u001b[0m⠀\u001b[0m⠀\u001b[0m⠀\u001b[0m⠀\u001b[0m⠀\u001b[0m⠀\u001b[0m⠀\u001b[0m⠀\u001b[0m⠀\u001b[0m⠀\u001b[0m⠀\u001b[0m⠀\u001b[0m⠀\u001b[0m⠀\u001b[0m⠀\u001b[0m⠀\u001b[0m⠀\u001b[0m⠀\u001b[0m⠀\u001b[0m⠀\u001b[38;5;2m⢸\u001b[39m\u001b[0m⠀\u001b[0m⠀\u001b[0m⠀\u001b[0m⠀\u001b[0m⠀\u001b[0m⠀\u001b[0m⠀\u001b[0m⠀\u001b[0m⠀\u001b[0m⠀\u001b[0m⠀\u001b[90m│\u001b[39m \n",
      "            \u001b[90m│\u001b[39m\u001b[0m⠀\u001b[0m⠀\u001b[0m⠀\u001b[0m⠀\u001b[0m⠀\u001b[0m⠀\u001b[0m⠀\u001b[0m⠀\u001b[0m⠀\u001b[0m⠀\u001b[0m⠀\u001b[0m⠀\u001b[0m⠀\u001b[0m⠀\u001b[0m⠀\u001b[0m⠀\u001b[0m⠀\u001b[0m⠀\u001b[0m⠀\u001b[0m⠀\u001b[0m⠀\u001b[0m⠀\u001b[0m⠀\u001b[0m⠀\u001b[0m⠀\u001b[0m⠀\u001b[0m⠀\u001b[0m⠀\u001b[38;5;2m⢸\u001b[39m\u001b[0m⠀\u001b[0m⠀\u001b[0m⠀\u001b[0m⠀\u001b[0m⠀\u001b[0m⠀\u001b[0m⠀\u001b[0m⠀\u001b[0m⠀\u001b[0m⠀\u001b[0m⠀\u001b[90m│\u001b[39m \n",
      "         \u001b[90m-1\u001b[39m \u001b[90m│\u001b[39m\u001b[0m⠀\u001b[0m⠀\u001b[0m⠀\u001b[0m⠀\u001b[0m⠀\u001b[0m⠀\u001b[0m⠀\u001b[0m⠀\u001b[0m⠀\u001b[0m⠀\u001b[0m⠀\u001b[0m⠀\u001b[0m⠀\u001b[0m⠀\u001b[0m⠀\u001b[0m⠀\u001b[0m⠀\u001b[0m⠀\u001b[0m⠀\u001b[0m⠀\u001b[0m⠀\u001b[0m⠀\u001b[0m⠀\u001b[0m⠀\u001b[0m⠀\u001b[0m⠀\u001b[0m⠀\u001b[0m⠀\u001b[38;5;2m⢸\u001b[39m\u001b[0m⠀\u001b[0m⠀\u001b[0m⠀\u001b[0m⠀\u001b[0m⠀\u001b[0m⠀\u001b[0m⠀\u001b[0m⠀\u001b[0m⠀\u001b[0m⠀\u001b[0m⠀\u001b[90m│\u001b[39m \n",
      "            \u001b[90m└────────────────────────────────────────┘\u001b[39m \n",
      "            ⠀\u001b[90m0\u001b[39m⠀⠀⠀⠀⠀⠀⠀⠀⠀⠀⠀⠀⠀⠀⠀⠀⠀⠀⠀⠀⠀⠀⠀⠀⠀⠀⠀⠀⠀⠀⠀⠀⠀⠀⠀⠀\u001b[90m100\u001b[39m⠀ \n",
      "            ⠀⠀⠀⠀⠀⠀⠀⠀⠀⠀⠀⠀⠀⠀⠀⠀⠀⠀\u001b[0mEpisode⠀⠀⠀⠀⠀⠀⠀⠀⠀⠀⠀⠀⠀⠀⠀⠀⠀ \n"
     ]
    },
    {
     "data": {
      "text/plain": [
       "MultiAgentHook(Dict{Any, Any}(ReinforcementLearningEnvironments.Nought() => TotalRewardPerEpisode([0.0, 0.0, 0.0, 0.0, 0.0, 0.0, 0.0, 0.0, 0.0, 0.0  …  0.0, 0.0, 0.0, 0.0, -1.0, 0.0, 0.0, 0.0, 0.0, 0.0], 0.0, true), ReinforcementLearningEnvironments.Cross() => TotalRewardPerEpisode([0.0, 0.0, 0.0, 0.0, 0.0, 0.0, 0.0, 0.0, 0.0, 0.0  …  0.0, 0.0, 0.0, 0.0, 1.0, 0.0, 0.0, 0.0, 0.0, 0.0], 0.0, true)))"
      ]
     },
     "metadata": {},
     "output_type": "display_data"
    }
   ],
   "source": [
    "run(test_policies, E, StopAfterEpisode(100), hook)"
   ]
  },
  {
   "cell_type": "code",
   "execution_count": 68,
   "metadata": {},
   "outputs": [
    {
     "data": {
      "image/png": "[encoded data removed]",
      "image/svg+xml": "<?xml version=\"1.0\" encoding=\"utf-8\"?>\n<svg xmlns=\"http://www.w3.org/2000/svg\" xmlns:xlink=\"http://www.w3.org/1999/xlink\" width=\"600\" height=\"400\" viewBox=\"0 0 2400 1600\">\n<defs>\n  <clipPath id=\"clip820\">\n    <rect x=\"0\" y=\"0\" width=\"2400\" height=\"1600\"/>\n  </clipPath>\n</defs>\n<path clip-path=\"url(#clip820)\" d=\"\nM0 1600 L2400 1600 L2400 0 L0 0  Z\n  \" fill=\"#ffffff\" fill-rule=\"evenodd\" fill-opacity=\"1\"/>\n<defs>\n  <clipPath id=\"clip821\">\n    <rect x=\"480\" y=\"0\" width=\"1681\" height=\"1600\"/>\n  </clipPath>\n</defs>\n<path clip-path=\"url(#clip820)\" d=\"\nM193.936 1486.45 L2352.76 1486.45 L2352.76 47.2441 L193.936 47.2441  Z\n  \" fill=\"#ffffff\" fill-rule=\"evenodd\" fill-opacity=\"1\"/>\n<defs>\n  <clipPath id=\"clip822\">\n    <rect x=\"193\" y=\"47\" width=\"2160\" height=\"1440\"/>\n  </clipPath>\n</defs>\n<polyline clip-path=\"url(#clip822)\" style=\"stroke:#000000; stroke-linecap:butt; stroke-linejoin:round; stroke-width:2; stroke-opacity:0.1; fill:none\" points=\"\n  234.463,1486.45 234.463,47.2441 \n  \"/>\n<polyline clip-path=\"url(#clip822)\" style=\"stroke:#000000; stroke-linecap:butt; stroke-linejoin:round; stroke-width:2; stroke-opacity:0.1; fill:none\" points=\"\n  748.761,1486.45 748.761,47.2441 \n  \"/>\n<polyline clip-path=\"url(#clip822)\" style=\"stroke:#000000; stroke-linecap:butt; stroke-linejoin:round; stroke-width:2; stroke-opacity:0.1; fill:none\" points=\"\n  1263.06,1486.45 1263.06,47.2441 \n  \"/>\n<polyline clip-path=\"url(#clip822)\" style=\"stroke:#000000; stroke-linecap:butt; stroke-linejoin:round; stroke-width:2; stroke-opacity:0.1; fill:none\" points=\"\n  1777.36,1486.45 1777.36,47.2441 \n  \"/>\n<polyline clip-path=\"url(#clip822)\" style=\"stroke:#000000; stroke-linecap:butt; stroke-linejoin:round; stroke-width:2; stroke-opacity:0.1; fill:none\" points=\"\n  2291.66,1486.45 2291.66,47.2441 \n  \"/>\n<polyline clip-path=\"url(#clip820)\" style=\"stroke:#000000; stroke-linecap:butt; stroke-linejoin:round; stroke-width:4; stroke-opacity:1; fill:none\" points=\"\n  193.936,1486.45 2352.76,1486.45 \n  \"/>\n<polyline clip-path=\"url(#clip820)\" style=\"stroke:#000000; stroke-linecap:butt; stroke-linejoin:round; stroke-width:4; stroke-opacity:1; fill:none\" points=\"\n  234.463,1486.45 234.463,1467.55 \n  \"/>\n<polyline clip-path=\"url(#clip820)\" style=\"stroke:#000000; stroke-linecap:butt; stroke-linejoin:round; stroke-width:4; stroke-opacity:1; fill:none\" points=\"\n  748.761,1486.45 748.761,1467.55 \n  \"/>\n<polyline clip-path=\"url(#clip820)\" style=\"stroke:#000000; stroke-linecap:butt; stroke-linejoin:round; stroke-width:4; stroke-opacity:1; fill:none\" points=\"\n  1263.06,1486.45 1263.06,1467.55 \n  \"/>\n<polyline clip-path=\"url(#clip820)\" style=\"stroke:#000000; stroke-linecap:butt; stroke-linejoin:round; stroke-width:4; stroke-opacity:1; fill:none\" points=\"\n  1777.36,1486.45 1777.36,1467.55 \n  \"/>\n<polyline clip-path=\"url(#clip820)\" style=\"stroke:#000000; stroke-linecap:butt; stroke-linejoin:round; stroke-width:4; stroke-opacity:1; fill:none\" points=\"\n  2291.66,1486.45 2291.66,1467.55 \n  \"/>\n<path clip-path=\"url(#clip820)\" d=\"M234.463 1517.37 Q230.852 1517.37 229.023 1520.93 Q227.217 1524.47 227.217 1531.6 Q227.217 1538.71 229.023 1542.27 Q230.852 1545.82 234.463 1545.82 Q238.097 1545.82 239.903 1542.27 Q241.731 1538.71 241.731 1531.6 Q241.731 1524.47 239.903 1520.93 Q238.097 1517.37 234.463 1517.37 M234.463 1513.66 Q240.273 1513.66 243.328 1518.27 Q246.407 1522.85 246.407 1531.6 Q246.407 1540.33 243.328 1544.94 Q240.273 1549.52 234.463 1549.52 Q228.653 1549.52 225.574 1544.94 Q222.518 1540.33 222.518 1531.6 Q222.518 1522.85 225.574 1518.27 Q228.653 1513.66 234.463 1513.66 Z\" fill=\"#000000\" fill-rule=\"evenodd\" fill-opacity=\"1\" /><path clip-path=\"url(#clip820)\" d=\"M728.032 1544.91 L744.352 1544.91 L744.352 1548.85 L722.407 1548.85 L722.407 1544.91 Q725.069 1542.16 729.653 1537.53 Q734.259 1532.88 735.44 1531.53 Q737.685 1529.01 738.565 1527.27 Q739.467 1525.51 739.467 1523.82 Q739.467 1521.07 737.523 1519.33 Q735.602 1517.6 732.5 1517.6 Q730.301 1517.6 727.847 1518.36 Q725.417 1519.13 722.639 1520.68 L722.639 1515.95 Q725.463 1514.82 727.917 1514.24 Q730.37 1513.66 732.407 1513.66 Q737.778 1513.66 740.972 1516.35 Q744.166 1519.03 744.166 1523.52 Q744.166 1525.65 743.356 1527.57 Q742.569 1529.47 740.463 1532.07 Q739.884 1532.74 736.782 1535.95 Q733.68 1539.15 728.032 1544.91 Z\" fill=\"#000000\" fill-rule=\"evenodd\" fill-opacity=\"1\" /><path clip-path=\"url(#clip820)\" d=\"M754.213 1514.29 L772.569 1514.29 L772.569 1518.22 L758.495 1518.22 L758.495 1526.7 Q759.514 1526.35 760.532 1526.19 Q761.551 1526 762.569 1526 Q768.356 1526 771.736 1529.17 Q775.115 1532.34 775.115 1537.76 Q775.115 1543.34 771.643 1546.44 Q768.171 1549.52 761.852 1549.52 Q759.676 1549.52 757.407 1549.15 Q755.162 1548.78 752.754 1548.04 L752.754 1543.34 Q754.838 1544.47 757.06 1545.03 Q759.282 1545.58 761.759 1545.58 Q765.764 1545.58 768.102 1543.48 Q770.439 1541.37 770.439 1537.76 Q770.439 1534.15 768.102 1532.04 Q765.764 1529.94 761.759 1529.94 Q759.884 1529.94 758.009 1530.35 Q756.157 1530.77 754.213 1531.65 L754.213 1514.29 Z\" fill=\"#000000\" fill-rule=\"evenodd\" fill-opacity=\"1\" /><path clip-path=\"url(#clip820)\" d=\"M1237.76 1514.29 L1256.12 1514.29 L1256.12 1518.22 L1242.04 1518.22 L1242.04 1526.7 Q1243.06 1526.35 1244.08 1526.19 Q1245.1 1526 1246.12 1526 Q1251.9 1526 1255.28 1529.17 Q1258.66 1532.34 1258.66 1537.76 Q1258.66 1543.34 1255.19 1546.44 Q1251.72 1549.52 1245.4 1549.52 Q1243.22 1549.52 1240.95 1549.15 Q1238.71 1548.78 1236.3 1548.04 L1236.3 1543.34 Q1238.38 1544.47 1240.61 1545.03 Q1242.83 1545.58 1245.31 1545.58 Q1249.31 1545.58 1251.65 1543.48 Q1253.99 1541.37 1253.99 1537.76 Q1253.99 1534.15 1251.65 1532.04 Q1249.31 1529.94 1245.31 1529.94 Q1243.43 1529.94 1241.56 1530.35 Q1239.7 1530.77 1237.76 1531.65 L1237.76 1514.29 Z\" fill=\"#000000\" fill-rule=\"evenodd\" fill-opacity=\"1\" /><path clip-path=\"url(#clip820)\" d=\"M1277.87 1517.37 Q1274.26 1517.37 1272.43 1520.93 Q1270.63 1524.47 1270.63 1531.6 Q1270.63 1538.71 1272.43 1542.27 Q1274.26 1545.82 1277.87 1545.82 Q1281.51 1545.82 1283.31 1542.27 Q1285.14 1538.71 1285.14 1531.6 Q1285.14 1524.47 1283.31 1520.93 Q1281.51 1517.37 1277.87 1517.37 M1277.87 1513.66 Q1283.68 1513.66 1286.74 1518.27 Q1289.82 1522.85 1289.82 1531.6 Q1289.82 1540.33 1286.74 1544.94 Q1283.68 1549.52 1277.87 1549.52 Q1272.06 1549.52 1268.99 1544.94 Q1265.93 1540.33 1265.93 1531.6 Q1265.93 1522.85 1268.99 1518.27 Q1272.06 1513.66 1277.87 1513.66 Z\" fill=\"#000000\" fill-rule=\"evenodd\" fill-opacity=\"1\" /><path clip-path=\"url(#clip820)\" d=\"M1751.21 1514.29 L1773.44 1514.29 L1773.44 1516.28 L1760.89 1548.85 L1756 1548.85 L1767.81 1518.22 L1751.21 1518.22 L1751.21 1514.29 Z\" fill=\"#000000\" fill-rule=\"evenodd\" fill-opacity=\"1\" /><path clip-path=\"url(#clip820)\" d=\"M1782.6 1514.29 L1800.96 1514.29 L1800.96 1518.22 L1786.88 1518.22 L1786.88 1526.7 Q1787.9 1526.35 1788.92 1526.19 Q1789.94 1526 1790.96 1526 Q1796.75 1526 1800.12 1529.17 Q1803.5 1532.34 1803.5 1537.76 Q1803.5 1543.34 1800.03 1546.44 Q1796.56 1549.52 1790.24 1549.52 Q1788.06 1549.52 1785.8 1549.15 Q1783.55 1548.78 1781.14 1548.04 L1781.14 1543.34 Q1783.23 1544.47 1785.45 1545.03 Q1787.67 1545.58 1790.15 1545.58 Q1794.15 1545.58 1796.49 1543.48 Q1798.83 1541.37 1798.83 1537.76 Q1798.83 1534.15 1796.49 1532.04 Q1794.15 1529.94 1790.15 1529.94 Q1788.27 1529.94 1786.4 1530.35 Q1784.55 1530.77 1782.6 1531.65 L1782.6 1514.29 Z\" fill=\"#000000\" fill-rule=\"evenodd\" fill-opacity=\"1\" /><path clip-path=\"url(#clip820)\" d=\"M2251.26 1544.91 L2258.9 1544.91 L2258.9 1518.55 L2250.59 1520.21 L2250.59 1515.95 L2258.86 1514.29 L2263.53 1514.29 L2263.53 1544.91 L2271.17 1544.91 L2271.17 1548.85 L2251.26 1548.85 L2251.26 1544.91 Z\" fill=\"#000000\" fill-rule=\"evenodd\" fill-opacity=\"1\" /><path clip-path=\"url(#clip820)\" d=\"M2290.62 1517.37 Q2287 1517.37 2285.18 1520.93 Q2283.37 1524.47 2283.37 1531.6 Q2283.37 1538.71 2285.18 1542.27 Q2287 1545.82 2290.62 1545.82 Q2294.25 1545.82 2296.06 1542.27 Q2297.88 1538.71 2297.88 1531.6 Q2297.88 1524.47 2296.06 1520.93 Q2294.25 1517.37 2290.62 1517.37 M2290.62 1513.66 Q2296.43 1513.66 2299.48 1518.27 Q2302.56 1522.85 2302.56 1531.6 Q2302.56 1540.33 2299.48 1544.94 Q2296.43 1549.52 2290.62 1549.52 Q2284.81 1549.52 2281.73 1544.94 Q2278.67 1540.33 2278.67 1531.6 Q2278.67 1522.85 2281.73 1518.27 Q2284.81 1513.66 2290.62 1513.66 Z\" fill=\"#000000\" fill-rule=\"evenodd\" fill-opacity=\"1\" /><path clip-path=\"url(#clip820)\" d=\"M2320.78 1517.37 Q2317.17 1517.37 2315.34 1520.93 Q2313.53 1524.47 2313.53 1531.6 Q2313.53 1538.71 2315.34 1542.27 Q2317.17 1545.82 2320.78 1545.82 Q2324.41 1545.82 2326.22 1542.27 Q2328.05 1538.71 2328.05 1531.6 Q2328.05 1524.47 2326.22 1520.93 Q2324.41 1517.37 2320.78 1517.37 M2320.78 1513.66 Q2326.59 1513.66 2329.64 1518.27 Q2332.72 1522.85 2332.72 1531.6 Q2332.72 1540.33 2329.64 1544.94 Q2326.59 1549.52 2320.78 1549.52 Q2314.97 1549.52 2311.89 1544.94 Q2308.83 1540.33 2308.83 1531.6 Q2308.83 1522.85 2311.89 1518.27 Q2314.97 1513.66 2320.78 1513.66 Z\" fill=\"#000000\" fill-rule=\"evenodd\" fill-opacity=\"1\" /><polyline clip-path=\"url(#clip822)\" style=\"stroke:#000000; stroke-linecap:butt; stroke-linejoin:round; stroke-width:2; stroke-opacity:0.1; fill:none\" points=\"\n  193.936,1445.72 2352.76,1445.72 \n  \"/>\n<polyline clip-path=\"url(#clip822)\" style=\"stroke:#000000; stroke-linecap:butt; stroke-linejoin:round; stroke-width:2; stroke-opacity:0.1; fill:none\" points=\"\n  193.936,1106.28 2352.76,1106.28 \n  \"/>\n<polyline clip-path=\"url(#clip822)\" style=\"stroke:#000000; stroke-linecap:butt; stroke-linejoin:round; stroke-width:2; stroke-opacity:0.1; fill:none\" points=\"\n  193.936,766.846 2352.76,766.846 \n  \"/>\n<polyline clip-path=\"url(#clip822)\" style=\"stroke:#000000; stroke-linecap:butt; stroke-linejoin:round; stroke-width:2; stroke-opacity:0.1; fill:none\" points=\"\n  193.936,427.411 2352.76,427.411 \n  \"/>\n<polyline clip-path=\"url(#clip822)\" style=\"stroke:#000000; stroke-linecap:butt; stroke-linejoin:round; stroke-width:2; stroke-opacity:0.1; fill:none\" points=\"\n  193.936,87.9763 2352.76,87.9763 \n  \"/>\n<polyline clip-path=\"url(#clip820)\" style=\"stroke:#000000; stroke-linecap:butt; stroke-linejoin:round; stroke-width:4; stroke-opacity:1; fill:none\" points=\"\n  193.936,1486.45 193.936,47.2441 \n  \"/>\n<polyline clip-path=\"url(#clip820)\" style=\"stroke:#000000; stroke-linecap:butt; stroke-linejoin:round; stroke-width:4; stroke-opacity:1; fill:none\" points=\"\n  193.936,1445.72 212.834,1445.72 \n  \"/>\n<polyline clip-path=\"url(#clip820)\" style=\"stroke:#000000; stroke-linecap:butt; stroke-linejoin:round; stroke-width:4; stroke-opacity:1; fill:none\" points=\"\n  193.936,1106.28 212.834,1106.28 \n  \"/>\n<polyline clip-path=\"url(#clip820)\" style=\"stroke:#000000; stroke-linecap:butt; stroke-linejoin:round; stroke-width:4; stroke-opacity:1; fill:none\" points=\"\n  193.936,766.846 212.834,766.846 \n  \"/>\n<polyline clip-path=\"url(#clip820)\" style=\"stroke:#000000; stroke-linecap:butt; stroke-linejoin:round; stroke-width:4; stroke-opacity:1; fill:none\" points=\"\n  193.936,427.411 212.834,427.411 \n  \"/>\n<polyline clip-path=\"url(#clip820)\" style=\"stroke:#000000; stroke-linecap:butt; stroke-linejoin:round; stroke-width:4; stroke-opacity:1; fill:none\" points=\"\n  193.936,87.9763 212.834,87.9763 \n  \"/>\n<path clip-path=\"url(#clip820)\" d=\"M50.9921 1446.17 L80.6679 1446.17 L80.6679 1450.1 L50.9921 1450.1 L50.9921 1446.17 Z\" fill=\"#000000\" fill-rule=\"evenodd\" fill-opacity=\"1\" /><path clip-path=\"url(#clip820)\" d=\"M91.5706 1459.06 L99.2095 1459.06 L99.2095 1432.69 L90.8993 1434.36 L90.8993 1430.1 L99.1632 1428.44 L103.839 1428.44 L103.839 1459.06 L111.478 1459.06 L111.478 1463 L91.5706 1463 L91.5706 1459.06 Z\" fill=\"#000000\" fill-rule=\"evenodd\" fill-opacity=\"1\" /><path clip-path=\"url(#clip820)\" d=\"M120.922 1457.12 L125.807 1457.12 L125.807 1463 L120.922 1463 L120.922 1457.12 Z\" fill=\"#000000\" fill-rule=\"evenodd\" fill-opacity=\"1\" /><path clip-path=\"url(#clip820)\" d=\"M145.992 1431.51 Q142.381 1431.51 140.552 1435.08 Q138.746 1438.62 138.746 1445.75 Q138.746 1452.86 140.552 1456.42 Q142.381 1459.96 145.992 1459.96 Q149.626 1459.96 151.431 1456.42 Q153.26 1452.86 153.26 1445.75 Q153.26 1438.62 151.431 1435.08 Q149.626 1431.51 145.992 1431.51 M145.992 1427.81 Q151.802 1427.81 154.857 1432.42 Q157.936 1437 157.936 1445.75 Q157.936 1454.48 154.857 1459.08 Q151.802 1463.67 145.992 1463.67 Q140.181 1463.67 137.103 1459.08 Q134.047 1454.48 134.047 1445.75 Q134.047 1437 137.103 1432.42 Q140.181 1427.81 145.992 1427.81 Z\" fill=\"#000000\" fill-rule=\"evenodd\" fill-opacity=\"1\" /><path clip-path=\"url(#clip820)\" d=\"M51.9875 1106.73 L81.6633 1106.73 L81.6633 1110.67 L51.9875 1110.67 L51.9875 1106.73 Z\" fill=\"#000000\" fill-rule=\"evenodd\" fill-opacity=\"1\" /><path clip-path=\"url(#clip820)\" d=\"M101.756 1092.08 Q98.1447 1092.08 96.316 1095.64 Q94.5104 1099.19 94.5104 1106.32 Q94.5104 1113.42 96.316 1116.99 Q98.1447 1120.53 101.756 1120.53 Q105.39 1120.53 107.196 1116.99 Q109.024 1113.42 109.024 1106.32 Q109.024 1099.19 107.196 1095.64 Q105.39 1092.08 101.756 1092.08 M101.756 1088.38 Q107.566 1088.38 110.621 1092.98 Q113.7 1097.57 113.7 1106.32 Q113.7 1115.04 110.621 1119.65 Q107.566 1124.23 101.756 1124.23 Q95.9456 1124.23 92.8669 1119.65 Q89.8114 1115.04 89.8114 1106.32 Q89.8114 1097.57 92.8669 1092.98 Q95.9456 1088.38 101.756 1088.38 Z\" fill=\"#000000\" fill-rule=\"evenodd\" fill-opacity=\"1\" /><path clip-path=\"url(#clip820)\" d=\"M121.918 1117.68 L126.802 1117.68 L126.802 1123.56 L121.918 1123.56 L121.918 1117.68 Z\" fill=\"#000000\" fill-rule=\"evenodd\" fill-opacity=\"1\" /><path clip-path=\"url(#clip820)\" d=\"M137.033 1089 L155.39 1089 L155.39 1092.94 L141.316 1092.94 L141.316 1101.41 Q142.334 1101.06 143.353 1100.9 Q144.371 1100.71 145.39 1100.71 Q151.177 1100.71 154.556 1103.89 Q157.936 1107.06 157.936 1112.47 Q157.936 1118.05 154.464 1121.15 Q150.992 1124.23 144.672 1124.23 Q142.496 1124.23 140.228 1123.86 Q137.982 1123.49 135.575 1122.75 L135.575 1118.05 Q137.658 1119.19 139.881 1119.74 Q142.103 1120.3 144.58 1120.3 Q148.584 1120.3 150.922 1118.19 Q153.26 1116.08 153.26 1112.47 Q153.26 1108.86 150.922 1106.76 Q148.584 1104.65 144.58 1104.65 Q142.705 1104.65 140.83 1105.07 Q138.978 1105.48 137.033 1106.36 L137.033 1089 Z\" fill=\"#000000\" fill-rule=\"evenodd\" fill-opacity=\"1\" /><path clip-path=\"url(#clip820)\" d=\"M100.76 752.645 Q97.1493 752.645 95.3206 756.209 Q93.515 759.751 93.515 766.881 Q93.515 773.987 95.3206 777.552 Q97.1493 781.094 100.76 781.094 Q104.395 781.094 106.2 777.552 Q108.029 773.987 108.029 766.881 Q108.029 759.751 106.2 756.209 Q104.395 752.645 100.76 752.645 M100.76 748.941 Q106.571 748.941 109.626 753.547 Q112.705 758.131 112.705 766.881 Q112.705 775.608 109.626 780.214 Q106.571 784.797 100.76 784.797 Q94.9502 784.797 91.8715 780.214 Q88.816 775.608 88.816 766.881 Q88.816 758.131 91.8715 753.547 Q94.9502 748.941 100.76 748.941 Z\" fill=\"#000000\" fill-rule=\"evenodd\" fill-opacity=\"1\" /><path clip-path=\"url(#clip820)\" d=\"M120.922 778.246 L125.807 778.246 L125.807 784.126 L120.922 784.126 L120.922 778.246 Z\" fill=\"#000000\" fill-rule=\"evenodd\" fill-opacity=\"1\" /><path clip-path=\"url(#clip820)\" d=\"M145.992 752.645 Q142.381 752.645 140.552 756.209 Q138.746 759.751 138.746 766.881 Q138.746 773.987 140.552 777.552 Q142.381 781.094 145.992 781.094 Q149.626 781.094 151.431 777.552 Q153.26 773.987 153.26 766.881 Q153.26 759.751 151.431 756.209 Q149.626 752.645 145.992 752.645 M145.992 748.941 Q151.802 748.941 154.857 753.547 Q157.936 758.131 157.936 766.881 Q157.936 775.608 154.857 780.214 Q151.802 784.797 145.992 784.797 Q140.181 784.797 137.103 780.214 Q134.047 775.608 134.047 766.881 Q134.047 758.131 137.103 753.547 Q140.181 748.941 145.992 748.941 Z\" fill=\"#000000\" fill-rule=\"evenodd\" fill-opacity=\"1\" /><path clip-path=\"url(#clip820)\" d=\"M101.756 413.21 Q98.1447 413.21 96.316 416.775 Q94.5104 420.316 94.5104 427.446 Q94.5104 434.552 96.316 438.117 Q98.1447 441.659 101.756 441.659 Q105.39 441.659 107.196 438.117 Q109.024 434.552 109.024 427.446 Q109.024 420.316 107.196 416.775 Q105.39 413.21 101.756 413.21 M101.756 409.506 Q107.566 409.506 110.621 414.113 Q113.7 418.696 113.7 427.446 Q113.7 436.173 110.621 440.779 Q107.566 445.362 101.756 445.362 Q95.9456 445.362 92.8669 440.779 Q89.8114 436.173 89.8114 427.446 Q89.8114 418.696 92.8669 414.113 Q95.9456 409.506 101.756 409.506 Z\" fill=\"#000000\" fill-rule=\"evenodd\" fill-opacity=\"1\" /><path clip-path=\"url(#clip820)\" d=\"M121.918 438.812 L126.802 438.812 L126.802 444.691 L121.918 444.691 L121.918 438.812 Z\" fill=\"#000000\" fill-rule=\"evenodd\" fill-opacity=\"1\" /><path clip-path=\"url(#clip820)\" d=\"M137.033 410.131 L155.39 410.131 L155.39 414.066 L141.316 414.066 L141.316 422.538 Q142.334 422.191 143.353 422.029 Q144.371 421.844 145.39 421.844 Q151.177 421.844 154.556 425.015 Q157.936 428.187 157.936 433.603 Q157.936 439.182 154.464 442.284 Q150.992 445.362 144.672 445.362 Q142.496 445.362 140.228 444.992 Q137.982 444.622 135.575 443.881 L135.575 439.182 Q137.658 440.316 139.881 440.872 Q142.103 441.427 144.58 441.427 Q148.584 441.427 150.922 439.321 Q153.26 437.214 153.26 433.603 Q153.26 429.992 150.922 427.886 Q148.584 425.779 144.58 425.779 Q142.705 425.779 140.83 426.196 Q138.978 426.613 137.033 427.492 L137.033 410.131 Z\" fill=\"#000000\" fill-rule=\"evenodd\" fill-opacity=\"1\" /><path clip-path=\"url(#clip820)\" d=\"M91.5706 101.321 L99.2095 101.321 L99.2095 74.9555 L90.8993 76.6222 L90.8993 72.3629 L99.1632 70.6963 L103.839 70.6963 L103.839 101.321 L111.478 101.321 L111.478 105.256 L91.5706 105.256 L91.5706 101.321 Z\" fill=\"#000000\" fill-rule=\"evenodd\" fill-opacity=\"1\" /><path clip-path=\"url(#clip820)\" d=\"M120.922 99.3767 L125.807 99.3767 L125.807 105.256 L120.922 105.256 L120.922 99.3767 Z\" fill=\"#000000\" fill-rule=\"evenodd\" fill-opacity=\"1\" /><path clip-path=\"url(#clip820)\" d=\"M145.992 73.775 Q142.381 73.775 140.552 77.3398 Q138.746 80.8814 138.746 88.011 Q138.746 95.1174 140.552 98.6822 Q142.381 102.224 145.992 102.224 Q149.626 102.224 151.431 98.6822 Q153.26 95.1174 153.26 88.011 Q153.26 80.8814 151.431 77.3398 Q149.626 73.775 145.992 73.775 M145.992 70.0713 Q151.802 70.0713 154.857 74.6777 Q157.936 79.261 157.936 88.011 Q157.936 96.7378 154.857 101.344 Q151.802 105.928 145.992 105.928 Q140.181 105.928 137.103 101.344 Q134.047 96.7378 134.047 88.011 Q134.047 79.261 137.103 74.6777 Q140.181 70.0713 145.992 70.0713 Z\" fill=\"#000000\" fill-rule=\"evenodd\" fill-opacity=\"1\" /><polyline clip-path=\"url(#clip822)\" style=\"stroke:#009af9; stroke-linecap:butt; stroke-linejoin:round; stroke-width:4; stroke-opacity:1; fill:none\" points=\"\n  255.035,766.846 275.607,766.846 296.179,766.846 316.751,766.846 337.322,766.846 357.894,766.846 378.466,766.846 399.038,766.846 419.61,766.846 440.182,766.846 \n  460.754,766.846 481.326,766.846 501.898,766.846 522.47,766.846 543.042,766.846 563.614,766.846 584.186,87.9763 604.758,766.846 625.33,766.846 645.902,87.9763 \n  666.474,766.846 687.046,766.846 707.617,87.9763 728.189,766.846 748.761,766.846 769.333,766.846 789.905,766.846 810.477,766.846 831.049,766.846 851.621,766.846 \n  872.193,766.846 892.765,766.846 913.337,766.846 933.909,766.846 954.481,766.846 975.053,766.846 995.625,766.846 1016.2,766.846 1036.77,766.846 1057.34,87.9763 \n  1077.91,766.846 1098.48,766.846 1119.06,766.846 1139.63,766.846 1160.2,766.846 1180.77,766.846 1201.34,766.846 1221.92,766.846 1242.49,87.9763 1263.06,766.846 \n  1283.63,766.846 1304.2,766.846 1324.78,766.846 1345.35,87.9763 1365.92,766.846 1386.49,766.846 1407.06,766.846 1427.64,766.846 1448.21,766.846 1468.78,766.846 \n  1489.35,766.846 1509.92,766.846 1530.5,87.9763 1551.07,766.846 1571.64,766.846 1592.21,766.846 1612.78,87.9763 1633.35,766.846 1653.93,766.846 1674.5,766.846 \n  1695.07,766.846 1715.64,1445.72 1736.21,766.846 1756.79,766.846 1777.36,766.846 1797.93,766.846 1818.5,766.846 1839.07,766.846 1859.65,766.846 1880.22,766.846 \n  1900.79,766.846 1921.36,87.9763 1941.93,87.9763 1962.51,766.846 1983.08,766.846 2003.65,766.846 2024.22,766.846 2044.79,766.846 2065.37,766.846 2085.94,766.846 \n  2106.51,766.846 2127.08,766.846 2147.65,766.846 2168.23,766.846 2188.8,87.9763 2209.37,766.846 2229.94,766.846 2250.51,766.846 2271.09,766.846 2291.66,766.846 \n  \n  \"/>\n<polyline clip-path=\"url(#clip822)\" style=\"stroke:#e26f46; stroke-linecap:butt; stroke-linejoin:round; stroke-width:4; stroke-opacity:1; fill:none\" points=\"\n  255.035,766.846 275.607,766.846 296.179,766.846 316.751,766.846 337.322,766.846 357.894,766.846 378.466,766.846 399.038,766.846 419.61,766.846 440.182,766.846 \n  460.754,766.846 481.326,766.846 501.898,766.846 522.47,766.846 543.042,766.846 563.614,766.846 584.186,1445.72 604.758,766.846 625.33,766.846 645.902,1445.72 \n  666.474,766.846 687.046,766.846 707.617,1445.72 728.189,766.846 748.761,766.846 769.333,766.846 789.905,766.846 810.477,766.846 831.049,766.846 851.621,766.846 \n  872.193,766.846 892.765,766.846 913.337,766.846 933.909,766.846 954.481,766.846 975.053,766.846 995.625,766.846 1016.2,766.846 1036.77,766.846 1057.34,1445.72 \n  1077.91,766.846 1098.48,766.846 1119.06,766.846 1139.63,766.846 1160.2,766.846 1180.77,766.846 1201.34,766.846 1221.92,766.846 1242.49,1445.72 1263.06,766.846 \n  1283.63,766.846 1304.2,766.846 1324.78,766.846 1345.35,1445.72 1365.92,766.846 1386.49,766.846 1407.06,766.846 1427.64,766.846 1448.21,766.846 1468.78,766.846 \n  1489.35,766.846 1509.92,766.846 1530.5,1445.72 1551.07,766.846 1571.64,766.846 1592.21,766.846 1612.78,1445.72 1633.35,766.846 1653.93,766.846 1674.5,766.846 \n  1695.07,766.846 1715.64,87.9763 1736.21,766.846 1756.79,766.846 1777.36,766.846 1797.93,766.846 1818.5,766.846 1839.07,766.846 1859.65,766.846 1880.22,766.846 \n  1900.79,766.846 1921.36,1445.72 1941.93,1445.72 1962.51,766.846 1983.08,766.846 2003.65,766.846 2024.22,766.846 2044.79,766.846 2065.37,766.846 2085.94,766.846 \n  2106.51,766.846 2127.08,766.846 2147.65,766.846 2168.23,766.846 2188.8,1445.72 2209.37,766.846 2229.94,766.846 2250.51,766.846 2271.09,766.846 2291.66,766.846 \n  \n  \"/>\n<path clip-path=\"url(#clip820)\" d=\"\nM2015.79 250.738 L2280.8 250.738 L2280.8 95.2176 L2015.79 95.2176  Z\n  \" fill=\"#ffffff\" fill-rule=\"evenodd\" fill-opacity=\"1\"/>\n<polyline clip-path=\"url(#clip820)\" style=\"stroke:#000000; stroke-linecap:butt; stroke-linejoin:round; stroke-width:4; stroke-opacity:1; fill:none\" points=\"\n  2015.79,250.738 2280.8,250.738 2280.8,95.2176 2015.79,95.2176 2015.79,250.738 \n  \"/>\n<polyline clip-path=\"url(#clip820)\" style=\"stroke:#009af9; stroke-linecap:butt; stroke-linejoin:round; stroke-width:4; stroke-opacity:1; fill:none\" points=\"\n  2039.77,147.058 2183.7,147.058 \n  \"/>\n<path clip-path=\"url(#clip820)\" d=\"M2232.34 138.412 L2222.96 151.027 L2232.82 164.338 L2227.8 164.338 L2220.25 154.152 L2212.71 164.338 L2207.68 164.338 L2217.75 150.773 L2208.54 138.412 L2213.56 138.412 L2220.44 147.648 L2227.31 138.412 L2232.34 138.412 Z\" fill=\"#000000\" fill-rule=\"evenodd\" fill-opacity=\"1\" /><polyline clip-path=\"url(#clip820)\" style=\"stroke:#e26f46; stroke-linecap:butt; stroke-linejoin:round; stroke-width:4; stroke-opacity:1; fill:none\" points=\"\n  2039.77,198.898 2183.7,198.898 \n  \"/>\n<path clip-path=\"url(#clip820)\" d=\"M2219.58 193.238 Q2216.15 193.238 2214.16 195.923 Q2212.17 198.585 2212.17 203.238 Q2212.17 207.891 2214.14 210.576 Q2216.13 213.238 2219.58 213.238 Q2222.98 213.238 2224.97 210.553 Q2226.97 207.867 2226.97 203.238 Q2226.97 198.631 2224.97 195.946 Q2222.98 193.238 2219.58 193.238 M2219.58 189.627 Q2225.14 189.627 2228.31 193.238 Q2231.48 196.849 2231.48 203.238 Q2231.48 209.604 2228.31 213.238 Q2225.14 216.849 2219.58 216.849 Q2214 216.849 2210.83 213.238 Q2207.68 209.604 2207.68 203.238 Q2207.68 196.849 2210.83 193.238 Q2214 189.627 2219.58 189.627 Z\" fill=\"#000000\" fill-rule=\"evenodd\" fill-opacity=\"1\" /></svg>\n",
      "text/html": [
       "<?xml version=\"1.0\" encoding=\"utf-8\"?>\n",
       "<svg xmlns=\"http://www.w3.org/2000/svg\" xmlns:xlink=\"http://www.w3.org/1999/xlink\" width=\"600\" height=\"400\" viewBox=\"0 0 2400 1600\">\n",
       "<defs>\n",
       "  <clipPath id=\"clip870\">\n",
       "    <rect x=\"0\" y=\"0\" width=\"2400\" height=\"1600\"/>\n",
       "  </clipPath>\n",
       "</defs>\n",
       "<path clip-path=\"url(#clip870)\" d=\"\n",
       "M0 1600 L2400 1600 L2400 0 L0 0  Z\n",
       "  \" fill=\"#ffffff\" fill-rule=\"evenodd\" fill-opacity=\"1\"/>\n",
       "<defs>\n",
       "  <clipPath id=\"clip871\">\n",
       "    <rect x=\"480\" y=\"0\" width=\"1681\" height=\"1600\"/>\n",
       "  </clipPath>\n",
       "</defs>\n",
       "<path clip-path=\"url(#clip870)\" d=\"\n",
       "M193.936 1486.45 L2352.76 1486.45 L2352.76 47.2441 L193.936 47.2441  Z\n",
       "  \" fill=\"#ffffff\" fill-rule=\"evenodd\" fill-opacity=\"1\"/>\n",
       "<defs>\n",
       "  <clipPath id=\"clip872\">\n",
       "    <rect x=\"193\" y=\"47\" width=\"2160\" height=\"1440\"/>\n",
       "  </clipPath>\n",
       "</defs>\n",
       "<polyline clip-path=\"url(#clip872)\" style=\"stroke:#000000; stroke-linecap:butt; stroke-linejoin:round; stroke-width:2; stroke-opacity:0.1; fill:none\" points=\"\n",
       "  234.463,1486.45 234.463,47.2441 \n",
       "  \"/>\n",
       "<polyline clip-path=\"url(#clip872)\" style=\"stroke:#000000; stroke-linecap:butt; stroke-linejoin:round; stroke-width:2; stroke-opacity:0.1; fill:none\" points=\"\n",
       "  748.761,1486.45 748.761,47.2441 \n",
       "  \"/>\n",
       "<polyline clip-path=\"url(#clip872)\" style=\"stroke:#000000; stroke-linecap:butt; stroke-linejoin:round; stroke-width:2; stroke-opacity:0.1; fill:none\" points=\"\n",
       "  1263.06,1486.45 1263.06,47.2441 \n",
       "  \"/>\n",
       "<polyline clip-path=\"url(#clip872)\" style=\"stroke:#000000; stroke-linecap:butt; stroke-linejoin:round; stroke-width:2; stroke-opacity:0.1; fill:none\" points=\"\n",
       "  1777.36,1486.45 1777.36,47.2441 \n",
       "  \"/>\n",
       "<polyline clip-path=\"url(#clip872)\" style=\"stroke:#000000; stroke-linecap:butt; stroke-linejoin:round; stroke-width:2; stroke-opacity:0.1; fill:none\" points=\"\n",
       "  2291.66,1486.45 2291.66,47.2441 \n",
       "  \"/>\n",
       "<polyline clip-path=\"url(#clip870)\" style=\"stroke:#000000; stroke-linecap:butt; stroke-linejoin:round; stroke-width:4; stroke-opacity:1; fill:none\" points=\"\n",
       "  193.936,1486.45 2352.76,1486.45 \n",
       "  \"/>\n",
       "<polyline clip-path=\"url(#clip870)\" style=\"stroke:#000000; stroke-linecap:butt; stroke-linejoin:round; stroke-width:4; stroke-opacity:1; fill:none\" points=\"\n",
       "  234.463,1486.45 234.463,1467.55 \n",
       "  \"/>\n",
       "<polyline clip-path=\"url(#clip870)\" style=\"stroke:#000000; stroke-linecap:butt; stroke-linejoin:round; stroke-width:4; stroke-opacity:1; fill:none\" points=\"\n",
       "  748.761,1486.45 748.761,1467.55 \n",
       "  \"/>\n",
       "<polyline clip-path=\"url(#clip870)\" style=\"stroke:#000000; stroke-linecap:butt; stroke-linejoin:round; stroke-width:4; stroke-opacity:1; fill:none\" points=\"\n",
       "  1263.06,1486.45 1263.06,1467.55 \n",
       "  \"/>\n",
       "<polyline clip-path=\"url(#clip870)\" style=\"stroke:#000000; stroke-linecap:butt; stroke-linejoin:round; stroke-width:4; stroke-opacity:1; fill:none\" points=\"\n",
       "  1777.36,1486.45 1777.36,1467.55 \n",
       "  \"/>\n",
       "<polyline clip-path=\"url(#clip870)\" style=\"stroke:#000000; stroke-linecap:butt; stroke-linejoin:round; stroke-width:4; stroke-opacity:1; fill:none\" points=\"\n",
       "  2291.66,1486.45 2291.66,1467.55 \n",
       "  \"/>\n",
       "<path clip-path=\"url(#clip870)\" d=\"M234.463 1517.37 Q230.852 1517.37 229.023 1520.93 Q227.217 1524.47 227.217 1531.6 Q227.217 1538.71 229.023 1542.27 Q230.852 1545.82 234.463 1545.82 Q238.097 1545.82 239.903 1542.27 Q241.731 1538.71 241.731 1531.6 Q241.731 1524.47 239.903 1520.93 Q238.097 1517.37 234.463 1517.37 M234.463 1513.66 Q240.273 1513.66 243.328 1518.27 Q246.407 1522.85 246.407 1531.6 Q246.407 1540.33 243.328 1544.94 Q240.273 1549.52 234.463 1549.52 Q228.653 1549.52 225.574 1544.94 Q222.518 1540.33 222.518 1531.6 Q222.518 1522.85 225.574 1518.27 Q228.653 1513.66 234.463 1513.66 Z\" fill=\"#000000\" fill-rule=\"evenodd\" fill-opacity=\"1\" /><path clip-path=\"url(#clip870)\" d=\"M728.032 1544.91 L744.352 1544.91 L744.352 1548.85 L722.407 1548.85 L722.407 1544.91 Q725.069 1542.16 729.653 1537.53 Q734.259 1532.88 735.44 1531.53 Q737.685 1529.01 738.565 1527.27 Q739.467 1525.51 739.467 1523.82 Q739.467 1521.07 737.523 1519.33 Q735.602 1517.6 732.5 1517.6 Q730.301 1517.6 727.847 1518.36 Q725.417 1519.13 722.639 1520.68 L722.639 1515.95 Q725.463 1514.82 727.917 1514.24 Q730.37 1513.66 732.407 1513.66 Q737.778 1513.66 740.972 1516.35 Q744.166 1519.03 744.166 1523.52 Q744.166 1525.65 743.356 1527.57 Q742.569 1529.47 740.463 1532.07 Q739.884 1532.74 736.782 1535.95 Q733.68 1539.15 728.032 1544.91 Z\" fill=\"#000000\" fill-rule=\"evenodd\" fill-opacity=\"1\" /><path clip-path=\"url(#clip870)\" d=\"M754.213 1514.29 L772.569 1514.29 L772.569 1518.22 L758.495 1518.22 L758.495 1526.7 Q759.514 1526.35 760.532 1526.19 Q761.551 1526 762.569 1526 Q768.356 1526 771.736 1529.17 Q775.115 1532.34 775.115 1537.76 Q775.115 1543.34 771.643 1546.44 Q768.171 1549.52 761.852 1549.52 Q759.676 1549.52 757.407 1549.15 Q755.162 1548.78 752.754 1548.04 L752.754 1543.34 Q754.838 1544.47 757.06 1545.03 Q759.282 1545.58 761.759 1545.58 Q765.764 1545.58 768.102 1543.48 Q770.439 1541.37 770.439 1537.76 Q770.439 1534.15 768.102 1532.04 Q765.764 1529.94 761.759 1529.94 Q759.884 1529.94 758.009 1530.35 Q756.157 1530.77 754.213 1531.65 L754.213 1514.29 Z\" fill=\"#000000\" fill-rule=\"evenodd\" fill-opacity=\"1\" /><path clip-path=\"url(#clip870)\" d=\"M1237.76 1514.29 L1256.12 1514.29 L1256.12 1518.22 L1242.04 1518.22 L1242.04 1526.7 Q1243.06 1526.35 1244.08 1526.19 Q1245.1 1526 1246.12 1526 Q1251.9 1526 1255.28 1529.17 Q1258.66 1532.34 1258.66 1537.76 Q1258.66 1543.34 1255.19 1546.44 Q1251.72 1549.52 1245.4 1549.52 Q1243.22 1549.52 1240.95 1549.15 Q1238.71 1548.78 1236.3 1548.04 L1236.3 1543.34 Q1238.38 1544.47 1240.61 1545.03 Q1242.83 1545.58 1245.31 1545.58 Q1249.31 1545.58 1251.65 1543.48 Q1253.99 1541.37 1253.99 1537.76 Q1253.99 1534.15 1251.65 1532.04 Q1249.31 1529.94 1245.31 1529.94 Q1243.43 1529.94 1241.56 1530.35 Q1239.7 1530.77 1237.76 1531.65 L1237.76 1514.29 Z\" fill=\"#000000\" fill-rule=\"evenodd\" fill-opacity=\"1\" /><path clip-path=\"url(#clip870)\" d=\"M1277.87 1517.37 Q1274.26 1517.37 1272.43 1520.93 Q1270.63 1524.47 1270.63 1531.6 Q1270.63 1538.71 1272.43 1542.27 Q1274.26 1545.82 1277.87 1545.82 Q1281.51 1545.82 1283.31 1542.27 Q1285.14 1538.71 1285.14 1531.6 Q1285.14 1524.47 1283.31 1520.93 Q1281.51 1517.37 1277.87 1517.37 M1277.87 1513.66 Q1283.68 1513.66 1286.74 1518.27 Q1289.82 1522.85 1289.82 1531.6 Q1289.82 1540.33 1286.74 1544.94 Q1283.68 1549.52 1277.87 1549.52 Q1272.06 1549.52 1268.99 1544.94 Q1265.93 1540.33 1265.93 1531.6 Q1265.93 1522.85 1268.99 1518.27 Q1272.06 1513.66 1277.87 1513.66 Z\" fill=\"#000000\" fill-rule=\"evenodd\" fill-opacity=\"1\" /><path clip-path=\"url(#clip870)\" d=\"M1751.21 1514.29 L1773.44 1514.29 L1773.44 1516.28 L1760.89 1548.85 L1756 1548.85 L1767.81 1518.22 L1751.21 1518.22 L1751.21 1514.29 Z\" fill=\"#000000\" fill-rule=\"evenodd\" fill-opacity=\"1\" /><path clip-path=\"url(#clip870)\" d=\"M1782.6 1514.29 L1800.96 1514.29 L1800.96 1518.22 L1786.88 1518.22 L1786.88 1526.7 Q1787.9 1526.35 1788.92 1526.19 Q1789.94 1526 1790.96 1526 Q1796.75 1526 1800.12 1529.17 Q1803.5 1532.34 1803.5 1537.76 Q1803.5 1543.34 1800.03 1546.44 Q1796.56 1549.52 1790.24 1549.52 Q1788.06 1549.52 1785.8 1549.15 Q1783.55 1548.78 1781.14 1548.04 L1781.14 1543.34 Q1783.23 1544.47 1785.45 1545.03 Q1787.67 1545.58 1790.15 1545.58 Q1794.15 1545.58 1796.49 1543.48 Q1798.83 1541.37 1798.83 1537.76 Q1798.83 1534.15 1796.49 1532.04 Q1794.15 1529.94 1790.15 1529.94 Q1788.27 1529.94 1786.4 1530.35 Q1784.55 1530.77 1782.6 1531.65 L1782.6 1514.29 Z\" fill=\"#000000\" fill-rule=\"evenodd\" fill-opacity=\"1\" /><path clip-path=\"url(#clip870)\" d=\"M2251.26 1544.91 L2258.9 1544.91 L2258.9 1518.55 L2250.59 1520.21 L2250.59 1515.95 L2258.86 1514.29 L2263.53 1514.29 L2263.53 1544.91 L2271.17 1544.91 L2271.17 1548.85 L2251.26 1548.85 L2251.26 1544.91 Z\" fill=\"#000000\" fill-rule=\"evenodd\" fill-opacity=\"1\" /><path clip-path=\"url(#clip870)\" d=\"M2290.62 1517.37 Q2287 1517.37 2285.18 1520.93 Q2283.37 1524.47 2283.37 1531.6 Q2283.37 1538.71 2285.18 1542.27 Q2287 1545.82 2290.62 1545.82 Q2294.25 1545.82 2296.06 1542.27 Q2297.88 1538.71 2297.88 1531.6 Q2297.88 1524.47 2296.06 1520.93 Q2294.25 1517.37 2290.62 1517.37 M2290.62 1513.66 Q2296.43 1513.66 2299.48 1518.27 Q2302.56 1522.85 2302.56 1531.6 Q2302.56 1540.33 2299.48 1544.94 Q2296.43 1549.52 2290.62 1549.52 Q2284.81 1549.52 2281.73 1544.94 Q2278.67 1540.33 2278.67 1531.6 Q2278.67 1522.85 2281.73 1518.27 Q2284.81 1513.66 2290.62 1513.66 Z\" fill=\"#000000\" fill-rule=\"evenodd\" fill-opacity=\"1\" /><path clip-path=\"url(#clip870)\" d=\"M2320.78 1517.37 Q2317.17 1517.37 2315.34 1520.93 Q2313.53 1524.47 2313.53 1531.6 Q2313.53 1538.71 2315.34 1542.27 Q2317.17 1545.82 2320.78 1545.82 Q2324.41 1545.82 2326.22 1542.27 Q2328.05 1538.71 2328.05 1531.6 Q2328.05 1524.47 2326.22 1520.93 Q2324.41 1517.37 2320.78 1517.37 M2320.78 1513.66 Q2326.59 1513.66 2329.64 1518.27 Q2332.72 1522.85 2332.72 1531.6 Q2332.72 1540.33 2329.64 1544.94 Q2326.59 1549.52 2320.78 1549.52 Q2314.97 1549.52 2311.89 1544.94 Q2308.83 1540.33 2308.83 1531.6 Q2308.83 1522.85 2311.89 1518.27 Q2314.97 1513.66 2320.78 1513.66 Z\" fill=\"#000000\" fill-rule=\"evenodd\" fill-opacity=\"1\" /><polyline clip-path=\"url(#clip872)\" style=\"stroke:#000000; stroke-linecap:butt; stroke-linejoin:round; stroke-width:2; stroke-opacity:0.1; fill:none\" points=\"\n",
       "  193.936,1445.72 2352.76,1445.72 \n",
       "  \"/>\n",
       "<polyline clip-path=\"url(#clip872)\" style=\"stroke:#000000; stroke-linecap:butt; stroke-linejoin:round; stroke-width:2; stroke-opacity:0.1; fill:none\" points=\"\n",
       "  193.936,1106.28 2352.76,1106.28 \n",
       "  \"/>\n",
       "<polyline clip-path=\"url(#clip872)\" style=\"stroke:#000000; stroke-linecap:butt; stroke-linejoin:round; stroke-width:2; stroke-opacity:0.1; fill:none\" points=\"\n",
       "  193.936,766.846 2352.76,766.846 \n",
       "  \"/>\n",
       "<polyline clip-path=\"url(#clip872)\" style=\"stroke:#000000; stroke-linecap:butt; stroke-linejoin:round; stroke-width:2; stroke-opacity:0.1; fill:none\" points=\"\n",
       "  193.936,427.411 2352.76,427.411 \n",
       "  \"/>\n",
       "<polyline clip-path=\"url(#clip872)\" style=\"stroke:#000000; stroke-linecap:butt; stroke-linejoin:round; stroke-width:2; stroke-opacity:0.1; fill:none\" points=\"\n",
       "  193.936,87.9763 2352.76,87.9763 \n",
       "  \"/>\n",
       "<polyline clip-path=\"url(#clip870)\" style=\"stroke:#000000; stroke-linecap:butt; stroke-linejoin:round; stroke-width:4; stroke-opacity:1; fill:none\" points=\"\n",
       "  193.936,1486.45 193.936,47.2441 \n",
       "  \"/>\n",
       "<polyline clip-path=\"url(#clip870)\" style=\"stroke:#000000; stroke-linecap:butt; stroke-linejoin:round; stroke-width:4; stroke-opacity:1; fill:none\" points=\"\n",
       "  193.936,1445.72 212.834,1445.72 \n",
       "  \"/>\n",
       "<polyline clip-path=\"url(#clip870)\" style=\"stroke:#000000; stroke-linecap:butt; stroke-linejoin:round; stroke-width:4; stroke-opacity:1; fill:none\" points=\"\n",
       "  193.936,1106.28 212.834,1106.28 \n",
       "  \"/>\n",
       "<polyline clip-path=\"url(#clip870)\" style=\"stroke:#000000; stroke-linecap:butt; stroke-linejoin:round; stroke-width:4; stroke-opacity:1; fill:none\" points=\"\n",
       "  193.936,766.846 212.834,766.846 \n",
       "  \"/>\n",
       "<polyline clip-path=\"url(#clip870)\" style=\"stroke:#000000; stroke-linecap:butt; stroke-linejoin:round; stroke-width:4; stroke-opacity:1; fill:none\" points=\"\n",
       "  193.936,427.411 212.834,427.411 \n",
       "  \"/>\n",
       "<polyline clip-path=\"url(#clip870)\" style=\"stroke:#000000; stroke-linecap:butt; stroke-linejoin:round; stroke-width:4; stroke-opacity:1; fill:none\" points=\"\n",
       "  193.936,87.9763 212.834,87.9763 \n",
       "  \"/>\n",
       "<path clip-path=\"url(#clip870)\" d=\"M50.9921 1446.17 L80.6679 1446.17 L80.6679 1450.1 L50.9921 1450.1 L50.9921 1446.17 Z\" fill=\"#000000\" fill-rule=\"evenodd\" fill-opacity=\"1\" /><path clip-path=\"url(#clip870)\" d=\"M91.5706 1459.06 L99.2095 1459.06 L99.2095 1432.69 L90.8993 1434.36 L90.8993 1430.1 L99.1632 1428.44 L103.839 1428.44 L103.839 1459.06 L111.478 1459.06 L111.478 1463 L91.5706 1463 L91.5706 1459.06 Z\" fill=\"#000000\" fill-rule=\"evenodd\" fill-opacity=\"1\" /><path clip-path=\"url(#clip870)\" d=\"M120.922 1457.12 L125.807 1457.12 L125.807 1463 L120.922 1463 L120.922 1457.12 Z\" fill=\"#000000\" fill-rule=\"evenodd\" fill-opacity=\"1\" /><path clip-path=\"url(#clip870)\" d=\"M145.992 1431.51 Q142.381 1431.51 140.552 1435.08 Q138.746 1438.62 138.746 1445.75 Q138.746 1452.86 140.552 1456.42 Q142.381 1459.96 145.992 1459.96 Q149.626 1459.96 151.431 1456.42 Q153.26 1452.86 153.26 1445.75 Q153.26 1438.62 151.431 1435.08 Q149.626 1431.51 145.992 1431.51 M145.992 1427.81 Q151.802 1427.81 154.857 1432.42 Q157.936 1437 157.936 1445.75 Q157.936 1454.48 154.857 1459.08 Q151.802 1463.67 145.992 1463.67 Q140.181 1463.67 137.103 1459.08 Q134.047 1454.48 134.047 1445.75 Q134.047 1437 137.103 1432.42 Q140.181 1427.81 145.992 1427.81 Z\" fill=\"#000000\" fill-rule=\"evenodd\" fill-opacity=\"1\" /><path clip-path=\"url(#clip870)\" d=\"M51.9875 1106.73 L81.6633 1106.73 L81.6633 1110.67 L51.9875 1110.67 L51.9875 1106.73 Z\" fill=\"#000000\" fill-rule=\"evenodd\" fill-opacity=\"1\" /><path clip-path=\"url(#clip870)\" d=\"M101.756 1092.08 Q98.1447 1092.08 96.316 1095.64 Q94.5104 1099.19 94.5104 1106.32 Q94.5104 1113.42 96.316 1116.99 Q98.1447 1120.53 101.756 1120.53 Q105.39 1120.53 107.196 1116.99 Q109.024 1113.42 109.024 1106.32 Q109.024 1099.19 107.196 1095.64 Q105.39 1092.08 101.756 1092.08 M101.756 1088.38 Q107.566 1088.38 110.621 1092.98 Q113.7 1097.57 113.7 1106.32 Q113.7 1115.04 110.621 1119.65 Q107.566 1124.23 101.756 1124.23 Q95.9456 1124.23 92.8669 1119.65 Q89.8114 1115.04 89.8114 1106.32 Q89.8114 1097.57 92.8669 1092.98 Q95.9456 1088.38 101.756 1088.38 Z\" fill=\"#000000\" fill-rule=\"evenodd\" fill-opacity=\"1\" /><path clip-path=\"url(#clip870)\" d=\"M121.918 1117.68 L126.802 1117.68 L126.802 1123.56 L121.918 1123.56 L121.918 1117.68 Z\" fill=\"#000000\" fill-rule=\"evenodd\" fill-opacity=\"1\" /><path clip-path=\"url(#clip870)\" d=\"M137.033 1089 L155.39 1089 L155.39 1092.94 L141.316 1092.94 L141.316 1101.41 Q142.334 1101.06 143.353 1100.9 Q144.371 1100.71 145.39 1100.71 Q151.177 1100.71 154.556 1103.89 Q157.936 1107.06 157.936 1112.47 Q157.936 1118.05 154.464 1121.15 Q150.992 1124.23 144.672 1124.23 Q142.496 1124.23 140.228 1123.86 Q137.982 1123.49 135.575 1122.75 L135.575 1118.05 Q137.658 1119.19 139.881 1119.74 Q142.103 1120.3 144.58 1120.3 Q148.584 1120.3 150.922 1118.19 Q153.26 1116.08 153.26 1112.47 Q153.26 1108.86 150.922 1106.76 Q148.584 1104.65 144.58 1104.65 Q142.705 1104.65 140.83 1105.07 Q138.978 1105.48 137.033 1106.36 L137.033 1089 Z\" fill=\"#000000\" fill-rule=\"evenodd\" fill-opacity=\"1\" /><path clip-path=\"url(#clip870)\" d=\"M100.76 752.645 Q97.1493 752.645 95.3206 756.209 Q93.515 759.751 93.515 766.881 Q93.515 773.987 95.3206 777.552 Q97.1493 781.094 100.76 781.094 Q104.395 781.094 106.2 777.552 Q108.029 773.987 108.029 766.881 Q108.029 759.751 106.2 756.209 Q104.395 752.645 100.76 752.645 M100.76 748.941 Q106.571 748.941 109.626 753.547 Q112.705 758.131 112.705 766.881 Q112.705 775.608 109.626 780.214 Q106.571 784.797 100.76 784.797 Q94.9502 784.797 91.8715 780.214 Q88.816 775.608 88.816 766.881 Q88.816 758.131 91.8715 753.547 Q94.9502 748.941 100.76 748.941 Z\" fill=\"#000000\" fill-rule=\"evenodd\" fill-opacity=\"1\" /><path clip-path=\"url(#clip870)\" d=\"M120.922 778.246 L125.807 778.246 L125.807 784.126 L120.922 784.126 L120.922 778.246 Z\" fill=\"#000000\" fill-rule=\"evenodd\" fill-opacity=\"1\" /><path clip-path=\"url(#clip870)\" d=\"M145.992 752.645 Q142.381 752.645 140.552 756.209 Q138.746 759.751 138.746 766.881 Q138.746 773.987 140.552 777.552 Q142.381 781.094 145.992 781.094 Q149.626 781.094 151.431 777.552 Q153.26 773.987 153.26 766.881 Q153.26 759.751 151.431 756.209 Q149.626 752.645 145.992 752.645 M145.992 748.941 Q151.802 748.941 154.857 753.547 Q157.936 758.131 157.936 766.881 Q157.936 775.608 154.857 780.214 Q151.802 784.797 145.992 784.797 Q140.181 784.797 137.103 780.214 Q134.047 775.608 134.047 766.881 Q134.047 758.131 137.103 753.547 Q140.181 748.941 145.992 748.941 Z\" fill=\"#000000\" fill-rule=\"evenodd\" fill-opacity=\"1\" /><path clip-path=\"url(#clip870)\" d=\"M101.756 413.21 Q98.1447 413.21 96.316 416.775 Q94.5104 420.316 94.5104 427.446 Q94.5104 434.552 96.316 438.117 Q98.1447 441.659 101.756 441.659 Q105.39 441.659 107.196 438.117 Q109.024 434.552 109.024 427.446 Q109.024 420.316 107.196 416.775 Q105.39 413.21 101.756 413.21 M101.756 409.506 Q107.566 409.506 110.621 414.113 Q113.7 418.696 113.7 427.446 Q113.7 436.173 110.621 440.779 Q107.566 445.362 101.756 445.362 Q95.9456 445.362 92.8669 440.779 Q89.8114 436.173 89.8114 427.446 Q89.8114 418.696 92.8669 414.113 Q95.9456 409.506 101.756 409.506 Z\" fill=\"#000000\" fill-rule=\"evenodd\" fill-opacity=\"1\" /><path clip-path=\"url(#clip870)\" d=\"M121.918 438.812 L126.802 438.812 L126.802 444.691 L121.918 444.691 L121.918 438.812 Z\" fill=\"#000000\" fill-rule=\"evenodd\" fill-opacity=\"1\" /><path clip-path=\"url(#clip870)\" d=\"M137.033 410.131 L155.39 410.131 L155.39 414.066 L141.316 414.066 L141.316 422.538 Q142.334 422.191 143.353 422.029 Q144.371 421.844 145.39 421.844 Q151.177 421.844 154.556 425.015 Q157.936 428.187 157.936 433.603 Q157.936 439.182 154.464 442.284 Q150.992 445.362 144.672 445.362 Q142.496 445.362 140.228 444.992 Q137.982 444.622 135.575 443.881 L135.575 439.182 Q137.658 440.316 139.881 440.872 Q142.103 441.427 144.58 441.427 Q148.584 441.427 150.922 439.321 Q153.26 437.214 153.26 433.603 Q153.26 429.992 150.922 427.886 Q148.584 425.779 144.58 425.779 Q142.705 425.779 140.83 426.196 Q138.978 426.613 137.033 427.492 L137.033 410.131 Z\" fill=\"#000000\" fill-rule=\"evenodd\" fill-opacity=\"1\" /><path clip-path=\"url(#clip870)\" d=\"M91.5706 101.321 L99.2095 101.321 L99.2095 74.9555 L90.8993 76.6222 L90.8993 72.3629 L99.1632 70.6963 L103.839 70.6963 L103.839 101.321 L111.478 101.321 L111.478 105.256 L91.5706 105.256 L91.5706 101.321 Z\" fill=\"#000000\" fill-rule=\"evenodd\" fill-opacity=\"1\" /><path clip-path=\"url(#clip870)\" d=\"M120.922 99.3767 L125.807 99.3767 L125.807 105.256 L120.922 105.256 L120.922 99.3767 Z\" fill=\"#000000\" fill-rule=\"evenodd\" fill-opacity=\"1\" /><path clip-path=\"url(#clip870)\" d=\"M145.992 73.775 Q142.381 73.775 140.552 77.3398 Q138.746 80.8814 138.746 88.011 Q138.746 95.1174 140.552 98.6822 Q142.381 102.224 145.992 102.224 Q149.626 102.224 151.431 98.6822 Q153.26 95.1174 153.26 88.011 Q153.26 80.8814 151.431 77.3398 Q149.626 73.775 145.992 73.775 M145.992 70.0713 Q151.802 70.0713 154.857 74.6777 Q157.936 79.261 157.936 88.011 Q157.936 96.7378 154.857 101.344 Q151.802 105.928 145.992 105.928 Q140.181 105.928 137.103 101.344 Q134.047 96.7378 134.047 88.011 Q134.047 79.261 137.103 74.6777 Q140.181 70.0713 145.992 70.0713 Z\" fill=\"#000000\" fill-rule=\"evenodd\" fill-opacity=\"1\" /><polyline clip-path=\"url(#clip872)\" style=\"stroke:#009af9; stroke-linecap:butt; stroke-linejoin:round; stroke-width:4; stroke-opacity:1; fill:none\" points=\"\n",
       "  255.035,766.846 275.607,766.846 296.179,766.846 316.751,766.846 337.322,766.846 357.894,766.846 378.466,766.846 399.038,766.846 419.61,766.846 440.182,766.846 \n",
       "  460.754,766.846 481.326,766.846 501.898,766.846 522.47,766.846 543.042,766.846 563.614,766.846 584.186,87.9763 604.758,766.846 625.33,766.846 645.902,87.9763 \n",
       "  666.474,766.846 687.046,766.846 707.617,87.9763 728.189,766.846 748.761,766.846 769.333,766.846 789.905,766.846 810.477,766.846 831.049,766.846 851.621,766.846 \n",
       "  872.193,766.846 892.765,766.846 913.337,766.846 933.909,766.846 954.481,766.846 975.053,766.846 995.625,766.846 1016.2,766.846 1036.77,766.846 1057.34,87.9763 \n",
       "  1077.91,766.846 1098.48,766.846 1119.06,766.846 1139.63,766.846 1160.2,766.846 1180.77,766.846 1201.34,766.846 1221.92,766.846 1242.49,87.9763 1263.06,766.846 \n",
       "  1283.63,766.846 1304.2,766.846 1324.78,766.846 1345.35,87.9763 1365.92,766.846 1386.49,766.846 1407.06,766.846 1427.64,766.846 1448.21,766.846 1468.78,766.846 \n",
       "  1489.35,766.846 1509.92,766.846 1530.5,87.9763 1551.07,766.846 1571.64,766.846 1592.21,766.846 1612.78,87.9763 1633.35,766.846 1653.93,766.846 1674.5,766.846 \n",
       "  1695.07,766.846 1715.64,1445.72 1736.21,766.846 1756.79,766.846 1777.36,766.846 1797.93,766.846 1818.5,766.846 1839.07,766.846 1859.65,766.846 1880.22,766.846 \n",
       "  1900.79,766.846 1921.36,87.9763 1941.93,87.9763 1962.51,766.846 1983.08,766.846 2003.65,766.846 2024.22,766.846 2044.79,766.846 2065.37,766.846 2085.94,766.846 \n",
       "  2106.51,766.846 2127.08,766.846 2147.65,766.846 2168.23,766.846 2188.8,87.9763 2209.37,766.846 2229.94,766.846 2250.51,766.846 2271.09,766.846 2291.66,766.846 \n",
       "  \n",
       "  \"/>\n",
       "<polyline clip-path=\"url(#clip872)\" style=\"stroke:#e26f46; stroke-linecap:butt; stroke-linejoin:round; stroke-width:4; stroke-opacity:1; fill:none\" points=\"\n",
       "  255.035,766.846 275.607,766.846 296.179,766.846 316.751,766.846 337.322,766.846 357.894,766.846 378.466,766.846 399.038,766.846 419.61,766.846 440.182,766.846 \n",
       "  460.754,766.846 481.326,766.846 501.898,766.846 522.47,766.846 543.042,766.846 563.614,766.846 584.186,1445.72 604.758,766.846 625.33,766.846 645.902,1445.72 \n",
       "  666.474,766.846 687.046,766.846 707.617,1445.72 728.189,766.846 748.761,766.846 769.333,766.846 789.905,766.846 810.477,766.846 831.049,766.846 851.621,766.846 \n",
       "  872.193,766.846 892.765,766.846 913.337,766.846 933.909,766.846 954.481,766.846 975.053,766.846 995.625,766.846 1016.2,766.846 1036.77,766.846 1057.34,1445.72 \n",
       "  1077.91,766.846 1098.48,766.846 1119.06,766.846 1139.63,766.846 1160.2,766.846 1180.77,766.846 1201.34,766.846 1221.92,766.846 1242.49,1445.72 1263.06,766.846 \n",
       "  1283.63,766.846 1304.2,766.846 1324.78,766.846 1345.35,1445.72 1365.92,766.846 1386.49,766.846 1407.06,766.846 1427.64,766.846 1448.21,766.846 1468.78,766.846 \n",
       "  1489.35,766.846 1509.92,766.846 1530.5,1445.72 1551.07,766.846 1571.64,766.846 1592.21,766.846 1612.78,1445.72 1633.35,766.846 1653.93,766.846 1674.5,766.846 \n",
       "  1695.07,766.846 1715.64,87.9763 1736.21,766.846 1756.79,766.846 1777.36,766.846 1797.93,766.846 1818.5,766.846 1839.07,766.846 1859.65,766.846 1880.22,766.846 \n",
       "  1900.79,766.846 1921.36,1445.72 1941.93,1445.72 1962.51,766.846 1983.08,766.846 2003.65,766.846 2024.22,766.846 2044.79,766.846 2065.37,766.846 2085.94,766.846 \n",
       "  2106.51,766.846 2127.08,766.846 2147.65,766.846 2168.23,766.846 2188.8,1445.72 2209.37,766.846 2229.94,766.846 2250.51,766.846 2271.09,766.846 2291.66,766.846 \n",
       "  \n",
       "  \"/>\n",
       "<path clip-path=\"url(#clip870)\" d=\"\n",
       "M2015.79 250.738 L2280.8 250.738 L2280.8 95.2176 L2015.79 95.2176  Z\n",
       "  \" fill=\"#ffffff\" fill-rule=\"evenodd\" fill-opacity=\"1\"/>\n",
       "<polyline clip-path=\"url(#clip870)\" style=\"stroke:#000000; stroke-linecap:butt; stroke-linejoin:round; stroke-width:4; stroke-opacity:1; fill:none\" points=\"\n",
       "  2015.79,250.738 2280.8,250.738 2280.8,95.2176 2015.79,95.2176 2015.79,250.738 \n",
       "  \"/>\n",
       "<polyline clip-path=\"url(#clip870)\" style=\"stroke:#009af9; stroke-linecap:butt; stroke-linejoin:round; stroke-width:4; stroke-opacity:1; fill:none\" points=\"\n",
       "  2039.77,147.058 2183.7,147.058 \n",
       "  \"/>\n",
       "<path clip-path=\"url(#clip870)\" d=\"M2232.34 138.412 L2222.96 151.027 L2232.82 164.338 L2227.8 164.338 L2220.25 154.152 L2212.71 164.338 L2207.68 164.338 L2217.75 150.773 L2208.54 138.412 L2213.56 138.412 L2220.44 147.648 L2227.31 138.412 L2232.34 138.412 Z\" fill=\"#000000\" fill-rule=\"evenodd\" fill-opacity=\"1\" /><polyline clip-path=\"url(#clip870)\" style=\"stroke:#e26f46; stroke-linecap:butt; stroke-linejoin:round; stroke-width:4; stroke-opacity:1; fill:none\" points=\"\n",
       "  2039.77,198.898 2183.7,198.898 \n",
       "  \"/>\n",
       "<path clip-path=\"url(#clip870)\" d=\"M2219.58 193.238 Q2216.15 193.238 2214.16 195.923 Q2212.17 198.585 2212.17 203.238 Q2212.17 207.891 2214.14 210.576 Q2216.13 213.238 2219.58 213.238 Q2222.98 213.238 2224.97 210.553 Q2226.97 207.867 2226.97 203.238 Q2226.97 198.631 2224.97 195.946 Q2222.98 193.238 2219.58 193.238 M2219.58 189.627 Q2225.14 189.627 2228.31 193.238 Q2231.48 196.849 2231.48 203.238 Q2231.48 209.604 2228.31 213.238 Q2225.14 216.849 2219.58 216.849 Q2214 216.849 2210.83 213.238 Q2207.68 209.604 2207.68 203.238 Q2207.68 196.849 2210.83 193.238 Q2214 189.627 2219.58 189.627 Z\" fill=\"#000000\" fill-rule=\"evenodd\" fill-opacity=\"1\" /></svg>\n"
      ]
     },
     "metadata": {},
     "output_type": "display_data"
    }
   ],
   "source": [
    "plot(hook[x][]; label=\"x\")\n",
    "plot!(hook[o][]; label=\"o\")"
   ]
  },
  {
   "cell_type": "markdown",
   "metadata": {},
   "source": [
    "## Exercise\n",
    "\n",
    "As you can see, in most cases, we reach a tie. But why are there still some cases that don't reach a tie?\n",
    "\n",
    "Is it because we have not trained for enough time?\n",
    "\n",
    "Maybe. But a more possible reason is that we're still using the EpsilonGreedyExplorer in the testing mode.\n",
    "\n",
    "I leave it as an exercise to change the select_action to a greedy version and confirm that our trained policy reaches a tie everytime."
   ]
  },
  {
   "cell_type": "code",
   "execution_count": 80,
   "metadata": {},
   "outputs": [
    {
     "data": {
      "text/plain": [
       "select_action (generic function with 1 method)"
      ]
     },
     "metadata": {},
     "output_type": "display_data"
    }
   ],
   "source": [
    "explorer = EpsilonGreedyExplorer(0.0)\n",
    "\n",
    "function select_action(env, V)\n",
    "\tA = legal_action_space(env)\n",
    "    values = map(A) do a\n",
    "        V(child(env, a))\n",
    "    end\n",
    "\n",
    "    A[explorer(values)]\n",
    "end\n"
   ]
  },
  {
   "cell_type": "code",
   "execution_count": 82,
   "metadata": {},
   "outputs": [
    {
     "ename": "ErrorException",
     "evalue": "setfield!: immutable struct of type VBasedPolicy cannot be changed",
     "output_type": "error",
     "traceback": [
      "setfield!: immutable struct of type VBasedPolicy cannot be changed\n",
      "\n",
      "Stacktrace:\n",
      " [1] setproperty!(x::VBasedPolicy{MonteCarloLearner{TabularVApproximator{Vector{Float64}, InvDecay}, ReinforcementLearningZoo.FirstVisit, ReinforcementLearningZoo.NoSampling}, typeof(select_action)}, f::Symbol, v::Function)\n",
      "   @ Base ./Base.jl:43\n",
      " [2] top-level scope\n",
      "   @ /workspaces/ReinforcementLearningAnIntroduction.jl/jupyter-notebook/Chapter01_Tic_Tac_Toe.ipynb:2"
     ]
    }
   ],
   "source": [
    "policies2 = policies\n",
    "policies2.agents[x].policy.policy.mapping = select_action"
   ]
  },
  {
   "cell_type": "code",
   "execution_count": null,
   "metadata": {},
   "outputs": [],
   "source": []
  },
  {
   "cell_type": "code",
   "execution_count": null,
   "metadata": {},
   "outputs": [],
   "source": [
    "policies = MultiAgentManager(\n",
    "\t(\n",
    "\t\tAgent(\n",
    "\t\t\tpolicy = NamedPolicy(\n",
    "\t\t\t\tp => VBasedPolicy(;\n",
    "\t\t\t\t\tlearner=MonteCarloLearner(;\n",
    "\t\t\t\t\t\tapproximator = TabularVApproximator(;\n",
    "\t\t\t\t\t\t\tn_state=length(state_space(E)),\n",
    "\t\t\t\t\t\t\tinit=0.,\n",
    "\t\t\t\t\t\t\topt=InvDecay(1.0)\n",
    "\t\t\t\t\t\t),\n",
    "\t\t\t\t\t\tγ = 1.0,\n",
    "\t\t\t\t\t\tkind = FIRST_VISIT,\n",
    "\t\t\t\t\t\tsampling = NO_SAMPLING\n",
    "\t\t\t\t\t),\n",
    "\t\t\t\t\tmapping = select_action\n",
    "\t\t\t\t)\n",
    "\t\t\t),\n",
    "\t\t\ttrajectory =VectorSARTTrajectory(\n",
    "\t\t\t\t\t;state=Int,\n",
    "\t\t\t\t\taction=Union{Int, NoOp},\n",
    "\t\t\t\t\treward=Int,\n",
    "\t\t\t\t\tterminal=Bool\n",
    "\t\t\t)\n",
    "\t\t)\n",
    "\t\tfor p in players(E)\n",
    "\t)...\n",
    ")"
   ]
  },
  {
   "cell_type": "code",
   "execution_count": null,
   "metadata": {},
   "outputs": [],
   "source": []
  },
  {
   "cell_type": "code",
   "execution_count": null,
   "metadata": {},
   "outputs": [],
   "source": []
  },
  {
   "cell_type": "code",
   "execution_count": null,
   "metadata": {},
   "outputs": [],
   "source": []
  },
  {
   "cell_type": "code",
   "execution_count": null,
   "metadata": {},
   "outputs": [],
   "source": []
  },
  {
   "cell_type": "code",
   "execution_count": null,
   "metadata": {},
   "outputs": [],
   "source": []
  },
  {
   "cell_type": "code",
   "execution_count": null,
   "metadata": {},
   "outputs": [],
   "source": []
  },
  {
   "cell_type": "code",
   "execution_count": null,
   "metadata": {},
   "outputs": [],
   "source": []
  },
  {
   "cell_type": "code",
   "execution_count": null,
   "metadata": {},
   "outputs": [],
   "source": []
  },
  {
   "cell_type": "code",
   "execution_count": null,
   "metadata": {},
   "outputs": [],
   "source": []
  },
  {
   "cell_type": "code",
   "execution_count": null,
   "metadata": {},
   "outputs": [],
   "source": []
  },
  {
   "cell_type": "code",
   "execution_count": null,
   "metadata": {},
   "outputs": [],
   "source": []
  }
 ],
 "metadata": {
  "kernelspec": {
   "display_name": "Julia 1.7.2",
   "language": "julia",
   "name": "julia-1.7"
  },
  "language_info": {
   "file_extension": ".jl",
   "mimetype": "application/julia",
   "name": "julia",
   "version": "1.7.2"
  },
  "orig_nbformat": 4
 },
 "nbformat": 4,
 "nbformat_minor": 2
}
